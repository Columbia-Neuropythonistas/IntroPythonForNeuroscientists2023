{
 "cells": [
  {
   "cell_type": "markdown",
   "metadata": {},
   "source": [
    "### Week 4 (continued) - HM"
   ]
  },
  {
   "cell_type": "markdown",
   "metadata": {
    "id": "CnlV8PVo_S0P"
   },
   "source": [
    "## Enumerate\n",
    "\n",
    "Enumerate lets you access both the index and the item itself for an item in a list -- this is useful when you want access to both the item and the index of that item in the body of the loop. You can always access the item by using `item = list[index]` but enumerate lets you shorten this."
   ]
  },
  {
   "cell_type": "code",
   "execution_count": null,
   "metadata": {
    "id": "mj8rJu7c_Quv"
   },
   "outputs": [],
   "source": [
    "# define a dictionary\n",
    "expat = {\n",
    "    \"appetizer\": ['cauliflower wings', 'tater tots'],\n",
    "    \"main\": ['curry', 'burger'],\n",
    "    \"dessert\": ['ice cream', 'pastry']\n",
    "\n",
    "}"
   ]
  },
  {
   "cell_type": "code",
   "execution_count": null,
   "metadata": {},
   "outputs": [],
   "source": [
    "for item in expat:\n",
    "    print(item)"
   ]
  },
  {
   "cell_type": "code",
   "execution_count": null,
   "metadata": {
    "colab": {
     "base_uri": "https://localhost:8080/"
    },
    "id": "9tR3EdVB_W-v",
    "outputId": "262a47ba-2a78-415a-ae5d-4778119318cb"
   },
   "outputs": [],
   "source": [
    "for item in expat[\"appetizer\"]:\n",
    "  print(item)"
   ]
  },
  {
   "cell_type": "code",
   "execution_count": null,
   "metadata": {
    "colab": {
     "base_uri": "https://localhost:8080/"
    },
    "id": "hmISpZPI_VTP",
    "outputId": "11e626ff-82fd-4a7e-ab35-cd2acc3c1369"
   },
   "outputs": [],
   "source": [
    "# What if we want both the index and the value at that index for a list?\n",
    "for i in range(len(expat[\"appetizer\"])):\n",
    "  print(i, expat[\"appetizer\"][i])"
   ]
  },
  {
   "cell_type": "code",
   "execution_count": null,
   "metadata": {
    "colab": {
     "base_uri": "https://localhost:8080/"
    },
    "id": "PKbsVzlR_Yyd",
    "outputId": "ceec7613-43f0-47f8-e2f7-3d2be172a454"
   },
   "outputs": [],
   "source": [
    "# Enumerate lets us get both at the same time elegantly!\n",
    "for i, item in enumerate(expat[\"appetizer\"]):\n",
    "  print(i, item)"
   ]
  },
  {
   "cell_type": "code",
   "execution_count": null,
   "metadata": {
    "colab": {
     "base_uri": "https://localhost:8080/"
    },
    "id": "KiVTPBit_agf",
    "outputId": "175706fb-24f8-4acc-8cec-136a2345b8be"
   },
   "outputs": [],
   "source": [
    "# We can also use enumerate with the dictionary to number (key, value) pairs.\n",
    "for i, (key, value) in enumerate(expat.items()):\n",
    "  print(i, key, value)"
   ]
  },
  {
   "cell_type": "markdown",
   "metadata": {
    "id": "yyxCguLM_gae"
   },
   "source": [
    "### Exercise:\n",
    "\n",
    "Can you use a for loop with enumerate to remove all odd numbers from `evens`, so that `evens` contains all the even digits? Use `pop` or `del`, don't use `remove` for this."
   ]
  },
  {
   "cell_type": "code",
   "execution_count": null,
   "metadata": {
    "id": "38LpGBRDVqAm"
   },
   "outputs": [],
   "source": []
  },
  {
   "cell_type": "markdown",
   "metadata": {
    "id": "T7qaN74zAzyL"
   },
   "source": [
    "# While loops\n",
    "\n",
    "While loops, unlike for loops, will iterate indefinitely, until the condition following the while is False. You might want to do this if you are using an iterative algorithm where you want the performance to get above a certain level before stopping, for example with machine learning (more on this later)."
   ]
  },
  {
   "cell_type": "code",
   "execution_count": null,
   "metadata": {},
   "outputs": [],
   "source": [
    "i = 0\n",
    "while i<10:\n",
    "    print(i)\n",
    "    i = i + 1"
   ]
  },
  {
   "cell_type": "code",
   "execution_count": null,
   "metadata": {},
   "outputs": [],
   "source": [
    "for i in range(10):\n",
    "    print(i)"
   ]
  },
  {
   "cell_type": "code",
   "execution_count": null,
   "metadata": {
    "colab": {
     "base_uri": "https://localhost:8080/"
    },
    "id": "a1LkUiWn_kzk",
    "outputId": "00a2d26d-b72b-47da-de23-8f4b2613a71f"
   },
   "outputs": [],
   "source": [
    "# While loops\n",
    "# find largest power of 2 less than 9000\n",
    "power = 0\n",
    "while 2**power < 9000:\n",
    "  power +=1\n",
    "power-=1\n",
    "print(2**power)"
   ]
  },
  {
   "cell_type": "markdown",
   "metadata": {
    "id": "8T82jN-OA6ES"
   },
   "source": [
    "If you put a condition that is never False, your code may run indefinitely, and you may have to interrupt your kernel to get it to stop."
   ]
  },
  {
   "cell_type": "code",
   "execution_count": null,
   "metadata": {
    "colab": {
     "base_uri": "https://localhost:8080/",
     "height": 1000
    },
    "id": "bG5S-RUZBCtD",
    "outputId": "9e9e02c5-f4e1-4432-9b34-7cea6036e50f"
   },
   "outputs": [],
   "source": [
    "i=0\n",
    "while i < 10:\n",
    "  print(i)"
   ]
  },
  {
   "cell_type": "markdown",
   "metadata": {
    "id": "0sPwWNa9BEXx"
   },
   "source": [
    "## Exercise:\n",
    "The Collatz sequence begins with some starting number. Given its previous number $n$, it generates the next number based on the following rule: if $n$ is even, the next number is $n/2$. If $n$ is odd, the next number is $3n+1$.\n",
    "\n",
    "Write some code below that generates the Collatz sequence for a starting number of $27$ until the number hits $1$."
   ]
  },
  {
   "cell_type": "code",
   "execution_count": null,
   "metadata": {
    "id": "EuQ_osmLA9mI"
   },
   "outputs": [],
   "source": [
    "# Collatz sequence\n"
   ]
  },
  {
   "cell_type": "markdown",
   "metadata": {
    "id": "425r6g5gBLt8"
   },
   "source": [
    "# Break and Continue\n",
    "\n",
    "`break` and `continue` are statements that can be used within loops.\n",
    "\n",
    "When code reaches a `continue` statement, it jumps to the next iteration of the loop without running the rest of the code in the loop.\n",
    "\n",
    "When code reaches a `break` statement it jumps outside the loop (skipping any remaining iterations) without running the rest of the code in the loop.\n",
    "\n",
    "A `pass` statement, finally is completely ignored. This is useful when code is required syntactically, but you don't actually want to run anything there.\n",
    "\n",
    "For these statements it may not be entirely clear right now what their purpose is, but they become particularly useful in managing more complex code."
   ]
  },
  {
   "cell_type": "code",
   "execution_count": null,
   "metadata": {
    "colab": {
     "base_uri": "https://localhost:8080/"
    },
    "id": "bAP5dWEWBQFD",
    "outputId": "59f38446-35cf-4654-d708-7b4f5de14c9a"
   },
   "outputs": [],
   "source": [
    "for i in range(10):\n",
    "  print('New loop')\n",
    "  if i==5:\n",
    "    break # Leaves the loop completely once it encounters this statement\n",
    "  print(i)"
   ]
  },
  {
   "cell_type": "code",
   "execution_count": null,
   "metadata": {
    "colab": {
     "base_uri": "https://localhost:8080/"
    },
    "id": "mQxP5ykrBSOd",
    "outputId": "05afb9cb-480f-4d71-c8ee-dccaa819c312"
   },
   "outputs": [],
   "source": [
    "for i in range(10):\n",
    "  print('New loop')\n",
    "  if i==5:\n",
    "    pass # Leaves the loop completely once it encounters this statement\n",
    "  print(i)"
   ]
  },
  {
   "cell_type": "code",
   "execution_count": null,
   "metadata": {
    "colab": {
     "base_uri": "https://localhost:8080/"
    },
    "id": "74DeTEeXBI_g",
    "outputId": "c52da6da-df7c-49cb-ef8e-10dad732f5ce"
   },
   "outputs": [],
   "source": [
    "for i in range(10):\n",
    "  print('New loop')\n",
    "  if i%2==0:\n",
    "    continue\n",
    "  print(i) # This command is skipped for all even numbers"
   ]
  },
  {
   "cell_type": "markdown",
   "metadata": {
    "id": "6bLeLWZuBVYB"
   },
   "source": [
    "## Exercises\n",
    "\n",
    "1. Fix this code so it runs."
   ]
  },
  {
   "cell_type": "code",
   "execution_count": null,
   "metadata": {},
   "outputs": [],
   "source": [
    "for i in range(10):"
   ]
  },
  {
   "cell_type": "markdown",
   "metadata": {
    "id": "ovV1aq2iBZ66"
   },
   "source": [
    "2. Add something we just learned about to this code so the last thing it prints is 10."
   ]
  },
  {
   "cell_type": "code",
   "execution_count": null,
   "metadata": {
    "id": "7ngxuj1KBYuH"
   },
   "outputs": [],
   "source": [
    "for i in range(15,-1,-1):\n",
    "    print(i)"
   ]
  },
  {
   "cell_type": "markdown",
   "metadata": {
    "id": "1CLlFR9OBhWC"
   },
   "source": [
    "3. Add something we just learned to the below code so it doesn't print multiples of 3\n"
   ]
  },
  {
   "cell_type": "code",
   "execution_count": null,
   "metadata": {
    "id": "LdjD1tOMBdjk"
   },
   "outputs": [],
   "source": [
    "for i in range(10):\n",
    "    print(i)"
   ]
  },
  {
   "cell_type": "markdown",
   "metadata": {
    "id": "oeEiJMgxBnJh"
   },
   "source": [
    "# Functions\n",
    "\n",
    "Currently, you are writing code simply by defining code that will be executed immediately. As you create larger codebases and share them with other people, it will be important for you to structure your code in functions: structure which execute a certain piece of code.\n",
    "\n",
    "For example, the Fibonacci sequence starts with $x_0=0$ and $x_1=1$. We then define $x_{j+2}=x_j+x_{j+1}$. The following functions prints out each value of the Fibonacci sequence until some value $n$.\n",
    "\n",
    "You can recognize functions by the `def` symbol in the beginning. `fibonacci` is the function's name and the variable in parentheses afterwards is an argument provided to the function. (Multiple arguments would be separated by commas.)\n"
   ]
  },
  {
   "cell_type": "code",
   "execution_count": null,
   "metadata": {
    "id": "m1hs159wBmGc"
   },
   "outputs": [],
   "source": [
    "def fibonacci(n):\n",
    "  \"\"\"\n",
    "  Print fibonnacci series up to n.\n",
    "  Args:\n",
    "      n (int): Maximum value of the fibonacci series to print.\n",
    "\n",
    "  \"\"\"\n",
    "  a,b = 0, 1\n",
    "  while a <n:\n",
    "    print(a)\n",
    "    next= a+b\n",
    "    a = b\n",
    "    b = next"
   ]
  },
  {
   "cell_type": "code",
   "execution_count": null,
   "metadata": {
    "colab": {
     "base_uri": "https://localhost:8080/"
    },
    "id": "GwHQSVH9Bslj",
    "outputId": "5d649f3f-47c4-40d3-bfd5-5681bb3de5ed"
   },
   "outputs": [],
   "source": [
    "fibonacci (3000)"
   ]
  },
  {
   "cell_type": "code",
   "execution_count": null,
   "metadata": {
    "colab": {
     "base_uri": "https://localhost:8080/"
    },
    "id": "RhTLplvXBuh8",
    "outputId": "2615aa3b-1f4e-4c6d-9024-397bbb7ec133"
   },
   "outputs": [],
   "source": [
    "help(fibonacci)"
   ]
  },
  {
   "cell_type": "markdown",
   "metadata": {
    "id": "LczLpH5GBy_f"
   },
   "source": [
    "## Exercise\n",
    "\n",
    "Write a function (called `collatz`) that takes in a starting value and prints out each value of the Collatz sequence. As a reminder, the rule was:\n",
    "- if the previous value $n$ was even, the next value is $n/2$.\n",
    "- if the previous value was odd, the next value is $3n+1$.\n",
    "Let the function end when the value taken is $1$."
   ]
  },
  {
   "cell_type": "code",
   "execution_count": null,
   "metadata": {
    "id": "GlFUahxvBx62"
   },
   "outputs": [],
   "source": []
  },
  {
   "cell_type": "code",
   "execution_count": null,
   "metadata": {
    "id": "OAoG3UELB5ny"
   },
   "outputs": [],
   "source": []
  },
  {
   "cell_type": "markdown",
   "metadata": {
    "id": "HR7gvMeGB_Xq"
   },
   "source": [
    "## return\n",
    "\n",
    "The return sequence leaves the function and returns any variable coming afterwards."
   ]
  },
  {
   "cell_type": "code",
   "execution_count": null,
   "metadata": {
    "id": "fm6KT6MUB8Zd"
   },
   "outputs": [],
   "source": [
    "def fib_return (n):\n",
    "  \"\"\"\n",
    "  Print fibonnacci series up to n.\n",
    "  Args:\n",
    "      n (int): Maximum value of the fibonacci series to return.\n",
    "  Returns:\n",
    "      list: List of fibonacci sequence values\n",
    "  \"\"\"\n",
    "\n",
    "  fib_list = []\n",
    "  a,b = 0, 1\n",
    "  while a <n:\n",
    "    fib_list.append(a)\n",
    "    next= a+b\n",
    "    a = b\n",
    "    b = next\n",
    "  return fib_list"
   ]
  },
  {
   "cell_type": "code",
   "execution_count": null,
   "metadata": {
    "colab": {
     "base_uri": "https://localhost:8080/"
    },
    "id": "E-ny6eM8CF6C",
    "outputId": "ff2e4202-3687-45be-8bfa-10edd8b0d3c2"
   },
   "outputs": [],
   "source": [
    "fib_return(1000)"
   ]
  },
  {
   "cell_type": "code",
   "execution_count": null,
   "metadata": {
    "id": "9qpbj7YaCHke"
   },
   "outputs": [],
   "source": [
    "my_fib_list = fib_return(1000)"
   ]
  },
  {
   "cell_type": "code",
   "execution_count": null,
   "metadata": {
    "colab": {
     "base_uri": "https://localhost:8080/"
    },
    "id": "HPTRBcdhCJcL",
    "outputId": "d4dc7dab-6add-4837-efa4-e9972e9a9ee9"
   },
   "outputs": [],
   "source": [
    "my_fib_list"
   ]
  },
  {
   "cell_type": "markdown",
   "metadata": {
    "id": "sRln9IGJCL_s"
   },
   "source": [
    "## Default arguments"
   ]
  },
  {
   "cell_type": "code",
   "execution_count": null,
   "metadata": {
    "colab": {
     "base_uri": "https://localhost:8080/",
     "height": 191
    },
    "id": "uxXoul6RCK7w",
    "outputId": "5111e1a5-ae9b-49a9-b65a-9eba78a1adaa"
   },
   "outputs": [],
   "source": [
    "# We cannot run fib_return without specifying n:\n",
    "fib_return()"
   ]
  },
  {
   "cell_type": "code",
   "execution_count": null,
   "metadata": {
    "id": "-V835vQjCQGR"
   },
   "outputs": [],
   "source": [
    "# Default arguments can be specified but don't have to be:\n",
    "def fib_return (n=1):\n",
    "  \"\"\"\n",
    "  Print fibonnacci series up to n.\n",
    "  Args:\n",
    "      n (int): Maximum value of the fibonacci series to return. Default value is 1.\n",
    "  Returns:\n",
    "      list: List of fibonacci sequence values\n",
    "  \"\"\"\n",
    "\n",
    "  fib_list = []\n",
    "  a,b = 0, 1\n",
    "  while a <n:\n",
    "    fib_list.append(a)\n",
    "    next= a+b\n",
    "    a = b\n",
    "    b = next\n",
    "  return fib_list"
   ]
  },
  {
   "cell_type": "code",
   "execution_count": null,
   "metadata": {
    "colab": {
     "base_uri": "https://localhost:8080/"
    },
    "id": "ebCLA2i0CTYR",
    "outputId": "3c75cb20-3f46-49ae-b1b6-b02c16388abf"
   },
   "outputs": [],
   "source": [
    "fib_return()"
   ]
  },
  {
   "cell_type": "code",
   "execution_count": null,
   "metadata": {
    "colab": {
     "base_uri": "https://localhost:8080/"
    },
    "id": "xygNbCn2CVYb",
    "outputId": "ebbf1878-18d9-4782-dead-88e3fd088047"
   },
   "outputs": [],
   "source": [
    "fib_return(10)"
   ]
  },
  {
   "cell_type": "markdown",
   "metadata": {
    "id": "8MsZzoxRCYpi"
   },
   "source": [
    "## Warning about default arguments\n",
    "\n",
    "Your default arguments should never be mutable. Otherwise repeated function calls can interact with each other."
   ]
  },
  {
   "cell_type": "code",
   "execution_count": null,
   "metadata": {
    "colab": {
     "base_uri": "https://localhost:8080/"
    },
    "id": "Meo-yJDJCXIZ",
    "outputId": "e03e6704-eb4a-4e7f-e33d-ed30a3544109"
   },
   "outputs": [],
   "source": [
    "# mutable arguments\n",
    "\n",
    "def f(a, L=[]):\n",
    "    L.append(a)\n",
    "    return L\n",
    "\n",
    "print(f(1)) # predict what will happen?\n",
    "print(f(2))\n",
    "print(f(3))"
   ]
  },
  {
   "cell_type": "code",
   "execution_count": null,
   "metadata": {
    "id": "-X_jjjJTChU1"
   },
   "outputs": [],
   "source": [
    "# Which data types are mutable -> dictionaries and lists"
   ]
  },
  {
   "cell_type": "code",
   "execution_count": null,
   "metadata": {
    "colab": {
     "base_uri": "https://localhost:8080/"
    },
    "id": "FJPmGwvPCkrO",
    "outputId": "d0fe2751-105c-4adc-9eba-4f2d4dcdf29a"
   },
   "outputs": [],
   "source": [
    "# Solution\n",
    "def f(a, L=None):\n",
    "    if L is None: # None now provides a marker that we would like to use the default argument.\n",
    "        L = []\n",
    "    L.append(a)\n",
    "    return L\n",
    "\n",
    "print(f(1))\n",
    "print(f(2))\n",
    "print(f(3))"
   ]
  },
  {
   "cell_type": "markdown",
   "metadata": {
    "id": "e4xuXi9sCoRI"
   },
   "source": [
    "## Args and kwargs\n",
    "\n",
    "You can also use a piece of code that allows you to provide arbitrary arguments (with or without keywords) to your function. If you use `*args` as one of the arguments of your function, this will take any unnamed argument and put all of them in a tuple:"
   ]
  },
  {
   "cell_type": "code",
   "execution_count": null,
   "metadata": {
    "colab": {
     "base_uri": "https://localhost:8080/"
    },
    "id": "-AJXkppJCmyQ",
    "outputId": "9ce45a07-044f-40b3-fe11-2754c40fbb66"
   },
   "outputs": [],
   "source": [
    "def f(a, *args):\n",
    "  print(a)\n",
    "  print(args)\n",
    "f(1, 2, 3)"
   ]
  },
  {
   "cell_type": "code",
   "execution_count": null,
   "metadata": {
    "colab": {
     "base_uri": "https://localhost:8080/"
    },
    "id": "ga5hxQwRCwzP",
    "outputId": "68168897-3487-448d-a7a8-07081ebddf7e"
   },
   "outputs": [],
   "source": [
    "f(1, 2, 3, 4)"
   ]
  },
  {
   "cell_type": "code",
   "execution_count": null,
   "metadata": {
    "colab": {
     "base_uri": "https://localhost:8080/"
    },
    "id": "_ZLKOpPxCyjl",
    "outputId": "68fe9355-dfe1-49c2-e31b-f619693c3378"
   },
   "outputs": [],
   "source": [
    "# The name args is not important\n",
    "def f(a, *variable):\n",
    "  print(a)\n",
    "  print(variable)\n",
    "f(1, 2, 3)\n",
    "f(1, 2, 3, 4)"
   ]
  },
  {
   "cell_type": "markdown",
   "metadata": {
    "id": "L3gIjQeUC2wT"
   },
   "source": [
    "Similarly, if you put two asterisks in front of your variable (e.g. ``**kwargs``), it will assign all names variables to kwargs (in a dictionary format)."
   ]
  },
  {
   "cell_type": "code",
   "execution_count": null,
   "metadata": {
    "colab": {
     "base_uri": "https://localhost:8080/"
    },
    "id": "chPFtWNmC0St",
    "outputId": "0ffad5a2-cadf-4718-c923-dc47743d603d"
   },
   "outputs": [],
   "source": [
    "def f(a, **kwargs):\n",
    "  print(a)\n",
    "  print(kwargs)\n",
    "f(a=1, b=2, c=3)"
   ]
  },
  {
   "cell_type": "markdown",
   "metadata": {
    "id": "pCiQyoCcC_cH"
   },
   "source": [
    "Again, we're mostly explaining this so you are familiar with it later on, when it will become extremely useful."
   ]
  },
  {
   "cell_type": "markdown",
   "metadata": {
    "id": "FbnErvSyDVpy"
   },
   "source": [
    "# Errors\n",
    "\n",
    "By now, we have seen several pieces of code that have failed to run. In that case, Python does not only raise an error, but also specifies what exactly went wrong."
   ]
  },
  {
   "cell_type": "code",
   "execution_count": null,
   "metadata": {
    "colab": {
     "base_uri": "https://localhost:8080/",
     "height": 140
    },
    "id": "eUwWGfAtC6_U",
    "outputId": "4ce618ad-3c6c-4dc4-8792-f22478d8add0"
   },
   "outputs": [],
   "source": [
    "# A syntax error indicates that your code is not properly formatted:\n",
    "a = 2\n",
    "print(a+3"
   ]
  },
  {
   "cell_type": "code",
   "execution_count": null,
   "metadata": {
    "colab": {
     "base_uri": "https://localhost:8080/",
     "height": 208
    },
    "id": "xYzPnTf4DZM8",
    "outputId": "49a5dfc7-69a0-4660-8980-10752ca6ca37"
   },
   "outputs": [],
   "source": [
    "# A type error indicates that a function received an input of the wrong type\n",
    "a = '2'\n",
    "print(a+3)"
   ]
  },
  {
   "cell_type": "code",
   "execution_count": null,
   "metadata": {
    "colab": {
     "base_uri": "https://localhost:8080/",
     "height": 208
    },
    "id": "El-hKtbjDbHZ",
    "outputId": "52d5840c-4b4c-4aab-8be9-02fd2272e927"
   },
   "outputs": [],
   "source": [
    "# An index error suggests that it is not possible to index an object in the attempted way.\n",
    "a = [2, 3]\n",
    "a[3]"
   ]
  },
  {
   "cell_type": "markdown",
   "metadata": {
    "id": "i0z36NjgDfZB"
   },
   "source": [
    "You can return errors yourself using the command `raise`:"
   ]
  },
  {
   "cell_type": "code",
   "execution_count": null,
   "metadata": {
    "colab": {
     "base_uri": "https://localhost:8080/",
     "height": 208
    },
    "id": "0OtPGaA9DdCC",
    "outputId": "45be67b9-d275-4b3c-ba80-28189b015b43"
   },
   "outputs": [],
   "source": [
    "a = 3\n",
    "if a == 3:\n",
    "  raise ValueError('a should not be three')"
   ]
  },
  {
   "cell_type": "markdown",
   "metadata": {
    "id": "ovw807R8Di9O"
   },
   "source": [
    "## Exercise\n",
    "Write a function `integer_add` that takes two arguments and adds them together. If either of the arguments are not integers, it should raise an error. What is the correct error for this issue?"
   ]
  },
  {
   "cell_type": "code",
   "execution_count": null,
   "metadata": {
    "id": "9NIAPPmyWBn1"
   },
   "outputs": [],
   "source": []
  },
  {
   "cell_type": "markdown",
   "metadata": {
    "id": "KZXg3FLODsMo"
   },
   "source": [
    "# Try / Except\n",
    "\n",
    "\n",
    "`try` tries the code in the `try` codeblock, and if it gives an error, runs code in an `except` code block. Best practice is to specify the errors you expect in the `except` statement so that you don't accidentally allow an unexpected error to go by unreported and unnoticed.\n",
    "\n",
    "For example, lets say that we want to count the number of occurrences of each letter in a given word -- for this example we will use abracadabra, but we want our code to work on any word.\n",
    "\n",
    "We might decide to do this using a dictionary where the keys are the letters and the values are the number of times that letter has occurred. We only want to have letters that do occur in the word as keys in our dictionary."
   ]
  },
  {
   "cell_type": "code",
   "execution_count": null,
   "metadata": {
    "colab": {
     "base_uri": "https://localhost:8080/",
     "height": 208
    },
    "id": "sb6n1GccDrQw",
    "outputId": "12410fe6-86c7-4a29-f6a5-7fa1c0e46088"
   },
   "outputs": [],
   "source": [
    "word = \"abracadabra\"\n",
    "\n",
    "letter_counts = {}\n",
    "for letter in word: # we can loop through strings like lists or tuples.\n",
    "  letter_counts[letter]+=1 # add one to the value at key letter\n",
    "letter_counts"
   ]
  },
  {
   "cell_type": "code",
   "execution_count": null,
   "metadata": {
    "colab": {
     "base_uri": "https://localhost:8080/"
    },
    "id": "DeM2_CZ5Dx-m",
    "outputId": "43d250b3-f832-4a66-ac8c-29ac1abe36ba"
   },
   "outputs": [],
   "source": [
    "word = \"abracadabra\"\n",
    "\n",
    "\n",
    "letter_counts = {}\n",
    "for letter in word:\n",
    "  try:\n",
    "    letter_counts[letter]+=1\n",
    "  except KeyError: # we specify the type of error we expect here\n",
    "    letter_counts[letter] = 1\n",
    "\n",
    "print(letter_counts)"
   ]
  },
  {
   "cell_type": "markdown",
   "metadata": {
    "id": "-Kd8oB-cD2vz"
   },
   "source": [
    "See below for why it is important to specify the type of error you expect. Since we specified the type of error we expected and got a different error, we still find out that there is an error, and can take precautions to make sure we don't, for example, overwrite important info."
   ]
  },
  {
   "cell_type": "code",
   "execution_count": null,
   "metadata": {
    "colab": {
     "base_uri": "https://localhost:8080/",
     "height": 242
    },
    "id": "qNpBOmraD0Y5",
    "outputId": "eb58a596-5f9c-48c4-c61e-90d6a928c7ed"
   },
   "outputs": [],
   "source": [
    "word = \"abracadabra\"\n",
    "\n",
    "\n",
    "letter_counts = {}\n",
    "letter_counts['a'] = \"important info that should not be overwritten\" # something unexpected as a value\n",
    "for letter in word:\n",
    "  try:\n",
    "    letter_counts[letter]+=1\n",
    "  except KeyError: # we specify the type of error we expect here\n",
    "    letter_counts[letter] = 1\n",
    "\n",
    "print(letter_counts)"
   ]
  },
  {
   "cell_type": "markdown",
   "metadata": {
    "id": "tYhdSCHzD9F5"
   },
   "source": [
    "What happens if you do not specify KeyError after `except` and just write `except:`?\n",
    "\n",
    "Try modifying below."
   ]
  },
  {
   "cell_type": "code",
   "execution_count": null,
   "metadata": {
    "colab": {
     "base_uri": "https://localhost:8080/",
     "height": 242
    },
    "id": "Yymh343wD6kT",
    "outputId": "ae74c43b-5afa-42e4-bfb3-a189e310fe77"
   },
   "outputs": [],
   "source": [
    "word = \"abracadabra\"\n",
    "\n",
    "\n",
    "letter_counts = {}\n",
    "letter_counts['a'] = \"important info that should not be overwritten\" # something unexpected as a value\n",
    "for letter in word:\n",
    "  try:\n",
    "    letter_counts[letter]+=1\n",
    "  except: # we specify the type of error we expect here\n",
    "    print('I found an error')\n",
    "    letter_counts[letter] = 1\n",
    "\n",
    "print(letter_counts)"
   ]
  },
  {
   "cell_type": "markdown",
   "metadata": {
    "id": "LLj8zyJEEGFy"
   },
   "source": [
    "### Exercise:\n",
    "Use try/except to write code that takes numbers a and b and prints a/b. If it gets an error (for example b is 0), it should instead print \"Cannot divide by zero\". Try your code with a few different choices of a and b to make sure it works correctly."
   ]
  },
  {
   "cell_type": "code",
   "execution_count": null,
   "metadata": {
    "id": "2WHXtuSiEDvU"
   },
   "outputs": [],
   "source": []
  }
 ],
 "metadata": {
  "colab": {
   "provenance": []
  },
  "kernelspec": {
   "display_name": "Python 3 (ipykernel)",
   "language": "python",
   "name": "python3"
  },
  "language_info": {
   "codemirror_mode": {
    "name": "ipython",
    "version": 3
   },
   "file_extension": ".py",
   "mimetype": "text/x-python",
   "name": "python",
   "nbconvert_exporter": "python",
   "pygments_lexer": "ipython3",
   "version": "3.11.4"
  }
 },
 "nbformat": 4,
 "nbformat_minor": 1
}
