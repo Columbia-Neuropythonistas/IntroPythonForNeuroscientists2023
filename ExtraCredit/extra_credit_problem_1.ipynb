{
 "cells": [
  {
   "cell_type": "markdown",
   "metadata": {},
   "source": [
    "## Ship Names EXTRA CREDIT Problem\n",
    "You and your friends are really into the newest season of some reality TV show where everyone speed dates each other, and you are trying to think of couple names (ship names) for several pairs. A common heuristic for coming up with couple names is combining the first syllable of one person's name with the LAST syllable of the other person's name. So, for example, the couple name for `Sharon` and `Janet` would be `Shanet`, combining the first syllable `Sha` from Sharon and the last syllable `net` from `Janet`.\n",
    "\n",
    "Rules for syllable parsing:\n",
    "If a vowel (letters aeiouy) is followed by a consonant, that vowel marks the end of the syllable. (e.g. in `Sharon`, `a` is followed by `r`, and thus, the first syllable is `Sha`). EXCEPT, if `sh` follows a vowel, then `sh` marks the end of that syllable. e.g. the first syllable of `Ashley` is `Ash`, not `As`\n",
    "\n",
    "However, what if you have a couple with the names `Aaron` and `Sharon`? Combining the first syllable and last syllable from those two names would yield `Aaron`, and switching the order (where we take the first syllable from Sharon, and the last syllable from Aaron) would yield `Sharon`. These are BORING couple names, because the output is the same as one of the names of the people in the couple. In these cases, you would want to combine the first syllable from `Aaron` with the first syllable from `Sharon`, thus yielding `AaSha`, a much better couple name.\n",
    "\n",
    "Write some code that sets variable `couple_name` to a suitable couple name for a couple with names assigned to variables `person1` and `person2`.\n",
    "\n",
    "Note: You MUST use the variable names written in the function definition (e.g. for this problem, it would be `person1` and `person2`). These variables are type hinted as strings in the function definition. "
   ]
  },
  {
   "cell_type": "code",
   "execution_count": null,
   "metadata": {},
   "outputs": [],
   "source": [
    "def name_generator(person1 : str, person2: str):\n",
    "    ###PUT YOUR CODE BELOW THIS LINE VVVVVVVV\n",
    "\n",
    "\n",
    "\n",
    "    \n",
    "    ###PUT YOUR CODE ABOVE THIS LINE ^^^^^^^^\n",
    "    return couple_name"
   ]
  },
  {
   "cell_type": "code",
   "execution_count": null,
   "metadata": {},
   "outputs": [],
   "source": [
    "# Test your function here!\n",
    "name_generator(person1='Aaron',person2='Sharon')"
   ]
  }
 ],
 "metadata": {
  "language_info": {
   "name": "python"
  }
 },
 "nbformat": 4,
 "nbformat_minor": 2
}
