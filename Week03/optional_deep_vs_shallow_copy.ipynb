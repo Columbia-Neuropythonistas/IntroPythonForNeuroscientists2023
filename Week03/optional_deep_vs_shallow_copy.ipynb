{
 "cells": [
  {
   "cell_type": "markdown",
   "metadata": {
    "id": "iQhjSGZ1MEVs"
   },
   "source": [
    "## Deep Copy x Shallow Copy"
   ]
  },
  {
   "cell_type": "code",
   "execution_count": null,
   "metadata": {
    "executionInfo": {
     "elapsed": 341,
     "status": "ok",
     "timestamp": 1694535586828,
     "user": {
      "displayName": "Renata Prôa Dalle Lucca",
      "userId": "09624302309573782555"
     },
     "user_tz": 240
    },
    "id": "_TKqlLbdL5F2"
   },
   "outputs": [],
   "source": [
    "teachers = ['Abhi', 'Sharon', 'Renata']"
   ]
  },
  {
   "cell_type": "code",
   "execution_count": null,
   "metadata": {
    "executionInfo": {
     "elapsed": 2,
     "status": "ok",
     "timestamp": 1694535587027,
     "user": {
      "displayName": "Renata Prôa Dalle Lucca",
      "userId": "09624302309573782555"
     },
     "user_tz": 240
    },
    "id": "JS9RAuV8MMi9"
   },
   "outputs": [],
   "source": [
    "from copy import deepcopy\n",
    "teachers_deep_copy = deepcopy(teachers) # deep here means that if I make a copy of a list of lists, the nested lists will be copies of the original.\n",
    "teachers_pointer = teachers"
   ]
  },
  {
   "cell_type": "markdown",
   "metadata": {
    "id": "gQ5MyVL2MSAV"
   },
   "source": [
    "Why does this matter? Lists are mutable!"
   ]
  },
  {
   "cell_type": "code",
   "execution_count": null,
   "metadata": {
    "executionInfo": {
     "elapsed": 139,
     "status": "ok",
     "timestamp": 1694535610674,
     "user": {
      "displayName": "Renata Prôa Dalle Lucca",
      "userId": "09624302309573782555"
     },
     "user_tz": 240
    },
    "id": "8xjNNzVMMNKF"
   },
   "outputs": [],
   "source": [
    "teachers_pointer +=['Sam', 'Jasmine', 'Angelica']"
   ]
  },
  {
   "cell_type": "code",
   "execution_count": null,
   "metadata": {
    "colab": {
     "base_uri": "https://localhost:8080/"
    },
    "executionInfo": {
     "elapsed": 215,
     "status": "ok",
     "timestamp": 1694535619023,
     "user": {
      "displayName": "Renata Prôa Dalle Lucca",
      "userId": "09624302309573782555"
     },
     "user_tz": 240
    },
    "id": "UfwVzzIYMW9y",
    "outputId": "f39a393a-8461-4786-cf89-529f78ff40e0"
   },
   "outputs": [],
   "source": [
    "teachers # teachers changed even though I modified teachers_pointer"
   ]
  },
  {
   "cell_type": "code",
   "execution_count": null,
   "metadata": {
    "colab": {
     "base_uri": "https://localhost:8080/"
    },
    "executionInfo": {
     "elapsed": 2,
     "status": "ok",
     "timestamp": 1694535628639,
     "user": {
      "displayName": "Renata Prôa Dalle Lucca",
      "userId": "09624302309573782555"
     },
     "user_tz": 240
    },
    "id": "mfVFSDtgMY6S",
    "outputId": "c65e7c5d-61a1-4331-88b6-82bf23a27487"
   },
   "outputs": [],
   "source": [
    "# that is because both teachers and teachers_pointer have the same id, so they are the same\n",
    "# changes I make to one apply to the other.\n",
    "print(id(teachers), id(teachers_pointer))"
   ]
  },
  {
   "cell_type": "code",
   "execution_count": null,
   "metadata": {
    "executionInfo": {
     "elapsed": 155,
     "status": "ok",
     "timestamp": 1694535640055,
     "user": {
      "displayName": "Renata Prôa Dalle Lucca",
      "userId": "09624302309573782555"
     },
     "user_tz": 240
    },
    "id": "VM1bAETmMbQI"
   },
   "outputs": [],
   "source": [
    "teachers_pointer[2] = 'renata' # lowercase my name"
   ]
  },
  {
   "cell_type": "code",
   "execution_count": null,
   "metadata": {
    "colab": {
     "base_uri": "https://localhost:8080/"
    },
    "executionInfo": {
     "elapsed": 137,
     "status": "ok",
     "timestamp": 1694535648169,
     "user": {
      "displayName": "Renata Prôa Dalle Lucca",
      "userId": "09624302309573782555"
     },
     "user_tz": 240
    },
    "id": "cpMQOD9jMeIX",
    "outputId": "f800fbc9-388e-45e6-cb55-782566662957"
   },
   "outputs": [],
   "source": [
    "teachers"
   ]
  },
  {
   "cell_type": "code",
   "execution_count": null,
   "metadata": {
    "colab": {
     "base_uri": "https://localhost:8080/"
    },
    "executionInfo": {
     "elapsed": 1,
     "status": "ok",
     "timestamp": 1694535660061,
     "user": {
      "displayName": "Renata Prôa Dalle Lucca",
      "userId": "09624302309573782555"
     },
     "user_tz": 240
    },
    "id": "QbAznfiuMgFr",
    "outputId": "215f4588-f833-4113-f77d-557fe82dff50"
   },
   "outputs": [],
   "source": [
    "# lets take a look at teachers_deep_copy -- do you think it will have changed?\n",
    "print(id(teachers_pointer), id(teachers_deep_copy))"
   ]
  },
  {
   "cell_type": "code",
   "execution_count": null,
   "metadata": {
    "colab": {
     "base_uri": "https://localhost:8080/"
    },
    "executionInfo": {
     "elapsed": 2,
     "status": "ok",
     "timestamp": 1694535675067,
     "user": {
      "displayName": "Renata Prôa Dalle Lucca",
      "userId": "09624302309573782555"
     },
     "user_tz": 240
    },
    "id": "JjNNPYeWMi-w",
    "outputId": "4905aef1-3dc6-4dd7-ae38-53c9c47ba0d1"
   },
   "outputs": [],
   "source": [
    "teachers_deep_copy # Didn't change!"
   ]
  },
  {
   "cell_type": "code",
   "execution_count": null,
   "metadata": {
    "colab": {
     "base_uri": "https://localhost:8080/"
    },
    "executionInfo": {
     "elapsed": 180,
     "status": "ok",
     "timestamp": 1694535691416,
     "user": {
      "displayName": "Renata Prôa Dalle Lucca",
      "userId": "09624302309573782555"
     },
     "user_tz": 240
    },
    "id": "nZQ8MbgxMmo4",
    "outputId": "2640acec-382e-4da1-f90f-fc5ed60fd95c"
   },
   "outputs": [],
   "source": [
    "teachers_pointer # Did change!"
   ]
  },
  {
   "cell_type": "code",
   "execution_count": null,
   "metadata": {
    "colab": {
     "base_uri": "https://localhost:8080/"
    },
    "executionInfo": {
     "elapsed": 296,
     "status": "ok",
     "timestamp": 1694535700303,
     "user": {
      "displayName": "Renata Prôa Dalle Lucca",
      "userId": "09624302309573782555"
     },
     "user_tz": 240
    },
    "id": "Sq-USfmXMqpk",
    "outputId": "18c78fef-57e6-4137-803a-70105e928a6e"
   },
   "outputs": [],
   "source": [
    "teachers # Did change!"
   ]
  },
  {
   "cell_type": "markdown",
   "metadata": {
    "id": "nvN3YiLLMxIT"
   },
   "source": [
    "### Exercise\n",
    "\n",
    "1. Are strings mutable or immutable?\n",
    "2. Are lists mutable or immutable?\n",
    "3. What will the following codeblock print?\n",
    "\n",
    "```\n",
    "grocery_list = ['apples']\n",
    "grocery_list_a = deepcopy(grocery_list)\n",
    "grocery_list_b = grocery_list\n",
    "grocery_list+=['pears']\n",
    "\n",
    "print(grocery_list) # 1\n",
    "print(grocery_list_a) # 2\n",
    "print(grocery_list_b) # 3\n",
    "\n",
    "grocery_list_b[0] = 'bananas'\n",
    "print(grocery_list) # 4\n",
    "print(grocery_list_a) # 5\n",
    "print(grocery_list_b) # 6\n",
    "\n",
    "grocery_list_b[0][0] = 'B'\n",
    "print(grocery_list) # 7\n",
    "print(grocery_list_a) # 8\n",
    "print(grocery_list_b) # 9\n",
    "\n",
    "grocery_list[0] = 'pineapple'\n",
    "print(grocery_list) # 10\n",
    "print(grocery_list_a) # 11\n",
    "print(grocery_list_b) # 12\n",
    "```"
   ]
  },
  {
   "cell_type": "code",
   "execution_count": null,
   "metadata": {
    "colab": {
     "base_uri": "https://localhost:8080/",
     "height": 310
    },
    "executionInfo": {
     "elapsed": 227,
     "status": "error",
     "timestamp": 1694535755062,
     "user": {
      "displayName": "Renata Prôa Dalle Lucca",
      "userId": "09624302309573782555"
     },
     "user_tz": 240
    },
    "id": "p0Fd0BsfMszo",
    "outputId": "eaf75d21-6590-4fde-9990-88752ff23dd4"
   },
   "outputs": [],
   "source": [
    "grocery_list = ['apples']\n",
    "grocery_list_a = deepcopy(grocery_list)\n",
    "grocery_list_b = grocery_list\n",
    "grocery_list+=['pears']\n",
    "\n",
    "print(grocery_list) # 1\n",
    "print(grocery_list_a) # 2\n",
    "print(grocery_list_b) # 3\n",
    "\n",
    "grocery_list_b[0] = 'bananas'\n",
    "print(grocery_list) # 4\n",
    "print(grocery_list_a) # 5\n",
    "print(grocery_list_b) # 6\n",
    "\n",
    "grocery_list_b[0][0] = 'B'"
   ]
  },
  {
   "cell_type": "code",
   "execution_count": null,
   "metadata": {
    "colab": {
     "base_uri": "https://localhost:8080/"
    },
    "executionInfo": {
     "elapsed": 146,
     "status": "ok",
     "timestamp": 1694535760873,
     "user": {
      "displayName": "Renata Prôa Dalle Lucca",
      "userId": "09624302309573782555"
     },
     "user_tz": 240
    },
    "id": "DGWzOqkcM6NI",
    "outputId": "abe40be7-14ac-461c-b23e-e90af2c5b203"
   },
   "outputs": [],
   "source": [
    "print(grocery_list) # 7\n",
    "print(grocery_list_a) # 8\n",
    "print(grocery_list_b) # 9\n",
    "\n",
    "grocery_list[0] = 'pineapple'\n",
    "print(grocery_list) # 10\n",
    "print(grocery_list_a) # 11\n",
    "print(grocery_list_b) # 12"
   ]
  },
  {
   "cell_type": "markdown",
   "metadata": {
    "id": "BeS7MlcvOKql"
   },
   "source": [
    "## List of Lists\n",
    "\n",
    "When you have a list that contains within it another mutable object, such as other lists, there are differences between `deepcopy` and the shallow `.copy` option that comes with lists.\n",
    "\n",
    "If you want to better uderstand the difference between shallow and deep copy, I would recommend reading [this article](https://python-course.eu/python-tutorial/shallow-and-deep-copy.php). The main takeaway is if you want to avoid changing the original list or the original list changing the copy, use deepcopy!\n"
   ]
  },
  {
   "cell_type": "code",
   "execution_count": null,
   "metadata": {
    "colab": {
     "base_uri": "https://localhost:8080/"
    },
    "executionInfo": {
     "elapsed": 161,
     "status": "ok",
     "timestamp": 1694536270201,
     "user": {
      "displayName": "Renata Prôa Dalle Lucca",
      "userId": "09624302309573782555"
     },
     "user_tz": 240
    },
    "id": "vcm7iPmcNKca",
    "outputId": "9450cccc-7a50-4b5d-9534-1c3073512208"
   },
   "outputs": [],
   "source": [
    "n=[1,2,3]\n",
    "s = ['a', 'b', 'c']\n",
    "list_of_list = [n,s]\n",
    "print(list_of_list)\n",
    "shallow_copy_list_of_list = list_of_list.copy() # shallow copy -- don't use this\n",
    "print(shallow_copy_list_of_list)\n",
    "deep_copy_list_of_list = deepcopy(list_of_list)\n",
    "print(deep_copy_list_of_list)"
   ]
  },
  {
   "cell_type": "code",
   "execution_count": null,
   "metadata": {
    "colab": {
     "base_uri": "https://localhost:8080/"
    },
    "executionInfo": {
     "elapsed": 175,
     "status": "ok",
     "timestamp": 1694536281670,
     "user": {
      "displayName": "Renata Prôa Dalle Lucca",
      "userId": "09624302309573782555"
     },
     "user_tz": 240
    },
    "id": "Yh0KvqaOO3-P",
    "outputId": "f3c72895-923c-400d-a619-26859637a3dc"
   },
   "outputs": [],
   "source": [
    "# append adds the argument inside the parentheses as one element in the list\n",
    "s.append(n)\n",
    "print(s)"
   ]
  },
  {
   "cell_type": "code",
   "execution_count": null,
   "metadata": {
    "colab": {
     "base_uri": "https://localhost:8080/"
    },
    "executionInfo": {
     "elapsed": 120,
     "status": "ok",
     "timestamp": 1694536289184,
     "user": {
      "displayName": "Renata Prôa Dalle Lucca",
      "userId": "09624302309573782555"
     },
     "user_tz": 240
    },
    "id": "1JvFcP6sO6vg",
    "outputId": "49e9084a-eeb9-43e9-deba-76060df5869d"
   },
   "outputs": [],
   "source": [
    "# appends each element of n to list s\n",
    "s.extend(n)\n",
    "print(s)"
   ]
  },
  {
   "cell_type": "code",
   "execution_count": null,
   "metadata": {
    "colab": {
     "base_uri": "https://localhost:8080/"
    },
    "executionInfo": {
     "elapsed": 145,
     "status": "ok",
     "timestamp": 1694536297977,
     "user": {
      "displayName": "Renata Prôa Dalle Lucca",
      "userId": "09624302309573782555"
     },
     "user_tz": 240
    },
    "id": "2dZGQRKOO8l2",
    "outputId": "ccfe6810-0695-4f00-ca5e-080f361ceaff"
   },
   "outputs": [],
   "source": [
    "print(n)\n",
    "print(s)"
   ]
  },
  {
   "cell_type": "code",
   "execution_count": null,
   "metadata": {
    "colab": {
     "base_uri": "https://localhost:8080/"
    },
    "executionInfo": {
     "elapsed": 2,
     "status": "ok",
     "timestamp": 1694536315649,
     "user": {
      "displayName": "Renata Prôa Dalle Lucca",
      "userId": "09624302309573782555"
     },
     "user_tz": 240
    },
    "id": "ol3bwv0oO-wa",
    "outputId": "1d148292-e83d-43ee-dd5a-20594ff70f01"
   },
   "outputs": [],
   "source": [
    "# will list_of_list have changed?\n",
    "list_of_list"
   ]
  },
  {
   "cell_type": "code",
   "execution_count": null,
   "metadata": {
    "colab": {
     "base_uri": "https://localhost:8080/"
    },
    "executionInfo": {
     "elapsed": 144,
     "status": "ok",
     "timestamp": 1694536323134,
     "user": {
      "displayName": "Renata Prôa Dalle Lucca",
      "userId": "09624302309573782555"
     },
     "user_tz": 240
    },
    "id": "TFdfD3WMPDCS",
    "outputId": "0f1cc995-310d-4bf9-c3db-213a24acac38"
   },
   "outputs": [],
   "source": [
    "# what about the deep copy of list_of_list?\n",
    "deep_copy_list_of_list"
   ]
  },
  {
   "cell_type": "code",
   "execution_count": null,
   "metadata": {
    "colab": {
     "base_uri": "https://localhost:8080/"
    },
    "executionInfo": {
     "elapsed": 146,
     "status": "ok",
     "timestamp": 1694536331006,
     "user": {
      "displayName": "Renata Prôa Dalle Lucca",
      "userId": "09624302309573782555"
     },
     "user_tz": 240
    },
    "id": "3QjI9zgzPE5O",
    "outputId": "894d1796-bff8-4969-8643-ebed286440e0"
   },
   "outputs": [],
   "source": [
    "# shallow copy list of list will have changed, look at provided link at home to understand if you want\n",
    "shallow_copy_list_of_list"
   ]
  },
  {
   "cell_type": "markdown",
   "metadata": {
    "id": "6ZOuo48hPM8p"
   },
   "source": [
    "## Exercise:\n",
    "\n",
    "What will the following code block print?\n",
    "For each print statement, comment what you think it will be and then test before moving on to the next print statement.\n",
    "\n",
    "```\n",
    "test_list = []\n",
    "test_list +=['do']\n",
    "test_list.append('re')\n",
    "test_list.append(['mi','fa', 'so'])\n",
    "test_list.extend(['la', 'ti'])\n",
    "print(len(test_list)) #1\n",
    "print(test_list) #2\n",
    "list_shallow_copy = test_list.copy()\n",
    "list_pointer = test_list\n",
    "list_deep_copy = deepcopy(test_list)\n",
    "print(test_list[2]) #3\n",
    "del test_list[2][0]\n",
    "print(test_list) #4\n",
    "print(list_deep_copy) #5\n",
    "print(list_pointer) #6\n",
    "print(list_shallow_copy) # Optional at home challenge\n",
    "\n",
    "test_list[3] = []\n",
    "print(test_list) #7\n",
    "print(list_deep_copy) #8\n",
    "print(list_pointer) #9\n",
    "print(list_shallow_copy) # Optional at home challenge\n",
    "```"
   ]
  },
  {
   "cell_type": "code",
   "execution_count": null,
   "metadata": {
    "colab": {
     "base_uri": "https://localhost:8080/"
    },
    "executionInfo": {
     "elapsed": 224,
     "status": "ok",
     "timestamp": 1694536374841,
     "user": {
      "displayName": "Renata Prôa Dalle Lucca",
      "userId": "09624302309573782555"
     },
     "user_tz": 240
    },
    "id": "J63UlW5TPGz5",
    "outputId": "08b5efae-0f30-4c8e-b006-fa369a104e71"
   },
   "outputs": [],
   "source": [
    "test_list = []\n",
    "test_list +=['do']\n",
    "test_list.append('re')\n",
    "test_list.append(['mi','fa', 'so'])\n",
    "test_list.extend(['la', 'ti'])\n",
    "print(len(test_list)) #1\n",
    "print(test_list) #2\n",
    "list_shallow_copy = test_list.copy()\n",
    "list_pointer = test_list\n",
    "list_deep_copy = deepcopy(test_list)\n",
    "print(test_list[2]) #3\n",
    "del test_list[2][0]\n",
    "print(test_list) #4\n",
    "print(list_deep_copy) #5\n",
    "print(list_pointer) #6\n",
    "print(list_shallow_copy) # Optional at home challenge\n",
    "\n",
    "test_list[3] = []\n",
    "print(test_list) #7\n",
    "print(list_deep_copy) #8\n",
    "print(list_pointer) #9\n",
    "print(list_shallow_copy) # Optional at home challenge"
   ]
  }
 ],
 "metadata": {
  "colab": {
   "authorship_tag": "ABX9TyMiQccGe22iTDw1LOegfiKD",
   "provenance": []
  },
  "kernelspec": {
   "display_name": "Python 3 (ipykernel)",
   "language": "python",
   "name": "python3"
  },
  "language_info": {
   "codemirror_mode": {
    "name": "ipython",
    "version": 3
   },
   "file_extension": ".py",
   "mimetype": "text/x-python",
   "name": "python",
   "nbconvert_exporter": "python",
   "pygments_lexer": "ipython3",
   "version": "3.11.4"
  }
 },
 "nbformat": 4,
 "nbformat_minor": 1
}
