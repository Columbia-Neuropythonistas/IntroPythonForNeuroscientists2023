{
  "cells": [
    {
      "cell_type": "markdown",
      "metadata": {
        "id": "NmVJfktZ7fTC"
      },
      "source": [
        "![Logo](https://github.com/Columbia-Neuropythonistas/IntroPythonForNeuroscientists2023/assets/65978061/138766b5-ac36-4dc8-b9d4-bf512ecebe78)\n",
        "\n",
        "# **Week 9: Machine learning and navigating codebases**"
      ]
    },
    {
      "cell_type": "code",
      "execution_count": 1,
      "metadata": {
        "id": "LDU3TOHT7fTD"
      },
      "outputs": [],
      "source": [
        "#remember that when we use 'as', we are simply telling Python what term we want to refer to our imported packages by\n",
        "import pandas as pd\n",
        "import numpy as np\n",
        "import matplotlib.pyplot as plt\n",
        "import seaborn as sns\n",
        "\n",
        "%matplotlib inline\n"
      ]
    },
    {
      "cell_type": "markdown",
      "metadata": {
        "id": "uYEyjrMzCVTH"
      },
      "source": [
        "## Problem 1: Finding the dataset\n",
        "\n",
        "We are going to analyse data collected in [High-dimensional geometry of population responses in visual cortex](https://www.nature.com/articles/s41586-019-1346-5).\n",
        "\n",
        "1. Try to find where the data is available (hint: Nature and many other journals have a \"Data availability\" section).\n",
        "2. There are many different files stored in the repository. We want to download the data recorded in mouse \"M170717\" on August 25, 2017. To figure out how the files are stored, consult the instructions on [Github repository](https://github.com/MouseLand/stringer-pachitariu-et-al-2018b). (**Important:** Make sure you download the neural recordings, not the stimulus set!)"
      ]
    },
    {
      "cell_type": "markdown",
      "metadata": {
        "id": "J71Ue_Gc7fTD"
      },
      "source": [
        "## Getting to know the dataset"
      ]
    },
    {
      "cell_type": "markdown",
      "metadata": {
        "id": "Ry3YM62FE7Yc"
      },
      "source": [
        "I've already prepared a numpy array containing the specific responses. Below we're loading it into the notebook:"
      ]
    },
    {
      "cell_type": "code",
      "execution_count": 2,
      "metadata": {
        "colab": {
          "base_uri": "https://localhost:8080/",
          "height": 324
        },
        "id": "ox26A_mnE6iM",
        "outputId": "3fdf0632-204a-4287-f3d1-67cd95d9cefe"
      },
      "outputs": [],
      "source": [
        "recording = np.load('recording.npy')"
      ]
    },
    {
      "cell_type": "markdown",
      "metadata": {},
      "source": [
        "How is this array structured?"
      ]
    },
    {
      "cell_type": "code",
      "execution_count": 3,
      "metadata": {
        "colab": {
          "base_uri": "https://localhost:8080/"
        },
        "id": "O4o1p5v4Gmoj",
        "outputId": "8ef33315-da08-42e1-e968-51beb156e97c"
      },
      "outputs": [
        {
          "data": {
            "text/plain": [
              "(480, 11523)"
            ]
          },
          "execution_count": 3,
          "metadata": {},
          "output_type": "execute_result"
        }
      ],
      "source": [
        "recording.shape"
      ]
    },
    {
      "cell_type": "markdown",
      "metadata": {},
      "source": [
        "It contains the responses of 11,523 neurons to 480 stimuli."
      ]
    },
    {
      "cell_type": "markdown",
      "metadata": {},
      "source": [
        "## Problem 2"
      ]
    },
    {
      "cell_type": "markdown",
      "metadata": {},
      "source": [
        "To get some idea of the data, let's plot a histogram of the first neuron's responses across all presented images. At this point, we just quickly want to get an idea for the format of the data. Since it is a numpy array, matplotlib is perfect for this."
      ]
    },
    {
      "cell_type": "code",
      "execution_count": 4,
      "metadata": {},
      "outputs": [
        {
          "data": {
            "text/plain": [
              "(array([362.,  68.,  28.,   4.,   7.,   4.,   3.,   3.,   0.,   1.]),\n",
              " array([ 0.      ,  7.516196, 15.032392, 22.548588, 30.064783, 37.58098 ,\n",
              "        45.097176, 52.61337 , 60.129566, 67.64576 , 75.16196 ],\n",
              "       dtype=float32),\n",
              " <BarContainer object of 10 artists>)"
            ]
          },
          "execution_count": 4,
          "metadata": {},
          "output_type": "execute_result"
        },
        {
          "data": {
            "image/png": "[encoded data removed]",
            "text/plain": [
              "<Figure size 640x480 with 1 Axes>"
            ]
          },
          "metadata": {},
          "output_type": "display_data"
        }
      ],
      "source": [
        "plt.hist(recording[:,0])"
      ]
    },
    {
      "cell_type": "code",
      "execution_count": 5,
      "metadata": {},
      "outputs": [
        {
          "data": {
            "text/plain": [
              "(array([295.,  37.,  30.,  25.,  25.,  18.,  11.,  11.,   6.,   0.,   3.,\n",
              "          1.,   3.,   1.,   3.,   1.,   1.,   2.,   0.,   1.,   2.,   2.,\n",
              "          1.,   0.,   0.,   0.,   0.,   0.,   0.,   1.]),\n",
              " array([ 0.       ,  2.5053985,  5.010797 ,  7.516196 , 10.021594 ,\n",
              "        12.526993 , 15.032392 , 17.53779  , 20.043188 , 22.548588 ,\n",
              "        25.053986 , 27.559383 , 30.064783 , 32.570183 , 35.07558  ,\n",
              "        37.58098  , 40.086376 , 42.591774 , 45.097176 , 47.602573 ,\n",
              "        50.10797  , 52.61337  , 55.118767 , 57.62417  , 60.129566 ,\n",
              "        62.634964 , 65.140366 , 67.64576  , 70.15116  , 72.656555 ,\n",
              "        75.16196  ], dtype=float32),\n",
              " <BarContainer object of 30 artists>)"
            ]
          },
          "execution_count": 5,
          "metadata": {},
          "output_type": "execute_result"
        },
        {
          "data": {
            "image/png": "[encoded data removed]",
            "text/plain": [
              "<Figure size 640x480 with 1 Axes>"
            ]
          },
          "metadata": {},
          "output_type": "display_data"
        }
      ],
      "source": [
        "plt.hist(recording[:,0], bins=30)"
      ]
    },
    {
      "cell_type": "code",
      "execution_count": 6,
      "metadata": {},
      "outputs": [
        {
          "data": {
            "text/plain": [
              "array([[ 25.785816  , 134.0296    ,   0.        , ...,   0.        ,\n",
              "          6.0646014 ,   0.        ],\n",
              "       [ 30.915737  ,   0.        ,   0.        , ...,  24.70088   ,\n",
              "          0.        ,   0.        ],\n",
              "       [  0.        ,   0.        ,   0.        , ...,  40.432617  ,\n",
              "          0.        ,   6.338412  ],\n",
              "       ...,\n",
              "       [  0.        ,   1.5951352 ,  13.487567  , ...,   0.        ,\n",
              "          0.22559942,  20.796843  ],\n",
              "       [  0.        ,   0.        ,   0.6634313 , ...,   0.        ,\n",
              "         15.305119  ,   0.        ],\n",
              "       [  0.        ,   0.        ,   0.        , ...,   1.819519  ,\n",
              "          0.        ,   0.        ]], dtype=float32)"
            ]
          },
          "execution_count": 6,
          "metadata": {},
          "output_type": "execute_result"
        }
      ],
      "source": [
        "recording"
      ]
    },
    {
      "cell_type": "markdown",
      "metadata": {},
      "source": [
        "This data is extremely high-dimensional and so it is difficult to get a good idea of structures within this data simply from examining it. **Machine learning** makes this general problem tractable."
      ]
    },
    {
      "cell_type": "markdown",
      "metadata": {},
      "source": [
        "## Introduction to Machine learning"
      ]
    },
    {
      "cell_type": "markdown",
      "metadata": {},
      "source": [
        "In science, we routinely break a vague question (\"How does the brain represent orientation?\") down into more specific components (\"How do neurons in visual cortex respond to oriented gratings?\") and then settle on a particular methodology to answer the concrete questions (e.g. record calcium traces using 2-photon imaging).\n",
        "\n",
        "Machine learning is no different. In our case, our vague question is \"What is the structure of our data?\". One concrete way of asking this question is to ask about lower-dimensional structures. Our brain does this automatically all the time! In fact, consider oriented gratings:"
      ]
    },
    {
      "attachments": {
        "image.png": {
          "image/png": "[encoded data removed]"
        }
      },
      "cell_type": "markdown",
      "metadata": {},
      "source": [
        "![image.png](attachment:image.png)"
      ]
    },
    {
      "cell_type": "markdown",
      "metadata": {},
      "source": [
        "This is an extremely high-dimensional stimulus with many different pixels (i.e. dimensions). However, we break it down into a few factors of variation, e.g. orientation and frequency. Methods to uncover such underlying factors of variation are called **dimensionality reduction**.\n",
        "\n",
        "We therefore operationalize \"What is the structure of the data?\" by looking at dimensionality reduction. There are many different possible ways of performing dimensionality reduction. One important such method is **Principal Component Analysis (PCA)**.\n",
        "\n",
        "Below is a simple example:"
      ]
    },
    {
      "cell_type": "code",
      "execution_count": 7,
      "metadata": {},
      "outputs": [],
      "source": [
        "x = np.random.multivariate_normal(mean=np.array([0., 0.]), cov=np.array([[1., 0.9], [0.9, 1.]]), size=(100,))"
      ]
    },
    {
      "cell_type": "markdown",
      "metadata": {},
      "source": [
        "This data is two-dimensional:"
      ]
    },
    {
      "cell_type": "code",
      "execution_count": 8,
      "metadata": {},
      "outputs": [
        {
          "data": {
            "text/plain": [
              "(100, 2)"
            ]
          },
          "execution_count": 8,
          "metadata": {},
          "output_type": "execute_result"
        }
      ],
      "source": [
        "x.shape"
      ]
    },
    {
      "cell_type": "markdown",
      "metadata": {},
      "source": [
        "If we look at each dimension, we don't really understand how the different variables are related:"
      ]
    },
    {
      "cell_type": "code",
      "execution_count": 9,
      "metadata": {},
      "outputs": [
        {
          "data": {
            "text/plain": [
              "(array([ 6.,  4., 10., 15., 15., 11., 17.,  9.,  7.,  6.]),\n",
              " array([-2.54904508, -2.07339067, -1.59773626, -1.12208185, -0.64642744,\n",
              "        -0.17077303,  0.30488138,  0.78053578,  1.25619019,  1.7318446 ,\n",
              "         2.20749901]),\n",
              " <BarContainer object of 10 artists>)"
            ]
          },
          "execution_count": 9,
          "metadata": {},
          "output_type": "execute_result"
        },
        {
          "data": {
            "image/png": "[encoded data removed]",
            "text/plain": [
              "<Figure size 640x480 with 1 Axes>"
            ]
          },
          "metadata": {},
          "output_type": "display_data"
        }
      ],
      "source": [
        "plt.hist(x[:,0])"
      ]
    },
    {
      "cell_type": "code",
      "execution_count": 10,
      "metadata": {},
      "outputs": [
        {
          "data": {
            "text/plain": [
              "(array([ 3.,  3.,  6., 21., 13., 20., 16., 10.,  6.,  2.]),\n",
              " array([-2.86891605, -2.32788793, -1.78685981, -1.24583169, -0.70480357,\n",
              "        -0.16377546,  0.37725266,  0.91828078,  1.4593089 ,  2.00033702,\n",
              "         2.54136514]),\n",
              " <BarContainer object of 10 artists>)"
            ]
          },
          "execution_count": 10,
          "metadata": {},
          "output_type": "execute_result"
        },
        {
          "data": {
            "image/png": "[encoded data removed]",
            "text/plain": [
              "<Figure size 640x480 with 1 Axes>"
            ]
          },
          "metadata": {},
          "output_type": "display_data"
        }
      ],
      "source": [
        "plt.hist(x[:,1])"
      ]
    },
    {
      "cell_type": "markdown",
      "metadata": {},
      "source": [
        "However, if we plot a scatter plot, we can see some dominant components:"
      ]
    },
    {
      "cell_type": "code",
      "execution_count": 11,
      "metadata": {},
      "outputs": [
        {
          "data": {
            "text/plain": [
              "<matplotlib.collections.PathCollection at 0x7f382a1db370>"
            ]
          },
          "execution_count": 11,
          "metadata": {},
          "output_type": "execute_result"
        },
        {
          "data": {
            "image/png": "[encoded data removed]",
            "text/plain": [
              "<Figure size 640x480 with 1 Axes>"
            ]
          },
          "metadata": {},
          "output_type": "display_data"
        }
      ],
      "source": [
        "plt.scatter(x[:,0], x[:,1])"
      ]
    },
    {
      "cell_type": "markdown",
      "metadata": {},
      "source": [
        "With two dimensions, we can do this by visual inspection. For higher-dimensional data, we need to use PCA.\n",
        "\n",
        "How can we implement PCA in Python? To find out how a particular method is implemented in Python, we simply google it."
      ]
    },
    {
      "cell_type": "markdown",
      "metadata": {},
      "source": [
        "## Problem 3\n",
        "\n",
        "Compute a PCA that extracts the first ten components from the neural recordings.\n",
        "\n",
        "**Hint 1:** **Copy the code** in the examples and figure out what part of it to modify.\n",
        "\n",
        "**Hint 2:** You often need to make sure that the data is in the format your machine learning algorithm expects. In this case, the different images are the samples and the different neurons the variables. Make sure that your data is formatted correctly!\n",
        "\n",
        "**Hint 3:** The examples don't explain how to extract the components, just how to fit the model. Look through the attributes to identify how you get these components."
      ]
    },
    {
      "cell_type": "code",
      "execution_count": 12,
      "metadata": {},
      "outputs": [
        {
          "data": {
            "text/html": [
              "<style>#sk-container-id-1 {color: black;}#sk-container-id-1 pre{padding: 0;}#sk-container-id-1 div.sk-toggleable {background-color: white;}#sk-container-id-1 label.sk-toggleable__label {cursor: pointer;display: block;width: 100%;margin-bottom: 0;padding: 0.3em;box-sizing: border-box;text-align: center;}#sk-container-id-1 label.sk-toggleable__label-arrow:before {content: \"▸\";float: left;margin-right: 0.25em;color: #696969;}#sk-container-id-1 label.sk-toggleable__label-arrow:hover:before {color: black;}#sk-container-id-1 div.sk-estimator:hover label.sk-toggleable__label-arrow:before {color: black;}#sk-container-id-1 div.sk-toggleable__content {max-height: 0;max-width: 0;overflow: hidden;text-align: left;background-color: #f0f8ff;}#sk-container-id-1 div.sk-toggleable__content pre {margin: 0.2em;color: black;border-radius: 0.25em;background-color: #f0f8ff;}#sk-container-id-1 input.sk-toggleable__control:checked~div.sk-toggleable__content {max-height: 200px;max-width: 100%;overflow: auto;}#sk-container-id-1 input.sk-toggleable__control:checked~label.sk-toggleable__label-arrow:before {content: \"▾\";}#sk-container-id-1 div.sk-estimator input.sk-toggleable__control:checked~label.sk-toggleable__label {background-color: #d4ebff;}#sk-container-id-1 div.sk-label input.sk-toggleable__control:checked~label.sk-toggleable__label {background-color: #d4ebff;}#sk-container-id-1 input.sk-hidden--visually {border: 0;clip: rect(1px 1px 1px 1px);clip: rect(1px, 1px, 1px, 1px);height: 1px;margin: -1px;overflow: hidden;padding: 0;position: absolute;width: 1px;}#sk-container-id-1 div.sk-estimator {font-family: monospace;background-color: #f0f8ff;border: 1px dotted black;border-radius: 0.25em;box-sizing: border-box;margin-bottom: 0.5em;}#sk-container-id-1 div.sk-estimator:hover {background-color: #d4ebff;}#sk-container-id-1 div.sk-parallel-item::after {content: \"\";width: 100%;border-bottom: 1px solid gray;flex-grow: 1;}#sk-container-id-1 div.sk-label:hover label.sk-toggleable__label {background-color: #d4ebff;}#sk-container-id-1 div.sk-serial::before {content: \"\";position: absolute;border-left: 1px solid gray;box-sizing: border-box;top: 0;bottom: 0;left: 50%;z-index: 0;}#sk-container-id-1 div.sk-serial {display: flex;flex-direction: column;align-items: center;background-color: white;padding-right: 0.2em;padding-left: 0.2em;position: relative;}#sk-container-id-1 div.sk-item {position: relative;z-index: 1;}#sk-container-id-1 div.sk-parallel {display: flex;align-items: stretch;justify-content: center;background-color: white;position: relative;}#sk-container-id-1 div.sk-item::before, #sk-container-id-1 div.sk-parallel-item::before {content: \"\";position: absolute;border-left: 1px solid gray;box-sizing: border-box;top: 0;bottom: 0;left: 50%;z-index: -1;}#sk-container-id-1 div.sk-parallel-item {display: flex;flex-direction: column;z-index: 1;position: relative;background-color: white;}#sk-container-id-1 div.sk-parallel-item:first-child::after {align-self: flex-end;width: 50%;}#sk-container-id-1 div.sk-parallel-item:last-child::after {align-self: flex-start;width: 50%;}#sk-container-id-1 div.sk-parallel-item:only-child::after {width: 0;}#sk-container-id-1 div.sk-dashed-wrapped {border: 1px dashed gray;margin: 0 0.4em 0.5em 0.4em;box-sizing: border-box;padding-bottom: 0.4em;background-color: white;}#sk-container-id-1 div.sk-label label {font-family: monospace;font-weight: bold;display: inline-block;line-height: 1.2em;}#sk-container-id-1 div.sk-label-container {text-align: center;}#sk-container-id-1 div.sk-container {/* jupyter's `normalize.less` sets `[hidden] { display: none; }` but bootstrap.min.css set `[hidden] { display: none !important; }` so we also need the `!important` here to be able to override the default hidden behavior on the sphinx rendered scikit-learn.org. See: https://github.com/scikit-learn/scikit-learn/issues/21755 */display: inline-block !important;position: relative;}#sk-container-id-1 div.sk-text-repr-fallback {display: none;}</style><div id=\"sk-container-id-1\" class=\"sk-top-container\"><div class=\"sk-text-repr-fallback\"><pre>PCA(n_components=20, whiten=True)</pre><b>In a Jupyter environment, please rerun this cell to show the HTML representation or trust the notebook. <br />On GitHub, the HTML representation is unable to render, please try loading this page with nbviewer.org.</b></div><div class=\"sk-container\" hidden><div class=\"sk-item\"><div class=\"sk-estimator sk-toggleable\"><input class=\"sk-toggleable__control sk-hidden--visually\" id=\"sk-estimator-id-1\" type=\"checkbox\" checked><label for=\"sk-estimator-id-1\" class=\"sk-toggleable__label sk-toggleable__label-arrow\">PCA</label><div class=\"sk-toggleable__content\"><pre>PCA(n_components=20, whiten=True)</pre></div></div></div></div></div>"
            ],
            "text/plain": [
              "PCA(n_components=20, whiten=True)"
            ]
          },
          "execution_count": 12,
          "metadata": {},
          "output_type": "execute_result"
        }
      ],
      "source": [
        "from sklearn.decomposition import PCA\n",
        "pca = PCA(n_components=20, whiten=True)\n",
        "pca.fit(recording.T)"
      ]
    },
    {
      "cell_type": "code",
      "execution_count": 13,
      "metadata": {},
      "outputs": [],
      "source": [
        "components = pca.components_"
      ]
    },
    {
      "cell_type": "code",
      "execution_count": 14,
      "metadata": {},
      "outputs": [
        {
          "data": {
            "text/plain": [
              "(20, 480)"
            ]
          },
          "execution_count": 14,
          "metadata": {},
          "output_type": "execute_result"
        }
      ],
      "source": [
        "components.shape"
      ]
    },
    {
      "cell_type": "code",
      "execution_count": 15,
      "metadata": {},
      "outputs": [
        {
          "data": {
            "text/plain": [
              "array([0.11226338, 0.06161226, 0.0419197 , 0.03202305, 0.0218251 ,\n",
              "       0.01765649, 0.01543991, 0.0109747 , 0.01026168, 0.00999452,\n",
              "       0.00978786, 0.0087734 , 0.00827423, 0.00780876, 0.00733521,\n",
              "       0.00658031, 0.00641828, 0.00627365, 0.00598714, 0.00582541],\n",
              "      dtype=float32)"
            ]
          },
          "execution_count": 15,
          "metadata": {},
          "output_type": "execute_result"
        }
      ],
      "source": [
        "pca.explained_variance_ratio_"
      ]
    },
    {
      "cell_type": "code",
      "execution_count": 16,
      "metadata": {},
      "outputs": [
        {
          "data": {
            "text/plain": [
              "[<matplotlib.lines.Line2D at 0x7f3829747f40>]"
            ]
          },
          "execution_count": 16,
          "metadata": {},
          "output_type": "execute_result"
        },
        {
          "data": {
            "image/png": "[encoded data removed]",
            "text/plain": [
              "<Figure size 640x480 with 1 Axes>"
            ]
          },
          "metadata": {},
          "output_type": "display_data"
        }
      ],
      "source": [
        "plt.plot(pca.explained_variance_ratio_)"
      ]
    },
    {
      "cell_type": "markdown",
      "metadata": {},
      "source": [
        "## Plot components"
      ]
    },
    {
      "cell_type": "markdown",
      "metadata": {},
      "source": [
        "Now, let's create some plots of these components! To do so, we want to use seaborn, which uses dataframes. We therefore transform our array of components into a dataframe."
      ]
    },
    {
      "cell_type": "code",
      "execution_count": 17,
      "metadata": {},
      "outputs": [],
      "source": [
        "df_components = pd.DataFrame(components.T)"
      ]
    },
    {
      "cell_type": "code",
      "execution_count": 18,
      "metadata": {},
      "outputs": [
        {
          "data": {
            "text/html": [
              "<div>\n",
              "<style scoped>\n",
              "    .dataframe tbody tr th:only-of-type {\n",
              "        vertical-align: middle;\n",
              "    }\n",
              "\n",
              "    .dataframe tbody tr th {\n",
              "        vertical-align: top;\n",
              "    }\n",
              "\n",
              "    .dataframe thead th {\n",
              "        text-align: right;\n",
              "    }\n",
              "</style>\n",
              "<table border=\"1\" class=\"dataframe\">\n",
              "  <thead>\n",
              "    <tr style=\"text-align: right;\">\n",
              "      <th></th>\n",
              "      <th>0</th>\n",
              "      <th>1</th>\n",
              "      <th>2</th>\n",
              "      <th>3</th>\n",
              "      <th>4</th>\n",
              "      <th>5</th>\n",
              "      <th>6</th>\n",
              "      <th>7</th>\n",
              "      <th>8</th>\n",
              "      <th>9</th>\n",
              "      <th>10</th>\n",
              "      <th>11</th>\n",
              "      <th>12</th>\n",
              "      <th>13</th>\n",
              "      <th>14</th>\n",
              "      <th>15</th>\n",
              "      <th>16</th>\n",
              "      <th>17</th>\n",
              "      <th>18</th>\n",
              "      <th>19</th>\n",
              "    </tr>\n",
              "  </thead>\n",
              "  <tbody>\n",
              "    <tr>\n",
              "      <th>0</th>\n",
              "      <td>0.030101</td>\n",
              "      <td>0.015840</td>\n",
              "      <td>0.048021</td>\n",
              "      <td>-0.024840</td>\n",
              "      <td>-0.080392</td>\n",
              "      <td>0.048463</td>\n",
              "      <td>0.009869</td>\n",
              "      <td>-0.039931</td>\n",
              "      <td>-0.056083</td>\n",
              "      <td>-0.052054</td>\n",
              "      <td>-0.059038</td>\n",
              "      <td>0.016584</td>\n",
              "      <td>0.069261</td>\n",
              "      <td>0.005822</td>\n",
              "      <td>0.012536</td>\n",
              "      <td>0.019139</td>\n",
              "      <td>0.010063</td>\n",
              "      <td>0.053355</td>\n",
              "      <td>0.029089</td>\n",
              "      <td>-0.047944</td>\n",
              "    </tr>\n",
              "    <tr>\n",
              "      <th>1</th>\n",
              "      <td>0.038480</td>\n",
              "      <td>0.006802</td>\n",
              "      <td>0.050434</td>\n",
              "      <td>0.048128</td>\n",
              "      <td>0.001429</td>\n",
              "      <td>0.096599</td>\n",
              "      <td>0.079099</td>\n",
              "      <td>0.037747</td>\n",
              "      <td>-0.071280</td>\n",
              "      <td>-0.004304</td>\n",
              "      <td>0.036848</td>\n",
              "      <td>0.054474</td>\n",
              "      <td>-0.007408</td>\n",
              "      <td>-0.027984</td>\n",
              "      <td>0.025184</td>\n",
              "      <td>-0.033122</td>\n",
              "      <td>0.057303</td>\n",
              "      <td>0.043115</td>\n",
              "      <td>0.040750</td>\n",
              "      <td>0.031957</td>\n",
              "    </tr>\n",
              "    <tr>\n",
              "      <th>2</th>\n",
              "      <td>0.058451</td>\n",
              "      <td>0.001144</td>\n",
              "      <td>0.037994</td>\n",
              "      <td>-0.060235</td>\n",
              "      <td>0.068519</td>\n",
              "      <td>0.146990</td>\n",
              "      <td>0.084104</td>\n",
              "      <td>-0.010206</td>\n",
              "      <td>0.064390</td>\n",
              "      <td>-0.082866</td>\n",
              "      <td>-0.037712</td>\n",
              "      <td>-0.027368</td>\n",
              "      <td>-0.138625</td>\n",
              "      <td>-0.001821</td>\n",
              "      <td>-0.035244</td>\n",
              "      <td>0.050552</td>\n",
              "      <td>0.075498</td>\n",
              "      <td>0.128153</td>\n",
              "      <td>0.105942</td>\n",
              "      <td>-0.082651</td>\n",
              "    </tr>\n",
              "    <tr>\n",
              "      <th>3</th>\n",
              "      <td>0.045857</td>\n",
              "      <td>0.117573</td>\n",
              "      <td>-0.056693</td>\n",
              "      <td>0.012179</td>\n",
              "      <td>-0.017930</td>\n",
              "      <td>0.020666</td>\n",
              "      <td>0.063060</td>\n",
              "      <td>-0.073058</td>\n",
              "      <td>0.029918</td>\n",
              "      <td>-0.017843</td>\n",
              "      <td>-0.053148</td>\n",
              "      <td>0.019897</td>\n",
              "      <td>0.035643</td>\n",
              "      <td>-0.207385</td>\n",
              "      <td>-0.024428</td>\n",
              "      <td>0.040057</td>\n",
              "      <td>-0.062722</td>\n",
              "      <td>0.015732</td>\n",
              "      <td>0.057346</td>\n",
              "      <td>-0.126076</td>\n",
              "    </tr>\n",
              "    <tr>\n",
              "      <th>4</th>\n",
              "      <td>0.059655</td>\n",
              "      <td>-0.052693</td>\n",
              "      <td>-0.067922</td>\n",
              "      <td>-0.004119</td>\n",
              "      <td>-0.046574</td>\n",
              "      <td>0.084172</td>\n",
              "      <td>0.070585</td>\n",
              "      <td>0.082770</td>\n",
              "      <td>0.002570</td>\n",
              "      <td>-0.010177</td>\n",
              "      <td>-0.026065</td>\n",
              "      <td>0.007817</td>\n",
              "      <td>-0.036339</td>\n",
              "      <td>0.081744</td>\n",
              "      <td>-0.071401</td>\n",
              "      <td>0.172297</td>\n",
              "      <td>0.081993</td>\n",
              "      <td>0.006882</td>\n",
              "      <td>-0.093618</td>\n",
              "      <td>0.062384</td>\n",
              "    </tr>\n",
              "    <tr>\n",
              "      <th>...</th>\n",
              "      <td>...</td>\n",
              "      <td>...</td>\n",
              "      <td>...</td>\n",
              "      <td>...</td>\n",
              "      <td>...</td>\n",
              "      <td>...</td>\n",
              "      <td>...</td>\n",
              "      <td>...</td>\n",
              "      <td>...</td>\n",
              "      <td>...</td>\n",
              "      <td>...</td>\n",
              "      <td>...</td>\n",
              "      <td>...</td>\n",
              "      <td>...</td>\n",
              "      <td>...</td>\n",
              "      <td>...</td>\n",
              "      <td>...</td>\n",
              "      <td>...</td>\n",
              "      <td>...</td>\n",
              "      <td>...</td>\n",
              "    </tr>\n",
              "    <tr>\n",
              "      <th>475</th>\n",
              "      <td>0.018063</td>\n",
              "      <td>0.009878</td>\n",
              "      <td>0.014739</td>\n",
              "      <td>-0.036785</td>\n",
              "      <td>-0.018146</td>\n",
              "      <td>-0.045170</td>\n",
              "      <td>0.025055</td>\n",
              "      <td>0.020136</td>\n",
              "      <td>0.019107</td>\n",
              "      <td>0.022517</td>\n",
              "      <td>0.024678</td>\n",
              "      <td>-0.004383</td>\n",
              "      <td>-0.014104</td>\n",
              "      <td>-0.004821</td>\n",
              "      <td>0.006644</td>\n",
              "      <td>-0.021162</td>\n",
              "      <td>0.024943</td>\n",
              "      <td>0.018777</td>\n",
              "      <td>0.016967</td>\n",
              "      <td>-0.005251</td>\n",
              "    </tr>\n",
              "    <tr>\n",
              "      <th>476</th>\n",
              "      <td>0.035360</td>\n",
              "      <td>-0.035641</td>\n",
              "      <td>-0.038032</td>\n",
              "      <td>0.000924</td>\n",
              "      <td>0.005202</td>\n",
              "      <td>-0.032945</td>\n",
              "      <td>0.006266</td>\n",
              "      <td>0.011242</td>\n",
              "      <td>-0.030881</td>\n",
              "      <td>-0.013107</td>\n",
              "      <td>-0.039007</td>\n",
              "      <td>-0.024104</td>\n",
              "      <td>0.019351</td>\n",
              "      <td>0.018914</td>\n",
              "      <td>-0.100033</td>\n",
              "      <td>-0.010647</td>\n",
              "      <td>0.005717</td>\n",
              "      <td>-0.034057</td>\n",
              "      <td>0.013221</td>\n",
              "      <td>0.014838</td>\n",
              "    </tr>\n",
              "    <tr>\n",
              "      <th>477</th>\n",
              "      <td>0.027097</td>\n",
              "      <td>-0.005664</td>\n",
              "      <td>0.010562</td>\n",
              "      <td>0.024096</td>\n",
              "      <td>0.014612</td>\n",
              "      <td>-0.014500</td>\n",
              "      <td>0.000226</td>\n",
              "      <td>0.001668</td>\n",
              "      <td>-0.009229</td>\n",
              "      <td>-0.018335</td>\n",
              "      <td>-0.007193</td>\n",
              "      <td>-0.006950</td>\n",
              "      <td>0.009409</td>\n",
              "      <td>0.023862</td>\n",
              "      <td>-0.016322</td>\n",
              "      <td>0.022439</td>\n",
              "      <td>0.016110</td>\n",
              "      <td>-0.024281</td>\n",
              "      <td>0.003258</td>\n",
              "      <td>-0.008167</td>\n",
              "    </tr>\n",
              "    <tr>\n",
              "      <th>478</th>\n",
              "      <td>0.006720</td>\n",
              "      <td>0.000504</td>\n",
              "      <td>-0.000810</td>\n",
              "      <td>-0.008482</td>\n",
              "      <td>0.000406</td>\n",
              "      <td>-0.001621</td>\n",
              "      <td>-0.004695</td>\n",
              "      <td>0.016939</td>\n",
              "      <td>-0.001445</td>\n",
              "      <td>-0.006378</td>\n",
              "      <td>0.005376</td>\n",
              "      <td>0.015946</td>\n",
              "      <td>-0.009927</td>\n",
              "      <td>-0.005887</td>\n",
              "      <td>0.008245</td>\n",
              "      <td>-0.000361</td>\n",
              "      <td>0.021684</td>\n",
              "      <td>0.025971</td>\n",
              "      <td>0.006554</td>\n",
              "      <td>-0.002848</td>\n",
              "    </tr>\n",
              "    <tr>\n",
              "      <th>479</th>\n",
              "      <td>0.029831</td>\n",
              "      <td>0.065212</td>\n",
              "      <td>-0.023432</td>\n",
              "      <td>0.001565</td>\n",
              "      <td>-0.013240</td>\n",
              "      <td>-0.012261</td>\n",
              "      <td>-0.020547</td>\n",
              "      <td>-0.017027</td>\n",
              "      <td>-0.035666</td>\n",
              "      <td>-0.007452</td>\n",
              "      <td>0.000723</td>\n",
              "      <td>-0.002001</td>\n",
              "      <td>-0.006690</td>\n",
              "      <td>0.073640</td>\n",
              "      <td>-0.012497</td>\n",
              "      <td>-0.007323</td>\n",
              "      <td>0.001500</td>\n",
              "      <td>-0.009598</td>\n",
              "      <td>0.007179</td>\n",
              "      <td>0.028868</td>\n",
              "    </tr>\n",
              "  </tbody>\n",
              "</table>\n",
              "<p>480 rows × 20 columns</p>\n",
              "</div>"
            ],
            "text/plain": [
              "           0         1         2         3         4         5         6   \\\n",
              "0    0.030101  0.015840  0.048021 -0.024840 -0.080392  0.048463  0.009869   \n",
              "1    0.038480  0.006802  0.050434  0.048128  0.001429  0.096599  0.079099   \n",
              "2    0.058451  0.001144  0.037994 -0.060235  0.068519  0.146990  0.084104   \n",
              "3    0.045857  0.117573 -0.056693  0.012179 -0.017930  0.020666  0.063060   \n",
              "4    0.059655 -0.052693 -0.067922 -0.004119 -0.046574  0.084172  0.070585   \n",
              "..        ...       ...       ...       ...       ...       ...       ...   \n",
              "475  0.018063  0.009878  0.014739 -0.036785 -0.018146 -0.045170  0.025055   \n",
              "476  0.035360 -0.035641 -0.038032  0.000924  0.005202 -0.032945  0.006266   \n",
              "477  0.027097 -0.005664  0.010562  0.024096  0.014612 -0.014500  0.000226   \n",
              "478  0.006720  0.000504 -0.000810 -0.008482  0.000406 -0.001621 -0.004695   \n",
              "479  0.029831  0.065212 -0.023432  0.001565 -0.013240 -0.012261 -0.020547   \n",
              "\n",
              "           7         8         9         10        11        12        13  \\\n",
              "0   -0.039931 -0.056083 -0.052054 -0.059038  0.016584  0.069261  0.005822   \n",
              "1    0.037747 -0.071280 -0.004304  0.036848  0.054474 -0.007408 -0.027984   \n",
              "2   -0.010206  0.064390 -0.082866 -0.037712 -0.027368 -0.138625 -0.001821   \n",
              "3   -0.073058  0.029918 -0.017843 -0.053148  0.019897  0.035643 -0.207385   \n",
              "4    0.082770  0.002570 -0.010177 -0.026065  0.007817 -0.036339  0.081744   \n",
              "..        ...       ...       ...       ...       ...       ...       ...   \n",
              "475  0.020136  0.019107  0.022517  0.024678 -0.004383 -0.014104 -0.004821   \n",
              "476  0.011242 -0.030881 -0.013107 -0.039007 -0.024104  0.019351  0.018914   \n",
              "477  0.001668 -0.009229 -0.018335 -0.007193 -0.006950  0.009409  0.023862   \n",
              "478  0.016939 -0.001445 -0.006378  0.005376  0.015946 -0.009927 -0.005887   \n",
              "479 -0.017027 -0.035666 -0.007452  0.000723 -0.002001 -0.006690  0.073640   \n",
              "\n",
              "           14        15        16        17        18        19  \n",
              "0    0.012536  0.019139  0.010063  0.053355  0.029089 -0.047944  \n",
              "1    0.025184 -0.033122  0.057303  0.043115  0.040750  0.031957  \n",
              "2   -0.035244  0.050552  0.075498  0.128153  0.105942 -0.082651  \n",
              "3   -0.024428  0.040057 -0.062722  0.015732  0.057346 -0.126076  \n",
              "4   -0.071401  0.172297  0.081993  0.006882 -0.093618  0.062384  \n",
              "..        ...       ...       ...       ...       ...       ...  \n",
              "475  0.006644 -0.021162  0.024943  0.018777  0.016967 -0.005251  \n",
              "476 -0.100033 -0.010647  0.005717 -0.034057  0.013221  0.014838  \n",
              "477 -0.016322  0.022439  0.016110 -0.024281  0.003258 -0.008167  \n",
              "478  0.008245 -0.000361  0.021684  0.025971  0.006554 -0.002848  \n",
              "479 -0.012497 -0.007323  0.001500 -0.009598  0.007179  0.028868  \n",
              "\n",
              "[480 rows x 20 columns]"
            ]
          },
          "execution_count": 18,
          "metadata": {},
          "output_type": "execute_result"
        }
      ],
      "source": [
        "df_components"
      ]
    },
    {
      "cell_type": "code",
      "execution_count": 19,
      "metadata": {},
      "outputs": [],
      "source": [
        "df_components = df_components.add_prefix('comp_')"
      ]
    },
    {
      "cell_type": "code",
      "execution_count": 20,
      "metadata": {},
      "outputs": [
        {
          "data": {
            "text/html": [
              "<div>\n",
              "<style scoped>\n",
              "    .dataframe tbody tr th:only-of-type {\n",
              "        vertical-align: middle;\n",
              "    }\n",
              "\n",
              "    .dataframe tbody tr th {\n",
              "        vertical-align: top;\n",
              "    }\n",
              "\n",
              "    .dataframe thead th {\n",
              "        text-align: right;\n",
              "    }\n",
              "</style>\n",
              "<table border=\"1\" class=\"dataframe\">\n",
              "  <thead>\n",
              "    <tr style=\"text-align: right;\">\n",
              "      <th></th>\n",
              "      <th>comp_0</th>\n",
              "      <th>comp_1</th>\n",
              "      <th>comp_2</th>\n",
              "      <th>comp_3</th>\n",
              "      <th>comp_4</th>\n",
              "      <th>comp_5</th>\n",
              "      <th>comp_6</th>\n",
              "      <th>comp_7</th>\n",
              "      <th>comp_8</th>\n",
              "      <th>comp_9</th>\n",
              "      <th>comp_10</th>\n",
              "      <th>comp_11</th>\n",
              "      <th>comp_12</th>\n",
              "      <th>comp_13</th>\n",
              "      <th>comp_14</th>\n",
              "      <th>comp_15</th>\n",
              "      <th>comp_16</th>\n",
              "      <th>comp_17</th>\n",
              "      <th>comp_18</th>\n",
              "      <th>comp_19</th>\n",
              "    </tr>\n",
              "  </thead>\n",
              "  <tbody>\n",
              "    <tr>\n",
              "      <th>0</th>\n",
              "      <td>0.030101</td>\n",
              "      <td>0.015840</td>\n",
              "      <td>0.048021</td>\n",
              "      <td>-0.024840</td>\n",
              "      <td>-0.080392</td>\n",
              "      <td>0.048463</td>\n",
              "      <td>0.009869</td>\n",
              "      <td>-0.039931</td>\n",
              "      <td>-0.056083</td>\n",
              "      <td>-0.052054</td>\n",
              "      <td>-0.059038</td>\n",
              "      <td>0.016584</td>\n",
              "      <td>0.069261</td>\n",
              "      <td>0.005822</td>\n",
              "      <td>0.012536</td>\n",
              "      <td>0.019139</td>\n",
              "      <td>0.010063</td>\n",
              "      <td>0.053355</td>\n",
              "      <td>0.029089</td>\n",
              "      <td>-0.047944</td>\n",
              "    </tr>\n",
              "    <tr>\n",
              "      <th>1</th>\n",
              "      <td>0.038480</td>\n",
              "      <td>0.006802</td>\n",
              "      <td>0.050434</td>\n",
              "      <td>0.048128</td>\n",
              "      <td>0.001429</td>\n",
              "      <td>0.096599</td>\n",
              "      <td>0.079099</td>\n",
              "      <td>0.037747</td>\n",
              "      <td>-0.071280</td>\n",
              "      <td>-0.004304</td>\n",
              "      <td>0.036848</td>\n",
              "      <td>0.054474</td>\n",
              "      <td>-0.007408</td>\n",
              "      <td>-0.027984</td>\n",
              "      <td>0.025184</td>\n",
              "      <td>-0.033122</td>\n",
              "      <td>0.057303</td>\n",
              "      <td>0.043115</td>\n",
              "      <td>0.040750</td>\n",
              "      <td>0.031957</td>\n",
              "    </tr>\n",
              "    <tr>\n",
              "      <th>2</th>\n",
              "      <td>0.058451</td>\n",
              "      <td>0.001144</td>\n",
              "      <td>0.037994</td>\n",
              "      <td>-0.060235</td>\n",
              "      <td>0.068519</td>\n",
              "      <td>0.146990</td>\n",
              "      <td>0.084104</td>\n",
              "      <td>-0.010206</td>\n",
              "      <td>0.064390</td>\n",
              "      <td>-0.082866</td>\n",
              "      <td>-0.037712</td>\n",
              "      <td>-0.027368</td>\n",
              "      <td>-0.138625</td>\n",
              "      <td>-0.001821</td>\n",
              "      <td>-0.035244</td>\n",
              "      <td>0.050552</td>\n",
              "      <td>0.075498</td>\n",
              "      <td>0.128153</td>\n",
              "      <td>0.105942</td>\n",
              "      <td>-0.082651</td>\n",
              "    </tr>\n",
              "    <tr>\n",
              "      <th>3</th>\n",
              "      <td>0.045857</td>\n",
              "      <td>0.117573</td>\n",
              "      <td>-0.056693</td>\n",
              "      <td>0.012179</td>\n",
              "      <td>-0.017930</td>\n",
              "      <td>0.020666</td>\n",
              "      <td>0.063060</td>\n",
              "      <td>-0.073058</td>\n",
              "      <td>0.029918</td>\n",
              "      <td>-0.017843</td>\n",
              "      <td>-0.053148</td>\n",
              "      <td>0.019897</td>\n",
              "      <td>0.035643</td>\n",
              "      <td>-0.207385</td>\n",
              "      <td>-0.024428</td>\n",
              "      <td>0.040057</td>\n",
              "      <td>-0.062722</td>\n",
              "      <td>0.015732</td>\n",
              "      <td>0.057346</td>\n",
              "      <td>-0.126076</td>\n",
              "    </tr>\n",
              "    <tr>\n",
              "      <th>4</th>\n",
              "      <td>0.059655</td>\n",
              "      <td>-0.052693</td>\n",
              "      <td>-0.067922</td>\n",
              "      <td>-0.004119</td>\n",
              "      <td>-0.046574</td>\n",
              "      <td>0.084172</td>\n",
              "      <td>0.070585</td>\n",
              "      <td>0.082770</td>\n",
              "      <td>0.002570</td>\n",
              "      <td>-0.010177</td>\n",
              "      <td>-0.026065</td>\n",
              "      <td>0.007817</td>\n",
              "      <td>-0.036339</td>\n",
              "      <td>0.081744</td>\n",
              "      <td>-0.071401</td>\n",
              "      <td>0.172297</td>\n",
              "      <td>0.081993</td>\n",
              "      <td>0.006882</td>\n",
              "      <td>-0.093618</td>\n",
              "      <td>0.062384</td>\n",
              "    </tr>\n",
              "    <tr>\n",
              "      <th>...</th>\n",
              "      <td>...</td>\n",
              "      <td>...</td>\n",
              "      <td>...</td>\n",
              "      <td>...</td>\n",
              "      <td>...</td>\n",
              "      <td>...</td>\n",
              "      <td>...</td>\n",
              "      <td>...</td>\n",
              "      <td>...</td>\n",
              "      <td>...</td>\n",
              "      <td>...</td>\n",
              "      <td>...</td>\n",
              "      <td>...</td>\n",
              "      <td>...</td>\n",
              "      <td>...</td>\n",
              "      <td>...</td>\n",
              "      <td>...</td>\n",
              "      <td>...</td>\n",
              "      <td>...</td>\n",
              "      <td>...</td>\n",
              "    </tr>\n",
              "    <tr>\n",
              "      <th>475</th>\n",
              "      <td>0.018063</td>\n",
              "      <td>0.009878</td>\n",
              "      <td>0.014739</td>\n",
              "      <td>-0.036785</td>\n",
              "      <td>-0.018146</td>\n",
              "      <td>-0.045170</td>\n",
              "      <td>0.025055</td>\n",
              "      <td>0.020136</td>\n",
              "      <td>0.019107</td>\n",
              "      <td>0.022517</td>\n",
              "      <td>0.024678</td>\n",
              "      <td>-0.004383</td>\n",
              "      <td>-0.014104</td>\n",
              "      <td>-0.004821</td>\n",
              "      <td>0.006644</td>\n",
              "      <td>-0.021162</td>\n",
              "      <td>0.024943</td>\n",
              "      <td>0.018777</td>\n",
              "      <td>0.016967</td>\n",
              "      <td>-0.005251</td>\n",
              "    </tr>\n",
              "    <tr>\n",
              "      <th>476</th>\n",
              "      <td>0.035360</td>\n",
              "      <td>-0.035641</td>\n",
              "      <td>-0.038032</td>\n",
              "      <td>0.000924</td>\n",
              "      <td>0.005202</td>\n",
              "      <td>-0.032945</td>\n",
              "      <td>0.006266</td>\n",
              "      <td>0.011242</td>\n",
              "      <td>-0.030881</td>\n",
              "      <td>-0.013107</td>\n",
              "      <td>-0.039007</td>\n",
              "      <td>-0.024104</td>\n",
              "      <td>0.019351</td>\n",
              "      <td>0.018914</td>\n",
              "      <td>-0.100033</td>\n",
              "      <td>-0.010647</td>\n",
              "      <td>0.005717</td>\n",
              "      <td>-0.034057</td>\n",
              "      <td>0.013221</td>\n",
              "      <td>0.014838</td>\n",
              "    </tr>\n",
              "    <tr>\n",
              "      <th>477</th>\n",
              "      <td>0.027097</td>\n",
              "      <td>-0.005664</td>\n",
              "      <td>0.010562</td>\n",
              "      <td>0.024096</td>\n",
              "      <td>0.014612</td>\n",
              "      <td>-0.014500</td>\n",
              "      <td>0.000226</td>\n",
              "      <td>0.001668</td>\n",
              "      <td>-0.009229</td>\n",
              "      <td>-0.018335</td>\n",
              "      <td>-0.007193</td>\n",
              "      <td>-0.006950</td>\n",
              "      <td>0.009409</td>\n",
              "      <td>0.023862</td>\n",
              "      <td>-0.016322</td>\n",
              "      <td>0.022439</td>\n",
              "      <td>0.016110</td>\n",
              "      <td>-0.024281</td>\n",
              "      <td>0.003258</td>\n",
              "      <td>-0.008167</td>\n",
              "    </tr>\n",
              "    <tr>\n",
              "      <th>478</th>\n",
              "      <td>0.006720</td>\n",
              "      <td>0.000504</td>\n",
              "      <td>-0.000810</td>\n",
              "      <td>-0.008482</td>\n",
              "      <td>0.000406</td>\n",
              "      <td>-0.001621</td>\n",
              "      <td>-0.004695</td>\n",
              "      <td>0.016939</td>\n",
              "      <td>-0.001445</td>\n",
              "      <td>-0.006378</td>\n",
              "      <td>0.005376</td>\n",
              "      <td>0.015946</td>\n",
              "      <td>-0.009927</td>\n",
              "      <td>-0.005887</td>\n",
              "      <td>0.008245</td>\n",
              "      <td>-0.000361</td>\n",
              "      <td>0.021684</td>\n",
              "      <td>0.025971</td>\n",
              "      <td>0.006554</td>\n",
              "      <td>-0.002848</td>\n",
              "    </tr>\n",
              "    <tr>\n",
              "      <th>479</th>\n",
              "      <td>0.029831</td>\n",
              "      <td>0.065212</td>\n",
              "      <td>-0.023432</td>\n",
              "      <td>0.001565</td>\n",
              "      <td>-0.013240</td>\n",
              "      <td>-0.012261</td>\n",
              "      <td>-0.020547</td>\n",
              "      <td>-0.017027</td>\n",
              "      <td>-0.035666</td>\n",
              "      <td>-0.007452</td>\n",
              "      <td>0.000723</td>\n",
              "      <td>-0.002001</td>\n",
              "      <td>-0.006690</td>\n",
              "      <td>0.073640</td>\n",
              "      <td>-0.012497</td>\n",
              "      <td>-0.007323</td>\n",
              "      <td>0.001500</td>\n",
              "      <td>-0.009598</td>\n",
              "      <td>0.007179</td>\n",
              "      <td>0.028868</td>\n",
              "    </tr>\n",
              "  </tbody>\n",
              "</table>\n",
              "<p>480 rows × 20 columns</p>\n",
              "</div>"
            ],
            "text/plain": [
              "       comp_0    comp_1    comp_2    comp_3    comp_4    comp_5    comp_6  \\\n",
              "0    0.030101  0.015840  0.048021 -0.024840 -0.080392  0.048463  0.009869   \n",
              "1    0.038480  0.006802  0.050434  0.048128  0.001429  0.096599  0.079099   \n",
              "2    0.058451  0.001144  0.037994 -0.060235  0.068519  0.146990  0.084104   \n",
              "3    0.045857  0.117573 -0.056693  0.012179 -0.017930  0.020666  0.063060   \n",
              "4    0.059655 -0.052693 -0.067922 -0.004119 -0.046574  0.084172  0.070585   \n",
              "..        ...       ...       ...       ...       ...       ...       ...   \n",
              "475  0.018063  0.009878  0.014739 -0.036785 -0.018146 -0.045170  0.025055   \n",
              "476  0.035360 -0.035641 -0.038032  0.000924  0.005202 -0.032945  0.006266   \n",
              "477  0.027097 -0.005664  0.010562  0.024096  0.014612 -0.014500  0.000226   \n",
              "478  0.006720  0.000504 -0.000810 -0.008482  0.000406 -0.001621 -0.004695   \n",
              "479  0.029831  0.065212 -0.023432  0.001565 -0.013240 -0.012261 -0.020547   \n",
              "\n",
              "       comp_7    comp_8    comp_9   comp_10   comp_11   comp_12   comp_13  \\\n",
              "0   -0.039931 -0.056083 -0.052054 -0.059038  0.016584  0.069261  0.005822   \n",
              "1    0.037747 -0.071280 -0.004304  0.036848  0.054474 -0.007408 -0.027984   \n",
              "2   -0.010206  0.064390 -0.082866 -0.037712 -0.027368 -0.138625 -0.001821   \n",
              "3   -0.073058  0.029918 -0.017843 -0.053148  0.019897  0.035643 -0.207385   \n",
              "4    0.082770  0.002570 -0.010177 -0.026065  0.007817 -0.036339  0.081744   \n",
              "..        ...       ...       ...       ...       ...       ...       ...   \n",
              "475  0.020136  0.019107  0.022517  0.024678 -0.004383 -0.014104 -0.004821   \n",
              "476  0.011242 -0.030881 -0.013107 -0.039007 -0.024104  0.019351  0.018914   \n",
              "477  0.001668 -0.009229 -0.018335 -0.007193 -0.006950  0.009409  0.023862   \n",
              "478  0.016939 -0.001445 -0.006378  0.005376  0.015946 -0.009927 -0.005887   \n",
              "479 -0.017027 -0.035666 -0.007452  0.000723 -0.002001 -0.006690  0.073640   \n",
              "\n",
              "      comp_14   comp_15   comp_16   comp_17   comp_18   comp_19  \n",
              "0    0.012536  0.019139  0.010063  0.053355  0.029089 -0.047944  \n",
              "1    0.025184 -0.033122  0.057303  0.043115  0.040750  0.031957  \n",
              "2   -0.035244  0.050552  0.075498  0.128153  0.105942 -0.082651  \n",
              "3   -0.024428  0.040057 -0.062722  0.015732  0.057346 -0.126076  \n",
              "4   -0.071401  0.172297  0.081993  0.006882 -0.093618  0.062384  \n",
              "..        ...       ...       ...       ...       ...       ...  \n",
              "475  0.006644 -0.021162  0.024943  0.018777  0.016967 -0.005251  \n",
              "476 -0.100033 -0.010647  0.005717 -0.034057  0.013221  0.014838  \n",
              "477 -0.016322  0.022439  0.016110 -0.024281  0.003258 -0.008167  \n",
              "478  0.008245 -0.000361  0.021684  0.025971  0.006554 -0.002848  \n",
              "479 -0.012497 -0.007323  0.001500 -0.009598  0.007179  0.028868  \n",
              "\n",
              "[480 rows x 20 columns]"
            ]
          },
          "execution_count": 20,
          "metadata": {},
          "output_type": "execute_result"
        }
      ],
      "source": [
        "df_components"
      ]
    },
    {
      "cell_type": "code",
      "execution_count": 21,
      "metadata": {},
      "outputs": [
        {
          "data": {
            "text/plain": [
              "<AxesSubplot:xlabel='comp_0', ylabel='comp_1'>"
            ]
          },
          "execution_count": 21,
          "metadata": {},
          "output_type": "execute_result"
        },
        {
          "data": {
            "image/png": "[encoded data removed]",
            "text/plain": [
              "<Figure size 640x480 with 1 Axes>"
            ]
          },
          "metadata": {},
          "output_type": "display_data"
        }
      ],
      "source": [
        "sns.scatterplot(data=df_components, x='comp_0', y='comp_1')"
      ]
    },
    {
      "cell_type": "markdown",
      "metadata": {},
      "source": [
        "These are recordings of 5 different images! Let's see if they're represented differently."
      ]
    },
    {
      "cell_type": "code",
      "execution_count": 22,
      "metadata": {},
      "outputs": [],
      "source": [
        "img_index = np.load('img_index.npy')"
      ]
    },
    {
      "cell_type": "code",
      "execution_count": 23,
      "metadata": {},
      "outputs": [
        {
          "data": {
            "text/plain": [
              "array([1, 4, 3, 2, 5, 2, 1, 5, 3, 4, 4, 5, 1, 3, 2, 1, 3, 4, 5, 2, 4, 5,\n",
              "       2, 1, 3, 1, 4, 5, 2, 3, 5, 4, 3, 2, 1, 1, 2, 3, 5, 4, 1, 4, 5, 3,\n",
              "       2, 3, 4, 2, 5, 1, 3, 2, 4, 5, 1, 4, 5, 1, 3, 2, 5, 4, 1, 2, 3, 4,\n",
              "       5, 3, 2, 1, 4, 1, 3, 2, 5, 2, 3, 1, 4, 5, 2, 3, 4, 1, 5, 1, 2, 3,\n",
              "       5, 4, 2, 1, 3, 4, 5, 5, 4, 3, 1, 2, 5, 1, 2, 3, 4, 2, 3, 4, 1, 5,\n",
              "       5, 2, 3, 1, 4, 2, 4, 3, 1, 5, 4, 1, 2, 5, 3, 3, 2, 4, 5, 1, 2, 5,\n",
              "       4, 1, 3, 1, 2, 4, 5, 3, 4, 2, 5, 1, 3, 2, 5, 3, 4, 1, 5, 1, 2, 3,\n",
              "       4, 1, 3, 2, 5, 4, 1, 5, 3, 2, 4, 5, 4, 1, 2, 3, 1, 3, 2, 5, 4, 5,\n",
              "       3, 1, 4, 2, 1, 2, 4, 3, 5, 5, 3, 1, 4, 2, 4, 5, 3, 2, 1, 3, 5, 2,\n",
              "       1, 4, 1, 5, 3, 2, 4, 1, 4, 2, 5, 3, 4, 3, 1, 2, 5, 2, 1, 3, 5, 4,\n",
              "       5, 1, 2, 3, 4, 1, 2, 3, 5, 4, 4, 2, 5, 3, 1, 1, 4, 3, 5, 2, 5, 1,\n",
              "       2, 3, 4, 1, 2, 5, 4, 3, 5, 4, 1, 3, 2, 5, 1, 3, 2, 4, 5, 4, 1, 2,\n",
              "       3, 4, 2, 5, 1, 3, 2, 1, 5, 4, 3, 2, 3, 4, 1, 5, 5, 4, 2, 1, 3, 1,\n",
              "       2, 3, 5, 4, 5, 1, 2, 3, 4, 4, 2, 3, 5, 1, 2, 3, 1, 5, 4, 5, 1, 3,\n",
              "       4, 2, 1, 5, 4, 3, 2, 4, 2, 5, 3, 1, 3, 1, 5, 2, 4, 5, 4, 1, 2, 3,\n",
              "       5, 2, 3, 4, 1, 4, 2, 1, 3, 5, 4, 1, 2, 5, 3, 5, 2, 4, 3, 1, 3, 4,\n",
              "       2, 5, 1, 1, 4, 5, 3, 2, 3, 2, 4, 5, 1, 4, 2, 3, 1, 5, 4, 2, 3, 1,\n",
              "       5, 5, 4, 3, 1, 2, 5, 2, 3, 4, 1, 5, 3, 4, 1, 2, 4, 2, 1, 5, 3, 5,\n",
              "       1, 3, 4, 2, 2, 1, 3, 4, 5, 1, 3, 5, 4, 2, 3, 4, 1, 2, 5, 5, 3, 4,\n",
              "       2, 1, 1, 5, 3, 2, 4, 1, 3, 5, 2, 4, 3, 4, 5, 1, 2, 1, 5, 2, 3, 4,\n",
              "       2, 5, 1, 4, 3, 4, 1, 2, 5, 3, 1, 3, 2, 5, 4, 4, 2, 3, 1, 5, 2, 5,\n",
              "       3, 1, 4, 4, 1, 2, 3, 5, 2, 1, 5, 4, 3, 1, 5, 4, 3, 2], dtype=uint8)"
            ]
          },
          "execution_count": 23,
          "metadata": {},
          "output_type": "execute_result"
        }
      ],
      "source": [
        "img_index"
      ]
    },
    {
      "cell_type": "code",
      "execution_count": 24,
      "metadata": {},
      "outputs": [],
      "source": [
        "df_components['img_index'] = img_index.astype(str)"
      ]
    },
    {
      "cell_type": "code",
      "execution_count": 25,
      "metadata": {},
      "outputs": [
        {
          "data": {
            "text/html": [
              "<div>\n",
              "<style scoped>\n",
              "    .dataframe tbody tr th:only-of-type {\n",
              "        vertical-align: middle;\n",
              "    }\n",
              "\n",
              "    .dataframe tbody tr th {\n",
              "        vertical-align: top;\n",
              "    }\n",
              "\n",
              "    .dataframe thead th {\n",
              "        text-align: right;\n",
              "    }\n",
              "</style>\n",
              "<table border=\"1\" class=\"dataframe\">\n",
              "  <thead>\n",
              "    <tr style=\"text-align: right;\">\n",
              "      <th></th>\n",
              "      <th>comp_0</th>\n",
              "      <th>comp_1</th>\n",
              "      <th>comp_2</th>\n",
              "      <th>comp_3</th>\n",
              "      <th>comp_4</th>\n",
              "      <th>comp_5</th>\n",
              "      <th>comp_6</th>\n",
              "      <th>comp_7</th>\n",
              "      <th>comp_8</th>\n",
              "      <th>comp_9</th>\n",
              "      <th>...</th>\n",
              "      <th>comp_11</th>\n",
              "      <th>comp_12</th>\n",
              "      <th>comp_13</th>\n",
              "      <th>comp_14</th>\n",
              "      <th>comp_15</th>\n",
              "      <th>comp_16</th>\n",
              "      <th>comp_17</th>\n",
              "      <th>comp_18</th>\n",
              "      <th>comp_19</th>\n",
              "      <th>img_index</th>\n",
              "    </tr>\n",
              "  </thead>\n",
              "  <tbody>\n",
              "    <tr>\n",
              "      <th>0</th>\n",
              "      <td>0.030101</td>\n",
              "      <td>0.015840</td>\n",
              "      <td>0.048021</td>\n",
              "      <td>-0.024840</td>\n",
              "      <td>-0.080392</td>\n",
              "      <td>0.048463</td>\n",
              "      <td>0.009869</td>\n",
              "      <td>-0.039931</td>\n",
              "      <td>-0.056083</td>\n",
              "      <td>-0.052054</td>\n",
              "      <td>...</td>\n",
              "      <td>0.016584</td>\n",
              "      <td>0.069261</td>\n",
              "      <td>0.005822</td>\n",
              "      <td>0.012536</td>\n",
              "      <td>0.019139</td>\n",
              "      <td>0.010063</td>\n",
              "      <td>0.053355</td>\n",
              "      <td>0.029089</td>\n",
              "      <td>-0.047944</td>\n",
              "      <td>1</td>\n",
              "    </tr>\n",
              "    <tr>\n",
              "      <th>1</th>\n",
              "      <td>0.038480</td>\n",
              "      <td>0.006802</td>\n",
              "      <td>0.050434</td>\n",
              "      <td>0.048128</td>\n",
              "      <td>0.001429</td>\n",
              "      <td>0.096599</td>\n",
              "      <td>0.079099</td>\n",
              "      <td>0.037747</td>\n",
              "      <td>-0.071280</td>\n",
              "      <td>-0.004304</td>\n",
              "      <td>...</td>\n",
              "      <td>0.054474</td>\n",
              "      <td>-0.007408</td>\n",
              "      <td>-0.027984</td>\n",
              "      <td>0.025184</td>\n",
              "      <td>-0.033122</td>\n",
              "      <td>0.057303</td>\n",
              "      <td>0.043115</td>\n",
              "      <td>0.040750</td>\n",
              "      <td>0.031957</td>\n",
              "      <td>4</td>\n",
              "    </tr>\n",
              "    <tr>\n",
              "      <th>2</th>\n",
              "      <td>0.058451</td>\n",
              "      <td>0.001144</td>\n",
              "      <td>0.037994</td>\n",
              "      <td>-0.060235</td>\n",
              "      <td>0.068519</td>\n",
              "      <td>0.146990</td>\n",
              "      <td>0.084104</td>\n",
              "      <td>-0.010206</td>\n",
              "      <td>0.064390</td>\n",
              "      <td>-0.082866</td>\n",
              "      <td>...</td>\n",
              "      <td>-0.027368</td>\n",
              "      <td>-0.138625</td>\n",
              "      <td>-0.001821</td>\n",
              "      <td>-0.035244</td>\n",
              "      <td>0.050552</td>\n",
              "      <td>0.075498</td>\n",
              "      <td>0.128153</td>\n",
              "      <td>0.105942</td>\n",
              "      <td>-0.082651</td>\n",
              "      <td>3</td>\n",
              "    </tr>\n",
              "    <tr>\n",
              "      <th>3</th>\n",
              "      <td>0.045857</td>\n",
              "      <td>0.117573</td>\n",
              "      <td>-0.056693</td>\n",
              "      <td>0.012179</td>\n",
              "      <td>-0.017930</td>\n",
              "      <td>0.020666</td>\n",
              "      <td>0.063060</td>\n",
              "      <td>-0.073058</td>\n",
              "      <td>0.029918</td>\n",
              "      <td>-0.017843</td>\n",
              "      <td>...</td>\n",
              "      <td>0.019897</td>\n",
              "      <td>0.035643</td>\n",
              "      <td>-0.207385</td>\n",
              "      <td>-0.024428</td>\n",
              "      <td>0.040057</td>\n",
              "      <td>-0.062722</td>\n",
              "      <td>0.015732</td>\n",
              "      <td>0.057346</td>\n",
              "      <td>-0.126076</td>\n",
              "      <td>2</td>\n",
              "    </tr>\n",
              "    <tr>\n",
              "      <th>4</th>\n",
              "      <td>0.059655</td>\n",
              "      <td>-0.052693</td>\n",
              "      <td>-0.067922</td>\n",
              "      <td>-0.004119</td>\n",
              "      <td>-0.046574</td>\n",
              "      <td>0.084172</td>\n",
              "      <td>0.070585</td>\n",
              "      <td>0.082770</td>\n",
              "      <td>0.002570</td>\n",
              "      <td>-0.010177</td>\n",
              "      <td>...</td>\n",
              "      <td>0.007817</td>\n",
              "      <td>-0.036339</td>\n",
              "      <td>0.081744</td>\n",
              "      <td>-0.071401</td>\n",
              "      <td>0.172297</td>\n",
              "      <td>0.081993</td>\n",
              "      <td>0.006882</td>\n",
              "      <td>-0.093618</td>\n",
              "      <td>0.062384</td>\n",
              "      <td>5</td>\n",
              "    </tr>\n",
              "    <tr>\n",
              "      <th>...</th>\n",
              "      <td>...</td>\n",
              "      <td>...</td>\n",
              "      <td>...</td>\n",
              "      <td>...</td>\n",
              "      <td>...</td>\n",
              "      <td>...</td>\n",
              "      <td>...</td>\n",
              "      <td>...</td>\n",
              "      <td>...</td>\n",
              "      <td>...</td>\n",
              "      <td>...</td>\n",
              "      <td>...</td>\n",
              "      <td>...</td>\n",
              "      <td>...</td>\n",
              "      <td>...</td>\n",
              "      <td>...</td>\n",
              "      <td>...</td>\n",
              "      <td>...</td>\n",
              "      <td>...</td>\n",
              "      <td>...</td>\n",
              "      <td>...</td>\n",
              "    </tr>\n",
              "    <tr>\n",
              "      <th>475</th>\n",
              "      <td>0.018063</td>\n",
              "      <td>0.009878</td>\n",
              "      <td>0.014739</td>\n",
              "      <td>-0.036785</td>\n",
              "      <td>-0.018146</td>\n",
              "      <td>-0.045170</td>\n",
              "      <td>0.025055</td>\n",
              "      <td>0.020136</td>\n",
              "      <td>0.019107</td>\n",
              "      <td>0.022517</td>\n",
              "      <td>...</td>\n",
              "      <td>-0.004383</td>\n",
              "      <td>-0.014104</td>\n",
              "      <td>-0.004821</td>\n",
              "      <td>0.006644</td>\n",
              "      <td>-0.021162</td>\n",
              "      <td>0.024943</td>\n",
              "      <td>0.018777</td>\n",
              "      <td>0.016967</td>\n",
              "      <td>-0.005251</td>\n",
              "      <td>1</td>\n",
              "    </tr>\n",
              "    <tr>\n",
              "      <th>476</th>\n",
              "      <td>0.035360</td>\n",
              "      <td>-0.035641</td>\n",
              "      <td>-0.038032</td>\n",
              "      <td>0.000924</td>\n",
              "      <td>0.005202</td>\n",
              "      <td>-0.032945</td>\n",
              "      <td>0.006266</td>\n",
              "      <td>0.011242</td>\n",
              "      <td>-0.030881</td>\n",
              "      <td>-0.013107</td>\n",
              "      <td>...</td>\n",
              "      <td>-0.024104</td>\n",
              "      <td>0.019351</td>\n",
              "      <td>0.018914</td>\n",
              "      <td>-0.100033</td>\n",
              "      <td>-0.010647</td>\n",
              "      <td>0.005717</td>\n",
              "      <td>-0.034057</td>\n",
              "      <td>0.013221</td>\n",
              "      <td>0.014838</td>\n",
              "      <td>5</td>\n",
              "    </tr>\n",
              "    <tr>\n",
              "      <th>477</th>\n",
              "      <td>0.027097</td>\n",
              "      <td>-0.005664</td>\n",
              "      <td>0.010562</td>\n",
              "      <td>0.024096</td>\n",
              "      <td>0.014612</td>\n",
              "      <td>-0.014500</td>\n",
              "      <td>0.000226</td>\n",
              "      <td>0.001668</td>\n",
              "      <td>-0.009229</td>\n",
              "      <td>-0.018335</td>\n",
              "      <td>...</td>\n",
              "      <td>-0.006950</td>\n",
              "      <td>0.009409</td>\n",
              "      <td>0.023862</td>\n",
              "      <td>-0.016322</td>\n",
              "      <td>0.022439</td>\n",
              "      <td>0.016110</td>\n",
              "      <td>-0.024281</td>\n",
              "      <td>0.003258</td>\n",
              "      <td>-0.008167</td>\n",
              "      <td>4</td>\n",
              "    </tr>\n",
              "    <tr>\n",
              "      <th>478</th>\n",
              "      <td>0.006720</td>\n",
              "      <td>0.000504</td>\n",
              "      <td>-0.000810</td>\n",
              "      <td>-0.008482</td>\n",
              "      <td>0.000406</td>\n",
              "      <td>-0.001621</td>\n",
              "      <td>-0.004695</td>\n",
              "      <td>0.016939</td>\n",
              "      <td>-0.001445</td>\n",
              "      <td>-0.006378</td>\n",
              "      <td>...</td>\n",
              "      <td>0.015946</td>\n",
              "      <td>-0.009927</td>\n",
              "      <td>-0.005887</td>\n",
              "      <td>0.008245</td>\n",
              "      <td>-0.000361</td>\n",
              "      <td>0.021684</td>\n",
              "      <td>0.025971</td>\n",
              "      <td>0.006554</td>\n",
              "      <td>-0.002848</td>\n",
              "      <td>3</td>\n",
              "    </tr>\n",
              "    <tr>\n",
              "      <th>479</th>\n",
              "      <td>0.029831</td>\n",
              "      <td>0.065212</td>\n",
              "      <td>-0.023432</td>\n",
              "      <td>0.001565</td>\n",
              "      <td>-0.013240</td>\n",
              "      <td>-0.012261</td>\n",
              "      <td>-0.020547</td>\n",
              "      <td>-0.017027</td>\n",
              "      <td>-0.035666</td>\n",
              "      <td>-0.007452</td>\n",
              "      <td>...</td>\n",
              "      <td>-0.002001</td>\n",
              "      <td>-0.006690</td>\n",
              "      <td>0.073640</td>\n",
              "      <td>-0.012497</td>\n",
              "      <td>-0.007323</td>\n",
              "      <td>0.001500</td>\n",
              "      <td>-0.009598</td>\n",
              "      <td>0.007179</td>\n",
              "      <td>0.028868</td>\n",
              "      <td>2</td>\n",
              "    </tr>\n",
              "  </tbody>\n",
              "</table>\n",
              "<p>480 rows × 21 columns</p>\n",
              "</div>"
            ],
            "text/plain": [
              "       comp_0    comp_1    comp_2    comp_3    comp_4    comp_5    comp_6  \\\n",
              "0    0.030101  0.015840  0.048021 -0.024840 -0.080392  0.048463  0.009869   \n",
              "1    0.038480  0.006802  0.050434  0.048128  0.001429  0.096599  0.079099   \n",
              "2    0.058451  0.001144  0.037994 -0.060235  0.068519  0.146990  0.084104   \n",
              "3    0.045857  0.117573 -0.056693  0.012179 -0.017930  0.020666  0.063060   \n",
              "4    0.059655 -0.052693 -0.067922 -0.004119 -0.046574  0.084172  0.070585   \n",
              "..        ...       ...       ...       ...       ...       ...       ...   \n",
              "475  0.018063  0.009878  0.014739 -0.036785 -0.018146 -0.045170  0.025055   \n",
              "476  0.035360 -0.035641 -0.038032  0.000924  0.005202 -0.032945  0.006266   \n",
              "477  0.027097 -0.005664  0.010562  0.024096  0.014612 -0.014500  0.000226   \n",
              "478  0.006720  0.000504 -0.000810 -0.008482  0.000406 -0.001621 -0.004695   \n",
              "479  0.029831  0.065212 -0.023432  0.001565 -0.013240 -0.012261 -0.020547   \n",
              "\n",
              "       comp_7    comp_8    comp_9  ...   comp_11   comp_12   comp_13  \\\n",
              "0   -0.039931 -0.056083 -0.052054  ...  0.016584  0.069261  0.005822   \n",
              "1    0.037747 -0.071280 -0.004304  ...  0.054474 -0.007408 -0.027984   \n",
              "2   -0.010206  0.064390 -0.082866  ... -0.027368 -0.138625 -0.001821   \n",
              "3   -0.073058  0.029918 -0.017843  ...  0.019897  0.035643 -0.207385   \n",
              "4    0.082770  0.002570 -0.010177  ...  0.007817 -0.036339  0.081744   \n",
              "..        ...       ...       ...  ...       ...       ...       ...   \n",
              "475  0.020136  0.019107  0.022517  ... -0.004383 -0.014104 -0.004821   \n",
              "476  0.011242 -0.030881 -0.013107  ... -0.024104  0.019351  0.018914   \n",
              "477  0.001668 -0.009229 -0.018335  ... -0.006950  0.009409  0.023862   \n",
              "478  0.016939 -0.001445 -0.006378  ...  0.015946 -0.009927 -0.005887   \n",
              "479 -0.017027 -0.035666 -0.007452  ... -0.002001 -0.006690  0.073640   \n",
              "\n",
              "      comp_14   comp_15   comp_16   comp_17   comp_18   comp_19  img_index  \n",
              "0    0.012536  0.019139  0.010063  0.053355  0.029089 -0.047944          1  \n",
              "1    0.025184 -0.033122  0.057303  0.043115  0.040750  0.031957          4  \n",
              "2   -0.035244  0.050552  0.075498  0.128153  0.105942 -0.082651          3  \n",
              "3   -0.024428  0.040057 -0.062722  0.015732  0.057346 -0.126076          2  \n",
              "4   -0.071401  0.172297  0.081993  0.006882 -0.093618  0.062384          5  \n",
              "..        ...       ...       ...       ...       ...       ...        ...  \n",
              "475  0.006644 -0.021162  0.024943  0.018777  0.016967 -0.005251          1  \n",
              "476 -0.100033 -0.010647  0.005717 -0.034057  0.013221  0.014838          5  \n",
              "477 -0.016322  0.022439  0.016110 -0.024281  0.003258 -0.008167          4  \n",
              "478  0.008245 -0.000361  0.021684  0.025971  0.006554 -0.002848          3  \n",
              "479 -0.012497 -0.007323  0.001500 -0.009598  0.007179  0.028868          2  \n",
              "\n",
              "[480 rows x 21 columns]"
            ]
          },
          "execution_count": 25,
          "metadata": {},
          "output_type": "execute_result"
        }
      ],
      "source": [
        "df_components"
      ]
    },
    {
      "cell_type": "code",
      "execution_count": 26,
      "metadata": {},
      "outputs": [
        {
          "data": {
            "text/plain": [
              "<AxesSubplot:xlabel='comp_0', ylabel='comp_1'>"
            ]
          },
          "execution_count": 26,
          "metadata": {},
          "output_type": "execute_result"
        },
        {
          "data": {
            "image/png": "[encoded data removed]",
            "text/plain": [
              "<Figure size 640x480 with 1 Axes>"
            ]
          },
          "metadata": {},
          "output_type": "display_data"
        }
      ],
      "source": [
        "sns.scatterplot(data=df_components, x='comp_0', y='comp_1', hue='img_index')"
      ]
    },
    {
      "cell_type": "markdown",
      "metadata": {},
      "source": [
        "## Support vector machines\n",
        "\n",
        "How differently do the recordings represent repeated presentations of different images? One way of answering this question is by trying to predict which image each data point is representing."
      ]
    },
    {
      "cell_type": "code",
      "execution_count": 54,
      "metadata": {},
      "outputs": [
        {
          "data": {
            "text/plain": [
              "<AxesSubplot:xlabel='comp_0', ylabel='comp_1'>"
            ]
          },
          "execution_count": 54,
          "metadata": {},
          "output_type": "execute_result"
        },
        {
          "data": {
            "image/png": "[encoded data removed]",
            "text/plain": [
              "<Figure size 640x480 with 1 Axes>"
            ]
          },
          "metadata": {},
          "output_type": "display_data"
        }
      ],
      "source": [
        "sns.scatterplot(data=df_components[np.isin(df_components['img_index'], ['3', '4'])], x='comp_0', y='comp_1', hue='img_index')"
      ]
    },
    {
      "cell_type": "markdown",
      "metadata": {},
      "source": [
        "One method for doing so is a support vector machine, which tries to draw a line that separates the two classes."
      ]
    },
    {
      "cell_type": "markdown",
      "metadata": {},
      "source": [
        "## Problem 4: Support vector machine\n",
        "\n",
        "Build a support vector machine that tries to predict whether a particular response represents image 1 or 2. Below we're extracting the responses to those two images:"
      ]
    },
    {
      "cell_type": "code",
      "execution_count": 35,
      "metadata": {},
      "outputs": [],
      "source": [
        "components_subset = components[:,np.isin(df_components['img_index'], ['3', '4'])]\n",
        "img_index_subset = df_components['img_index'][np.isin(df_components['img_index'], ['3', '4'])]"
      ]
    },
    {
      "cell_type": "code",
      "execution_count": 47,
      "metadata": {},
      "outputs": [],
      "source": [
        "train_x = components_subset[:,:150]\n",
        "train_y = img_index_subset[:150]\n",
        "test_x = components_subset[:,150:]\n",
        "test_y = img_index_subset[150:]"
      ]
    },
    {
      "cell_type": "markdown",
      "metadata": {},
      "source": [
        "As before, try to find the help page for support vector machines. You should use the class `SVC` and use a linear kernel. Copy the relevant code and try to change the important parts to it. Again, make sure that your data is in the right shape and transpose the arrays if necessary. After fitting, try to compute the accuracy of your model on the test data.\n",
        "\n",
        "**Hint:** The help page uses a pipeline (a concept we haven't gotten to in class). You can copy the entire pipeline."
      ]
    },
    {
      "cell_type": "code",
      "execution_count": 51,
      "metadata": {},
      "outputs": [
        {
          "data": {
            "text/html": [
              "<style>#sk-container-id-6 {color: black;}#sk-container-id-6 pre{padding: 0;}#sk-container-id-6 div.sk-toggleable {background-color: white;}#sk-container-id-6 label.sk-toggleable__label {cursor: pointer;display: block;width: 100%;margin-bottom: 0;padding: 0.3em;box-sizing: border-box;text-align: center;}#sk-container-id-6 label.sk-toggleable__label-arrow:before {content: \"▸\";float: left;margin-right: 0.25em;color: #696969;}#sk-container-id-6 label.sk-toggleable__label-arrow:hover:before {color: black;}#sk-container-id-6 div.sk-estimator:hover label.sk-toggleable__label-arrow:before {color: black;}#sk-container-id-6 div.sk-toggleable__content {max-height: 0;max-width: 0;overflow: hidden;text-align: left;background-color: #f0f8ff;}#sk-container-id-6 div.sk-toggleable__content pre {margin: 0.2em;color: black;border-radius: 0.25em;background-color: #f0f8ff;}#sk-container-id-6 input.sk-toggleable__control:checked~div.sk-toggleable__content {max-height: 200px;max-width: 100%;overflow: auto;}#sk-container-id-6 input.sk-toggleable__control:checked~label.sk-toggleable__label-arrow:before {content: \"▾\";}#sk-container-id-6 div.sk-estimator input.sk-toggleable__control:checked~label.sk-toggleable__label {background-color: #d4ebff;}#sk-container-id-6 div.sk-label input.sk-toggleable__control:checked~label.sk-toggleable__label {background-color: #d4ebff;}#sk-container-id-6 input.sk-hidden--visually {border: 0;clip: rect(1px 1px 1px 1px);clip: rect(1px, 1px, 1px, 1px);height: 1px;margin: -1px;overflow: hidden;padding: 0;position: absolute;width: 1px;}#sk-container-id-6 div.sk-estimator {font-family: monospace;background-color: #f0f8ff;border: 1px dotted black;border-radius: 0.25em;box-sizing: border-box;margin-bottom: 0.5em;}#sk-container-id-6 div.sk-estimator:hover {background-color: #d4ebff;}#sk-container-id-6 div.sk-parallel-item::after {content: \"\";width: 100%;border-bottom: 1px solid gray;flex-grow: 1;}#sk-container-id-6 div.sk-label:hover label.sk-toggleable__label {background-color: #d4ebff;}#sk-container-id-6 div.sk-serial::before {content: \"\";position: absolute;border-left: 1px solid gray;box-sizing: border-box;top: 0;bottom: 0;left: 50%;z-index: 0;}#sk-container-id-6 div.sk-serial {display: flex;flex-direction: column;align-items: center;background-color: white;padding-right: 0.2em;padding-left: 0.2em;position: relative;}#sk-container-id-6 div.sk-item {position: relative;z-index: 1;}#sk-container-id-6 div.sk-parallel {display: flex;align-items: stretch;justify-content: center;background-color: white;position: relative;}#sk-container-id-6 div.sk-item::before, #sk-container-id-6 div.sk-parallel-item::before {content: \"\";position: absolute;border-left: 1px solid gray;box-sizing: border-box;top: 0;bottom: 0;left: 50%;z-index: -1;}#sk-container-id-6 div.sk-parallel-item {display: flex;flex-direction: column;z-index: 1;position: relative;background-color: white;}#sk-container-id-6 div.sk-parallel-item:first-child::after {align-self: flex-end;width: 50%;}#sk-container-id-6 div.sk-parallel-item:last-child::after {align-self: flex-start;width: 50%;}#sk-container-id-6 div.sk-parallel-item:only-child::after {width: 0;}#sk-container-id-6 div.sk-dashed-wrapped {border: 1px dashed gray;margin: 0 0.4em 0.5em 0.4em;box-sizing: border-box;padding-bottom: 0.4em;background-color: white;}#sk-container-id-6 div.sk-label label {font-family: monospace;font-weight: bold;display: inline-block;line-height: 1.2em;}#sk-container-id-6 div.sk-label-container {text-align: center;}#sk-container-id-6 div.sk-container {/* jupyter's `normalize.less` sets `[hidden] { display: none; }` but bootstrap.min.css set `[hidden] { display: none !important; }` so we also need the `!important` here to be able to override the default hidden behavior on the sphinx rendered scikit-learn.org. See: https://github.com/scikit-learn/scikit-learn/issues/21755 */display: inline-block !important;position: relative;}#sk-container-id-6 div.sk-text-repr-fallback {display: none;}</style><div id=\"sk-container-id-6\" class=\"sk-top-container\"><div class=\"sk-text-repr-fallback\"><pre>Pipeline(steps=[(&#x27;standardscaler&#x27;, StandardScaler()),\n",
              "                (&#x27;svc&#x27;, SVC(gamma=&#x27;auto&#x27;, kernel=&#x27;linear&#x27;))])</pre><b>In a Jupyter environment, please rerun this cell to show the HTML representation or trust the notebook. <br />On GitHub, the HTML representation is unable to render, please try loading this page with nbviewer.org.</b></div><div class=\"sk-container\" hidden><div class=\"sk-item sk-dashed-wrapped\"><div class=\"sk-label-container\"><div class=\"sk-label sk-toggleable\"><input class=\"sk-toggleable__control sk-hidden--visually\" id=\"sk-estimator-id-14\" type=\"checkbox\" ><label for=\"sk-estimator-id-14\" class=\"sk-toggleable__label sk-toggleable__label-arrow\">Pipeline</label><div class=\"sk-toggleable__content\"><pre>Pipeline(steps=[(&#x27;standardscaler&#x27;, StandardScaler()),\n",
              "                (&#x27;svc&#x27;, SVC(gamma=&#x27;auto&#x27;, kernel=&#x27;linear&#x27;))])</pre></div></div></div><div class=\"sk-serial\"><div class=\"sk-item\"><div class=\"sk-estimator sk-toggleable\"><input class=\"sk-toggleable__control sk-hidden--visually\" id=\"sk-estimator-id-15\" type=\"checkbox\" ><label for=\"sk-estimator-id-15\" class=\"sk-toggleable__label sk-toggleable__label-arrow\">StandardScaler</label><div class=\"sk-toggleable__content\"><pre>StandardScaler()</pre></div></div></div><div class=\"sk-item\"><div class=\"sk-estimator sk-toggleable\"><input class=\"sk-toggleable__control sk-hidden--visually\" id=\"sk-estimator-id-16\" type=\"checkbox\" ><label for=\"sk-estimator-id-16\" class=\"sk-toggleable__label sk-toggleable__label-arrow\">SVC</label><div class=\"sk-toggleable__content\"><pre>SVC(gamma=&#x27;auto&#x27;, kernel=&#x27;linear&#x27;)</pre></div></div></div></div></div></div></div>"
            ],
            "text/plain": [
              "Pipeline(steps=[('standardscaler', StandardScaler()),\n",
              "                ('svc', SVC(gamma='auto', kernel='linear'))])"
            ]
          },
          "execution_count": 51,
          "metadata": {},
          "output_type": "execute_result"
        }
      ],
      "source": [
        "import numpy as np\n",
        "from sklearn.pipeline import make_pipeline\n",
        "from sklearn.preprocessing import StandardScaler\n",
        "from sklearn.svm import SVC\n",
        "clf = make_pipeline(StandardScaler(), SVC(gamma='auto', kernel='linear'))\n",
        "clf.fit(train_x.T, train_y)"
      ]
    },
    {
      "cell_type": "code",
      "execution_count": 52,
      "metadata": {},
      "outputs": [
        {
          "data": {
            "text/plain": [
              "1.0"
            ]
          },
          "execution_count": 52,
          "metadata": {},
          "output_type": "execute_result"
        }
      ],
      "source": [
        "clf.score(test_x.T, test_y)"
      ]
    },
    {
      "cell_type": "markdown",
      "metadata": {},
      "source": [
        "## Model assumptions\n",
        "\n",
        "Just like with any other scientific method, the assumptions underlying a particular machine learning method may not always be inappropriate (and indeed always have their drawbacks). It is therefore important to be aware of those drawbacks and even try out a few different methods to make sure whether your findings are vulnerable to a particular methodology."
      ]
    }
  ],
  "metadata": {
    "colab": {
      "provenance": []
    },
    "kernelspec": {
      "display_name": "intropython",
      "language": "python",
      "name": "python3"
    },
    "language_info": {
      "codemirror_mode": {
        "name": "ipython",
        "version": 3
      },
      "file_extension": ".py",
      "mimetype": "text/x-python",
      "name": "python",
      "nbconvert_exporter": "python",
      "pygments_lexer": "ipython3",
      "version": "3.10.6"
    }
  },
  "nbformat": 4,
  "nbformat_minor": 0
}
