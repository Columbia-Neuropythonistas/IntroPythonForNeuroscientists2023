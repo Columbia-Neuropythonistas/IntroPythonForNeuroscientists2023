{
  "cells": [
    {
      "cell_type": "markdown",
      "metadata": {
        "id": "NmVJfktZ7fTC"
      },
      "source": [
        "![Logo](https://github.com/Columbia-Neuropythonistas/IntroPythonForNeuroscientists2023/assets/65978061/138766b5-ac36-4dc8-b9d4-bf512ecebe78)\n",
        "\n",
        "# **Week 9: Machine learning and navigating codebases**"
      ]
    },
    {
      "cell_type": "code",
      "execution_count": 1,
      "metadata": {
        "id": "LDU3TOHT7fTD"
      },
      "outputs": [],
      "source": [
        "#remember that when we use 'as', we are simply telling Python what term we want to refer to our imported packages by\n",
        "import pandas as pd\n",
        "import numpy as np\n",
        "import matplotlib.pyplot as plt\n",
        "import seaborn as sns\n",
        "\n",
        "%matplotlib inline\n"
      ]
    },
    {
      "cell_type": "markdown",
      "metadata": {
        "id": "uYEyjrMzCVTH"
      },
      "source": [
        "## Problem 1: Finding the dataset\n",
        "\n",
        "We are going to analyse data collected in [High-dimensional geometry of population responses in visual cortex](https://www.nature.com/articles/s41586-019-1346-5).\n",
        "\n",
        "1. Try to find where the data is available (hint: Nature and many other journals have a \"Data availability\" section).\n",
        "2. There are many different files stored in the repository. We want to download the data recorded in mouse \"M170717\" on August 25, 2017. To figure out how the files are stored, consult the instructions on [Github repository](https://github.com/MouseLand/stringer-pachitariu-et-al-2018b). (**Important:** Make sure you download the neural recordings, not the stimulus set!)"
      ]
    },
    {
      "cell_type": "markdown",
      "metadata": {
        "id": "J71Ue_Gc7fTD"
      },
      "source": [
        "## Getting to know the dataset"
      ]
    },
    {
      "cell_type": "markdown",
      "metadata": {
        "id": "Ry3YM62FE7Yc"
      },
      "source": [
        "I've already prepared a numpy array containing the specific responses. Below we're loading it into the notebook:"
      ]
    },
    {
      "cell_type": "code",
      "execution_count": 2,
      "metadata": {
        "colab": {
          "base_uri": "https://localhost:8080/",
          "height": 324
        },
        "id": "ox26A_mnE6iM",
        "outputId": "3fdf0632-204a-4287-f3d1-67cd95d9cefe"
      },
      "outputs": [],
      "source": [
        "recording = np.load('recording.npy')"
      ]
    },
    {
      "cell_type": "markdown",
      "metadata": {},
      "source": [
        "How is this array structured?"
      ]
    },
    {
      "cell_type": "code",
      "execution_count": 3,
      "metadata": {
        "colab": {
          "base_uri": "https://localhost:8080/"
        },
        "id": "O4o1p5v4Gmoj",
        "outputId": "8ef33315-da08-42e1-e968-51beb156e97c"
      },
      "outputs": [
        {
          "data": {
            "text/plain": [
              "(480, 11523)"
            ]
          },
          "execution_count": 3,
          "metadata": {},
          "output_type": "execute_result"
        }
      ],
      "source": [
        "recording.shape"
      ]
    },
    {
      "cell_type": "markdown",
      "metadata": {},
      "source": [
        "It contains the responses of 11,523 neurons to 480 stimuli."
      ]
    },
    {
      "cell_type": "markdown",
      "metadata": {},
      "source": [
        "## Problem 2"
      ]
    },
    {
      "cell_type": "markdown",
      "metadata": {},
      "source": [
        "To get some idea of the data, let's plot a histogram of the first neuron's responses across all presented images. At this point, we just quickly want to get an idea for the format of the data. Since it is a numpy array, matplotlib is perfect for this."
      ]
    },
    {
      "cell_type": "code",
      "execution_count": null,
      "metadata": {},
      "outputs": [],
      "source": []
    },
    {
      "cell_type": "markdown",
      "metadata": {},
      "source": [
        "This data is extremely high-dimensional and so it is difficult to get a good idea of structures within this data simply from examining it. **Machine learning** makes this general problem tractable."
      ]
    },
    {
      "cell_type": "markdown",
      "metadata": {},
      "source": [
        "## Introduction to Machine learning"
      ]
    },
    {
      "cell_type": "markdown",
      "metadata": {},
      "source": [
        "In science, we routinely break a vague question (\"How does the brain represent orientation?\") down into more specific components (\"How do neurons in visual cortex respond to oriented gratings?\") and then settle on a particular methodology to answer the concrete questions (e.g. record calcium traces using 2-photon imaging).\n",
        "\n",
        "Machine learning is no different. In our case, our vague question is \"What is the structure of our data?\". One concrete way of asking this question is to ask about lower-dimensional structures. Our brain does this automatically all the time! In fact, consider oriented gratings:"
      ]
    },
    {
      "attachments": {
        "image.png": {
          "image/png": "[encoded data removed]"
        }
      },
      "cell_type": "markdown",
      "metadata": {},
      "source": [
        "![image.png](attachment:image.png)"
      ]
    },
    {
      "cell_type": "markdown",
      "metadata": {},
      "source": [
        "This is an extremely high-dimensional stimulus with many different pixels (i.e. dimensions). However, we break it down into a few factors of variation, e.g. orientation and frequency. Methods to uncover such underlying factors of variation are called **dimensionality reduction**.\n",
        "\n",
        "We therefore operationalize \"What is the structure of the data?\" by looking at dimensionality reduction. There are many different possible ways of performing dimensionality reduction. One important such method is **Principal Component Analysis (PCA)**.\n",
        "\n",
        "Below is a simple example:"
      ]
    },
    {
      "cell_type": "code",
      "execution_count": 4,
      "metadata": {},
      "outputs": [],
      "source": [
        "x = np.random.multivariate_normal(mean=np.array([0., 0.]), cov=np.array([[1., 0.9], [0.9, 1.]]), size=(100,))"
      ]
    },
    {
      "cell_type": "markdown",
      "metadata": {},
      "source": [
        "This data is two-dimensional:"
      ]
    },
    {
      "cell_type": "code",
      "execution_count": 5,
      "metadata": {},
      "outputs": [
        {
          "data": {
            "text/plain": [
              "(100, 2)"
            ]
          },
          "execution_count": 5,
          "metadata": {},
          "output_type": "execute_result"
        }
      ],
      "source": [
        "x.shape"
      ]
    },
    {
      "cell_type": "markdown",
      "metadata": {},
      "source": [
        "If we look at each dimension, we don't really understand how the different variables are related:"
      ]
    },
    {
      "cell_type": "code",
      "execution_count": 6,
      "metadata": {},
      "outputs": [
        {
          "data": {
            "text/plain": [
              "(array([ 2.,  8., 16.,  7., 19., 15., 16., 10.,  2.,  5.]),\n",
              " array([-1.82191644, -1.42830863, -1.03470083, -0.64109302, -0.24748521,\n",
              "         0.1461226 ,  0.53973041,  0.93333822,  1.32694603,  1.72055384,\n",
              "         2.11416165]),\n",
              " <BarContainer object of 10 artists>)"
            ]
          },
          "execution_count": 6,
          "metadata": {},
          "output_type": "execute_result"
        },
        {
          "data": {
            "image/png": "[encoded data removed]",
            "text/plain": [
              "<Figure size 640x480 with 1 Axes>"
            ]
          },
          "metadata": {},
          "output_type": "display_data"
        }
      ],
      "source": [
        "plt.hist(x[:,0])"
      ]
    },
    {
      "cell_type": "code",
      "execution_count": 7,
      "metadata": {},
      "outputs": [
        {
          "data": {
            "text/plain": [
              "(array([ 2.,  6.,  7., 13., 24., 23., 10.,  5.,  7.,  3.]),\n",
              " array([-2.11175949, -1.67747354, -1.24318759, -0.80890163, -0.37461568,\n",
              "         0.05967027,  0.49395622,  0.92824217,  1.36252812,  1.79681407,\n",
              "         2.23110002]),\n",
              " <BarContainer object of 10 artists>)"
            ]
          },
          "execution_count": 7,
          "metadata": {},
          "output_type": "execute_result"
        },
        {
          "data": {
            "image/png": "[encoded data removed]",
            "text/plain": [
              "<Figure size 640x480 with 1 Axes>"
            ]
          },
          "metadata": {},
          "output_type": "display_data"
        }
      ],
      "source": [
        "plt.hist(x[:,1])"
      ]
    },
    {
      "cell_type": "markdown",
      "metadata": {},
      "source": [
        "However, if we plot a scatter plot, we can see some dominant components:"
      ]
    },
    {
      "cell_type": "code",
      "execution_count": 8,
      "metadata": {},
      "outputs": [
        {
          "data": {
            "text/plain": [
              "<matplotlib.collections.PathCollection at 0x7f575e279ed0>"
            ]
          },
          "execution_count": 8,
          "metadata": {},
          "output_type": "execute_result"
        },
        {
          "data": {
            "image/png": "[encoded data removed]",
            "text/plain": [
              "<Figure size 640x480 with 1 Axes>"
            ]
          },
          "metadata": {},
          "output_type": "display_data"
        }
      ],
      "source": [
        "plt.scatter(x[:,0], x[:,1])"
      ]
    },
    {
      "cell_type": "markdown",
      "metadata": {},
      "source": [
        "With two dimensions, we can do this by visual inspection. For higher-dimensional data, we need to use PCA.\n",
        "\n",
        "How can we implement PCA in Python? To find out how a particular method is implemented in Python, we simply google it."
      ]
    },
    {
      "cell_type": "markdown",
      "metadata": {},
      "source": [
        "## Problem 3\n",
        "\n",
        "Compute a PCA that extracts the first ten components from the neural recordings.\n",
        "\n",
        "**Hint 1:** **Copy the code** in the examples and figure out what part of it to modify.\n",
        "\n",
        "**Hint 2:** You often need to make sure that the data is in the format your machine learning algorithm expects. In this case, the different images are the samples and the different neurons the variables. Make sure that your data is formatted correctly!\n",
        "\n",
        "**Hint 3:** The examples don't explain how to extract the components, just how to fit the model. Look through the attributes to identify how you get these components."
      ]
    },
    {
      "cell_type": "code",
      "execution_count": 9,
      "metadata": {},
      "outputs": [],
      "source": [
        "# Fit the PCA"
      ]
    },
    {
      "cell_type": "code",
      "execution_count": 10,
      "metadata": {},
      "outputs": [],
      "source": [
        "# Extract the PCA"
      ]
    },
    {
      "cell_type": "markdown",
      "metadata": {},
      "source": [
        "## Plot components"
      ]
    },
    {
      "cell_type": "markdown",
      "metadata": {},
      "source": [
        "Now, let's create some plots of these components! To do so, we want to use seaborn, which uses dataframes. We therefore transform our array of components into a dataframe."
      ]
    },
    {
      "cell_type": "code",
      "execution_count": 11,
      "metadata": {},
      "outputs": [],
      "source": [
        "from sklearn.decomposition import PCA\n",
        "pca = PCA(n_components=20, whiten=True)\n",
        "pca.fit(recording.T)\n",
        "components = pca.components_\n",
        "df_components = pd.DataFrame(components.T)"
      ]
    },
    {
      "cell_type": "code",
      "execution_count": 12,
      "metadata": {},
      "outputs": [
        {
          "data": {
            "text/html": [
              "<div>\n",
              "<style scoped>\n",
              "    .dataframe tbody tr th:only-of-type {\n",
              "        vertical-align: middle;\n",
              "    }\n",
              "\n",
              "    .dataframe tbody tr th {\n",
              "        vertical-align: top;\n",
              "    }\n",
              "\n",
              "    .dataframe thead th {\n",
              "        text-align: right;\n",
              "    }\n",
              "</style>\n",
              "<table border=\"1\" class=\"dataframe\">\n",
              "  <thead>\n",
              "    <tr style=\"text-align: right;\">\n",
              "      <th></th>\n",
              "      <th>0</th>\n",
              "      <th>1</th>\n",
              "      <th>2</th>\n",
              "      <th>3</th>\n",
              "      <th>4</th>\n",
              "      <th>5</th>\n",
              "      <th>6</th>\n",
              "      <th>7</th>\n",
              "      <th>8</th>\n",
              "      <th>9</th>\n",
              "      <th>10</th>\n",
              "      <th>11</th>\n",
              "      <th>12</th>\n",
              "      <th>13</th>\n",
              "      <th>14</th>\n",
              "      <th>15</th>\n",
              "      <th>16</th>\n",
              "      <th>17</th>\n",
              "      <th>18</th>\n",
              "      <th>19</th>\n",
              "    </tr>\n",
              "  </thead>\n",
              "  <tbody>\n",
              "    <tr>\n",
              "      <th>0</th>\n",
              "      <td>0.030101</td>\n",
              "      <td>0.015840</td>\n",
              "      <td>0.048021</td>\n",
              "      <td>-0.024840</td>\n",
              "      <td>-0.080392</td>\n",
              "      <td>0.048466</td>\n",
              "      <td>0.009866</td>\n",
              "      <td>-0.039953</td>\n",
              "      <td>-0.055951</td>\n",
              "      <td>-0.052168</td>\n",
              "      <td>-0.058904</td>\n",
              "      <td>0.016208</td>\n",
              "      <td>0.069444</td>\n",
              "      <td>0.005903</td>\n",
              "      <td>0.012469</td>\n",
              "      <td>0.020675</td>\n",
              "      <td>0.004643</td>\n",
              "      <td>0.049457</td>\n",
              "      <td>0.014753</td>\n",
              "      <td>-0.013115</td>\n",
              "    </tr>\n",
              "    <tr>\n",
              "      <th>1</th>\n",
              "      <td>0.038480</td>\n",
              "      <td>0.006802</td>\n",
              "      <td>0.050434</td>\n",
              "      <td>0.048128</td>\n",
              "      <td>0.001429</td>\n",
              "      <td>0.096598</td>\n",
              "      <td>0.079098</td>\n",
              "      <td>0.037750</td>\n",
              "      <td>-0.071171</td>\n",
              "      <td>-0.004139</td>\n",
              "      <td>0.036660</td>\n",
              "      <td>0.054320</td>\n",
              "      <td>-0.008001</td>\n",
              "      <td>-0.027931</td>\n",
              "      <td>0.026287</td>\n",
              "      <td>-0.036285</td>\n",
              "      <td>0.048659</td>\n",
              "      <td>0.041363</td>\n",
              "      <td>0.038375</td>\n",
              "      <td>0.046362</td>\n",
              "    </tr>\n",
              "    <tr>\n",
              "      <th>2</th>\n",
              "      <td>0.058451</td>\n",
              "      <td>0.001144</td>\n",
              "      <td>0.037994</td>\n",
              "      <td>-0.060235</td>\n",
              "      <td>0.068520</td>\n",
              "      <td>0.146991</td>\n",
              "      <td>0.084107</td>\n",
              "      <td>-0.010235</td>\n",
              "      <td>0.064614</td>\n",
              "      <td>-0.082928</td>\n",
              "      <td>-0.037570</td>\n",
              "      <td>-0.027706</td>\n",
              "      <td>-0.138201</td>\n",
              "      <td>-0.002330</td>\n",
              "      <td>-0.036743</td>\n",
              "      <td>0.046463</td>\n",
              "      <td>0.081217</td>\n",
              "      <td>0.114736</td>\n",
              "      <td>0.122188</td>\n",
              "      <td>-0.040932</td>\n",
              "    </tr>\n",
              "    <tr>\n",
              "      <th>3</th>\n",
              "      <td>0.045857</td>\n",
              "      <td>0.117573</td>\n",
              "      <td>-0.056693</td>\n",
              "      <td>0.012180</td>\n",
              "      <td>-0.017931</td>\n",
              "      <td>0.020668</td>\n",
              "      <td>0.063063</td>\n",
              "      <td>-0.073067</td>\n",
              "      <td>0.029709</td>\n",
              "      <td>-0.017804</td>\n",
              "      <td>-0.053276</td>\n",
              "      <td>0.021079</td>\n",
              "      <td>0.035363</td>\n",
              "      <td>-0.206970</td>\n",
              "      <td>-0.024618</td>\n",
              "      <td>0.036629</td>\n",
              "      <td>-0.054682</td>\n",
              "      <td>0.015225</td>\n",
              "      <td>0.095178</td>\n",
              "      <td>-0.131198</td>\n",
              "    </tr>\n",
              "    <tr>\n",
              "      <th>4</th>\n",
              "      <td>0.059655</td>\n",
              "      <td>-0.052693</td>\n",
              "      <td>-0.067922</td>\n",
              "      <td>-0.004119</td>\n",
              "      <td>-0.046574</td>\n",
              "      <td>0.084171</td>\n",
              "      <td>0.070593</td>\n",
              "      <td>0.082852</td>\n",
              "      <td>0.002462</td>\n",
              "      <td>-0.010068</td>\n",
              "      <td>-0.026040</td>\n",
              "      <td>0.008327</td>\n",
              "      <td>-0.036575</td>\n",
              "      <td>0.080217</td>\n",
              "      <td>-0.074723</td>\n",
              "      <td>0.169392</td>\n",
              "      <td>0.081432</td>\n",
              "      <td>0.004952</td>\n",
              "      <td>-0.092889</td>\n",
              "      <td>0.019931</td>\n",
              "    </tr>\n",
              "    <tr>\n",
              "      <th>...</th>\n",
              "      <td>...</td>\n",
              "      <td>...</td>\n",
              "      <td>...</td>\n",
              "      <td>...</td>\n",
              "      <td>...</td>\n",
              "      <td>...</td>\n",
              "      <td>...</td>\n",
              "      <td>...</td>\n",
              "      <td>...</td>\n",
              "      <td>...</td>\n",
              "      <td>...</td>\n",
              "      <td>...</td>\n",
              "      <td>...</td>\n",
              "      <td>...</td>\n",
              "      <td>...</td>\n",
              "      <td>...</td>\n",
              "      <td>...</td>\n",
              "      <td>...</td>\n",
              "      <td>...</td>\n",
              "      <td>...</td>\n",
              "    </tr>\n",
              "    <tr>\n",
              "      <th>475</th>\n",
              "      <td>0.018063</td>\n",
              "      <td>0.009878</td>\n",
              "      <td>0.014739</td>\n",
              "      <td>-0.036785</td>\n",
              "      <td>-0.018146</td>\n",
              "      <td>-0.045171</td>\n",
              "      <td>0.025055</td>\n",
              "      <td>0.020173</td>\n",
              "      <td>0.019070</td>\n",
              "      <td>0.022543</td>\n",
              "      <td>0.024691</td>\n",
              "      <td>-0.004466</td>\n",
              "      <td>-0.013973</td>\n",
              "      <td>-0.005550</td>\n",
              "      <td>0.005661</td>\n",
              "      <td>-0.021207</td>\n",
              "      <td>0.024927</td>\n",
              "      <td>0.020972</td>\n",
              "      <td>0.015728</td>\n",
              "      <td>-0.000644</td>\n",
              "    </tr>\n",
              "    <tr>\n",
              "      <th>476</th>\n",
              "      <td>0.035360</td>\n",
              "      <td>-0.035641</td>\n",
              "      <td>-0.038032</td>\n",
              "      <td>0.000924</td>\n",
              "      <td>0.005202</td>\n",
              "      <td>-0.032945</td>\n",
              "      <td>0.006261</td>\n",
              "      <td>0.011243</td>\n",
              "      <td>-0.030811</td>\n",
              "      <td>-0.013131</td>\n",
              "      <td>-0.038969</td>\n",
              "      <td>-0.024376</td>\n",
              "      <td>0.019769</td>\n",
              "      <td>0.018956</td>\n",
              "      <td>-0.099609</td>\n",
              "      <td>-0.013644</td>\n",
              "      <td>0.002351</td>\n",
              "      <td>-0.037992</td>\n",
              "      <td>-0.000371</td>\n",
              "      <td>0.024434</td>\n",
              "    </tr>\n",
              "    <tr>\n",
              "      <th>477</th>\n",
              "      <td>0.027097</td>\n",
              "      <td>-0.005664</td>\n",
              "      <td>0.010562</td>\n",
              "      <td>0.024096</td>\n",
              "      <td>0.014612</td>\n",
              "      <td>-0.014500</td>\n",
              "      <td>0.000228</td>\n",
              "      <td>0.001646</td>\n",
              "      <td>-0.009297</td>\n",
              "      <td>-0.018277</td>\n",
              "      <td>-0.007193</td>\n",
              "      <td>-0.006911</td>\n",
              "      <td>0.009572</td>\n",
              "      <td>0.023507</td>\n",
              "      <td>-0.016543</td>\n",
              "      <td>0.022391</td>\n",
              "      <td>0.015865</td>\n",
              "      <td>-0.022967</td>\n",
              "      <td>0.008603</td>\n",
              "      <td>-0.016381</td>\n",
              "    </tr>\n",
              "    <tr>\n",
              "      <th>478</th>\n",
              "      <td>0.006720</td>\n",
              "      <td>0.000504</td>\n",
              "      <td>-0.000810</td>\n",
              "      <td>-0.008482</td>\n",
              "      <td>0.000406</td>\n",
              "      <td>-0.001621</td>\n",
              "      <td>-0.004694</td>\n",
              "      <td>0.016920</td>\n",
              "      <td>-0.001493</td>\n",
              "      <td>-0.006307</td>\n",
              "      <td>0.005383</td>\n",
              "      <td>0.015826</td>\n",
              "      <td>-0.009837</td>\n",
              "      <td>-0.006163</td>\n",
              "      <td>0.008073</td>\n",
              "      <td>0.000259</td>\n",
              "      <td>0.021763</td>\n",
              "      <td>0.028215</td>\n",
              "      <td>0.006540</td>\n",
              "      <td>-0.003464</td>\n",
              "    </tr>\n",
              "    <tr>\n",
              "      <th>479</th>\n",
              "      <td>0.029831</td>\n",
              "      <td>0.065212</td>\n",
              "      <td>-0.023432</td>\n",
              "      <td>0.001565</td>\n",
              "      <td>-0.013241</td>\n",
              "      <td>-0.012260</td>\n",
              "      <td>-0.020552</td>\n",
              "      <td>-0.017072</td>\n",
              "      <td>-0.035642</td>\n",
              "      <td>-0.007532</td>\n",
              "      <td>0.000849</td>\n",
              "      <td>-0.002463</td>\n",
              "      <td>-0.005495</td>\n",
              "      <td>0.074171</td>\n",
              "      <td>-0.013132</td>\n",
              "      <td>-0.002844</td>\n",
              "      <td>0.004561</td>\n",
              "      <td>-0.007175</td>\n",
              "      <td>-0.013868</td>\n",
              "      <td>0.044674</td>\n",
              "    </tr>\n",
              "  </tbody>\n",
              "</table>\n",
              "<p>480 rows × 20 columns</p>\n",
              "</div>"
            ],
            "text/plain": [
              "           0         1         2         3         4         5         6   \\\n",
              "0    0.030101  0.015840  0.048021 -0.024840 -0.080392  0.048466  0.009866   \n",
              "1    0.038480  0.006802  0.050434  0.048128  0.001429  0.096598  0.079098   \n",
              "2    0.058451  0.001144  0.037994 -0.060235  0.068520  0.146991  0.084107   \n",
              "3    0.045857  0.117573 -0.056693  0.012180 -0.017931  0.020668  0.063063   \n",
              "4    0.059655 -0.052693 -0.067922 -0.004119 -0.046574  0.084171  0.070593   \n",
              "..        ...       ...       ...       ...       ...       ...       ...   \n",
              "475  0.018063  0.009878  0.014739 -0.036785 -0.018146 -0.045171  0.025055   \n",
              "476  0.035360 -0.035641 -0.038032  0.000924  0.005202 -0.032945  0.006261   \n",
              "477  0.027097 -0.005664  0.010562  0.024096  0.014612 -0.014500  0.000228   \n",
              "478  0.006720  0.000504 -0.000810 -0.008482  0.000406 -0.001621 -0.004694   \n",
              "479  0.029831  0.065212 -0.023432  0.001565 -0.013241 -0.012260 -0.020552   \n",
              "\n",
              "           7         8         9         10        11        12        13  \\\n",
              "0   -0.039953 -0.055951 -0.052168 -0.058904  0.016208  0.069444  0.005903   \n",
              "1    0.037750 -0.071171 -0.004139  0.036660  0.054320 -0.008001 -0.027931   \n",
              "2   -0.010235  0.064614 -0.082928 -0.037570 -0.027706 -0.138201 -0.002330   \n",
              "3   -0.073067  0.029709 -0.017804 -0.053276  0.021079  0.035363 -0.206970   \n",
              "4    0.082852  0.002462 -0.010068 -0.026040  0.008327 -0.036575  0.080217   \n",
              "..        ...       ...       ...       ...       ...       ...       ...   \n",
              "475  0.020173  0.019070  0.022543  0.024691 -0.004466 -0.013973 -0.005550   \n",
              "476  0.011243 -0.030811 -0.013131 -0.038969 -0.024376  0.019769  0.018956   \n",
              "477  0.001646 -0.009297 -0.018277 -0.007193 -0.006911  0.009572  0.023507   \n",
              "478  0.016920 -0.001493 -0.006307  0.005383  0.015826 -0.009837 -0.006163   \n",
              "479 -0.017072 -0.035642 -0.007532  0.000849 -0.002463 -0.005495  0.074171   \n",
              "\n",
              "           14        15        16        17        18        19  \n",
              "0    0.012469  0.020675  0.004643  0.049457  0.014753 -0.013115  \n",
              "1    0.026287 -0.036285  0.048659  0.041363  0.038375  0.046362  \n",
              "2   -0.036743  0.046463  0.081217  0.114736  0.122188 -0.040932  \n",
              "3   -0.024618  0.036629 -0.054682  0.015225  0.095178 -0.131198  \n",
              "4   -0.074723  0.169392  0.081432  0.004952 -0.092889  0.019931  \n",
              "..        ...       ...       ...       ...       ...       ...  \n",
              "475  0.005661 -0.021207  0.024927  0.020972  0.015728 -0.000644  \n",
              "476 -0.099609 -0.013644  0.002351 -0.037992 -0.000371  0.024434  \n",
              "477 -0.016543  0.022391  0.015865 -0.022967  0.008603 -0.016381  \n",
              "478  0.008073  0.000259  0.021763  0.028215  0.006540 -0.003464  \n",
              "479 -0.013132 -0.002844  0.004561 -0.007175 -0.013868  0.044674  \n",
              "\n",
              "[480 rows x 20 columns]"
            ]
          },
          "execution_count": 12,
          "metadata": {},
          "output_type": "execute_result"
        }
      ],
      "source": [
        "df_components"
      ]
    },
    {
      "cell_type": "code",
      "execution_count": 13,
      "metadata": {},
      "outputs": [],
      "source": [
        "df_components = df_components.add_prefix('comp_')"
      ]
    },
    {
      "cell_type": "code",
      "execution_count": 14,
      "metadata": {},
      "outputs": [
        {
          "data": {
            "text/html": [
              "<div>\n",
              "<style scoped>\n",
              "    .dataframe tbody tr th:only-of-type {\n",
              "        vertical-align: middle;\n",
              "    }\n",
              "\n",
              "    .dataframe tbody tr th {\n",
              "        vertical-align: top;\n",
              "    }\n",
              "\n",
              "    .dataframe thead th {\n",
              "        text-align: right;\n",
              "    }\n",
              "</style>\n",
              "<table border=\"1\" class=\"dataframe\">\n",
              "  <thead>\n",
              "    <tr style=\"text-align: right;\">\n",
              "      <th></th>\n",
              "      <th>comp_0</th>\n",
              "      <th>comp_1</th>\n",
              "      <th>comp_2</th>\n",
              "      <th>comp_3</th>\n",
              "      <th>comp_4</th>\n",
              "      <th>comp_5</th>\n",
              "      <th>comp_6</th>\n",
              "      <th>comp_7</th>\n",
              "      <th>comp_8</th>\n",
              "      <th>comp_9</th>\n",
              "      <th>comp_10</th>\n",
              "      <th>comp_11</th>\n",
              "      <th>comp_12</th>\n",
              "      <th>comp_13</th>\n",
              "      <th>comp_14</th>\n",
              "      <th>comp_15</th>\n",
              "      <th>comp_16</th>\n",
              "      <th>comp_17</th>\n",
              "      <th>comp_18</th>\n",
              "      <th>comp_19</th>\n",
              "    </tr>\n",
              "  </thead>\n",
              "  <tbody>\n",
              "    <tr>\n",
              "      <th>0</th>\n",
              "      <td>0.030101</td>\n",
              "      <td>0.015840</td>\n",
              "      <td>0.048021</td>\n",
              "      <td>-0.024840</td>\n",
              "      <td>-0.080392</td>\n",
              "      <td>0.048466</td>\n",
              "      <td>0.009866</td>\n",
              "      <td>-0.039953</td>\n",
              "      <td>-0.055951</td>\n",
              "      <td>-0.052168</td>\n",
              "      <td>-0.058904</td>\n",
              "      <td>0.016208</td>\n",
              "      <td>0.069444</td>\n",
              "      <td>0.005903</td>\n",
              "      <td>0.012469</td>\n",
              "      <td>0.020675</td>\n",
              "      <td>0.004643</td>\n",
              "      <td>0.049457</td>\n",
              "      <td>0.014753</td>\n",
              "      <td>-0.013115</td>\n",
              "    </tr>\n",
              "    <tr>\n",
              "      <th>1</th>\n",
              "      <td>0.038480</td>\n",
              "      <td>0.006802</td>\n",
              "      <td>0.050434</td>\n",
              "      <td>0.048128</td>\n",
              "      <td>0.001429</td>\n",
              "      <td>0.096598</td>\n",
              "      <td>0.079098</td>\n",
              "      <td>0.037750</td>\n",
              "      <td>-0.071171</td>\n",
              "      <td>-0.004139</td>\n",
              "      <td>0.036660</td>\n",
              "      <td>0.054320</td>\n",
              "      <td>-0.008001</td>\n",
              "      <td>-0.027931</td>\n",
              "      <td>0.026287</td>\n",
              "      <td>-0.036285</td>\n",
              "      <td>0.048659</td>\n",
              "      <td>0.041363</td>\n",
              "      <td>0.038375</td>\n",
              "      <td>0.046362</td>\n",
              "    </tr>\n",
              "    <tr>\n",
              "      <th>2</th>\n",
              "      <td>0.058451</td>\n",
              "      <td>0.001144</td>\n",
              "      <td>0.037994</td>\n",
              "      <td>-0.060235</td>\n",
              "      <td>0.068520</td>\n",
              "      <td>0.146991</td>\n",
              "      <td>0.084107</td>\n",
              "      <td>-0.010235</td>\n",
              "      <td>0.064614</td>\n",
              "      <td>-0.082928</td>\n",
              "      <td>-0.037570</td>\n",
              "      <td>-0.027706</td>\n",
              "      <td>-0.138201</td>\n",
              "      <td>-0.002330</td>\n",
              "      <td>-0.036743</td>\n",
              "      <td>0.046463</td>\n",
              "      <td>0.081217</td>\n",
              "      <td>0.114736</td>\n",
              "      <td>0.122188</td>\n",
              "      <td>-0.040932</td>\n",
              "    </tr>\n",
              "    <tr>\n",
              "      <th>3</th>\n",
              "      <td>0.045857</td>\n",
              "      <td>0.117573</td>\n",
              "      <td>-0.056693</td>\n",
              "      <td>0.012180</td>\n",
              "      <td>-0.017931</td>\n",
              "      <td>0.020668</td>\n",
              "      <td>0.063063</td>\n",
              "      <td>-0.073067</td>\n",
              "      <td>0.029709</td>\n",
              "      <td>-0.017804</td>\n",
              "      <td>-0.053276</td>\n",
              "      <td>0.021079</td>\n",
              "      <td>0.035363</td>\n",
              "      <td>-0.206970</td>\n",
              "      <td>-0.024618</td>\n",
              "      <td>0.036629</td>\n",
              "      <td>-0.054682</td>\n",
              "      <td>0.015225</td>\n",
              "      <td>0.095178</td>\n",
              "      <td>-0.131198</td>\n",
              "    </tr>\n",
              "    <tr>\n",
              "      <th>4</th>\n",
              "      <td>0.059655</td>\n",
              "      <td>-0.052693</td>\n",
              "      <td>-0.067922</td>\n",
              "      <td>-0.004119</td>\n",
              "      <td>-0.046574</td>\n",
              "      <td>0.084171</td>\n",
              "      <td>0.070593</td>\n",
              "      <td>0.082852</td>\n",
              "      <td>0.002462</td>\n",
              "      <td>-0.010068</td>\n",
              "      <td>-0.026040</td>\n",
              "      <td>0.008327</td>\n",
              "      <td>-0.036575</td>\n",
              "      <td>0.080217</td>\n",
              "      <td>-0.074723</td>\n",
              "      <td>0.169392</td>\n",
              "      <td>0.081432</td>\n",
              "      <td>0.004952</td>\n",
              "      <td>-0.092889</td>\n",
              "      <td>0.019931</td>\n",
              "    </tr>\n",
              "    <tr>\n",
              "      <th>...</th>\n",
              "      <td>...</td>\n",
              "      <td>...</td>\n",
              "      <td>...</td>\n",
              "      <td>...</td>\n",
              "      <td>...</td>\n",
              "      <td>...</td>\n",
              "      <td>...</td>\n",
              "      <td>...</td>\n",
              "      <td>...</td>\n",
              "      <td>...</td>\n",
              "      <td>...</td>\n",
              "      <td>...</td>\n",
              "      <td>...</td>\n",
              "      <td>...</td>\n",
              "      <td>...</td>\n",
              "      <td>...</td>\n",
              "      <td>...</td>\n",
              "      <td>...</td>\n",
              "      <td>...</td>\n",
              "      <td>...</td>\n",
              "    </tr>\n",
              "    <tr>\n",
              "      <th>475</th>\n",
              "      <td>0.018063</td>\n",
              "      <td>0.009878</td>\n",
              "      <td>0.014739</td>\n",
              "      <td>-0.036785</td>\n",
              "      <td>-0.018146</td>\n",
              "      <td>-0.045171</td>\n",
              "      <td>0.025055</td>\n",
              "      <td>0.020173</td>\n",
              "      <td>0.019070</td>\n",
              "      <td>0.022543</td>\n",
              "      <td>0.024691</td>\n",
              "      <td>-0.004466</td>\n",
              "      <td>-0.013973</td>\n",
              "      <td>-0.005550</td>\n",
              "      <td>0.005661</td>\n",
              "      <td>-0.021207</td>\n",
              "      <td>0.024927</td>\n",
              "      <td>0.020972</td>\n",
              "      <td>0.015728</td>\n",
              "      <td>-0.000644</td>\n",
              "    </tr>\n",
              "    <tr>\n",
              "      <th>476</th>\n",
              "      <td>0.035360</td>\n",
              "      <td>-0.035641</td>\n",
              "      <td>-0.038032</td>\n",
              "      <td>0.000924</td>\n",
              "      <td>0.005202</td>\n",
              "      <td>-0.032945</td>\n",
              "      <td>0.006261</td>\n",
              "      <td>0.011243</td>\n",
              "      <td>-0.030811</td>\n",
              "      <td>-0.013131</td>\n",
              "      <td>-0.038969</td>\n",
              "      <td>-0.024376</td>\n",
              "      <td>0.019769</td>\n",
              "      <td>0.018956</td>\n",
              "      <td>-0.099609</td>\n",
              "      <td>-0.013644</td>\n",
              "      <td>0.002351</td>\n",
              "      <td>-0.037992</td>\n",
              "      <td>-0.000371</td>\n",
              "      <td>0.024434</td>\n",
              "    </tr>\n",
              "    <tr>\n",
              "      <th>477</th>\n",
              "      <td>0.027097</td>\n",
              "      <td>-0.005664</td>\n",
              "      <td>0.010562</td>\n",
              "      <td>0.024096</td>\n",
              "      <td>0.014612</td>\n",
              "      <td>-0.014500</td>\n",
              "      <td>0.000228</td>\n",
              "      <td>0.001646</td>\n",
              "      <td>-0.009297</td>\n",
              "      <td>-0.018277</td>\n",
              "      <td>-0.007193</td>\n",
              "      <td>-0.006911</td>\n",
              "      <td>0.009572</td>\n",
              "      <td>0.023507</td>\n",
              "      <td>-0.016543</td>\n",
              "      <td>0.022391</td>\n",
              "      <td>0.015865</td>\n",
              "      <td>-0.022967</td>\n",
              "      <td>0.008603</td>\n",
              "      <td>-0.016381</td>\n",
              "    </tr>\n",
              "    <tr>\n",
              "      <th>478</th>\n",
              "      <td>0.006720</td>\n",
              "      <td>0.000504</td>\n",
              "      <td>-0.000810</td>\n",
              "      <td>-0.008482</td>\n",
              "      <td>0.000406</td>\n",
              "      <td>-0.001621</td>\n",
              "      <td>-0.004694</td>\n",
              "      <td>0.016920</td>\n",
              "      <td>-0.001493</td>\n",
              "      <td>-0.006307</td>\n",
              "      <td>0.005383</td>\n",
              "      <td>0.015826</td>\n",
              "      <td>-0.009837</td>\n",
              "      <td>-0.006163</td>\n",
              "      <td>0.008073</td>\n",
              "      <td>0.000259</td>\n",
              "      <td>0.021763</td>\n",
              "      <td>0.028215</td>\n",
              "      <td>0.006540</td>\n",
              "      <td>-0.003464</td>\n",
              "    </tr>\n",
              "    <tr>\n",
              "      <th>479</th>\n",
              "      <td>0.029831</td>\n",
              "      <td>0.065212</td>\n",
              "      <td>-0.023432</td>\n",
              "      <td>0.001565</td>\n",
              "      <td>-0.013241</td>\n",
              "      <td>-0.012260</td>\n",
              "      <td>-0.020552</td>\n",
              "      <td>-0.017072</td>\n",
              "      <td>-0.035642</td>\n",
              "      <td>-0.007532</td>\n",
              "      <td>0.000849</td>\n",
              "      <td>-0.002463</td>\n",
              "      <td>-0.005495</td>\n",
              "      <td>0.074171</td>\n",
              "      <td>-0.013132</td>\n",
              "      <td>-0.002844</td>\n",
              "      <td>0.004561</td>\n",
              "      <td>-0.007175</td>\n",
              "      <td>-0.013868</td>\n",
              "      <td>0.044674</td>\n",
              "    </tr>\n",
              "  </tbody>\n",
              "</table>\n",
              "<p>480 rows × 20 columns</p>\n",
              "</div>"
            ],
            "text/plain": [
              "       comp_0    comp_1    comp_2    comp_3    comp_4    comp_5    comp_6  \\\n",
              "0    0.030101  0.015840  0.048021 -0.024840 -0.080392  0.048466  0.009866   \n",
              "1    0.038480  0.006802  0.050434  0.048128  0.001429  0.096598  0.079098   \n",
              "2    0.058451  0.001144  0.037994 -0.060235  0.068520  0.146991  0.084107   \n",
              "3    0.045857  0.117573 -0.056693  0.012180 -0.017931  0.020668  0.063063   \n",
              "4    0.059655 -0.052693 -0.067922 -0.004119 -0.046574  0.084171  0.070593   \n",
              "..        ...       ...       ...       ...       ...       ...       ...   \n",
              "475  0.018063  0.009878  0.014739 -0.036785 -0.018146 -0.045171  0.025055   \n",
              "476  0.035360 -0.035641 -0.038032  0.000924  0.005202 -0.032945  0.006261   \n",
              "477  0.027097 -0.005664  0.010562  0.024096  0.014612 -0.014500  0.000228   \n",
              "478  0.006720  0.000504 -0.000810 -0.008482  0.000406 -0.001621 -0.004694   \n",
              "479  0.029831  0.065212 -0.023432  0.001565 -0.013241 -0.012260 -0.020552   \n",
              "\n",
              "       comp_7    comp_8    comp_9   comp_10   comp_11   comp_12   comp_13  \\\n",
              "0   -0.039953 -0.055951 -0.052168 -0.058904  0.016208  0.069444  0.005903   \n",
              "1    0.037750 -0.071171 -0.004139  0.036660  0.054320 -0.008001 -0.027931   \n",
              "2   -0.010235  0.064614 -0.082928 -0.037570 -0.027706 -0.138201 -0.002330   \n",
              "3   -0.073067  0.029709 -0.017804 -0.053276  0.021079  0.035363 -0.206970   \n",
              "4    0.082852  0.002462 -0.010068 -0.026040  0.008327 -0.036575  0.080217   \n",
              "..        ...       ...       ...       ...       ...       ...       ...   \n",
              "475  0.020173  0.019070  0.022543  0.024691 -0.004466 -0.013973 -0.005550   \n",
              "476  0.011243 -0.030811 -0.013131 -0.038969 -0.024376  0.019769  0.018956   \n",
              "477  0.001646 -0.009297 -0.018277 -0.007193 -0.006911  0.009572  0.023507   \n",
              "478  0.016920 -0.001493 -0.006307  0.005383  0.015826 -0.009837 -0.006163   \n",
              "479 -0.017072 -0.035642 -0.007532  0.000849 -0.002463 -0.005495  0.074171   \n",
              "\n",
              "      comp_14   comp_15   comp_16   comp_17   comp_18   comp_19  \n",
              "0    0.012469  0.020675  0.004643  0.049457  0.014753 -0.013115  \n",
              "1    0.026287 -0.036285  0.048659  0.041363  0.038375  0.046362  \n",
              "2   -0.036743  0.046463  0.081217  0.114736  0.122188 -0.040932  \n",
              "3   -0.024618  0.036629 -0.054682  0.015225  0.095178 -0.131198  \n",
              "4   -0.074723  0.169392  0.081432  0.004952 -0.092889  0.019931  \n",
              "..        ...       ...       ...       ...       ...       ...  \n",
              "475  0.005661 -0.021207  0.024927  0.020972  0.015728 -0.000644  \n",
              "476 -0.099609 -0.013644  0.002351 -0.037992 -0.000371  0.024434  \n",
              "477 -0.016543  0.022391  0.015865 -0.022967  0.008603 -0.016381  \n",
              "478  0.008073  0.000259  0.021763  0.028215  0.006540 -0.003464  \n",
              "479 -0.013132 -0.002844  0.004561 -0.007175 -0.013868  0.044674  \n",
              "\n",
              "[480 rows x 20 columns]"
            ]
          },
          "execution_count": 14,
          "metadata": {},
          "output_type": "execute_result"
        }
      ],
      "source": [
        "df_components"
      ]
    },
    {
      "cell_type": "code",
      "execution_count": 15,
      "metadata": {},
      "outputs": [
        {
          "data": {
            "text/plain": [
              "<AxesSubplot:xlabel='comp_0', ylabel='comp_1'>"
            ]
          },
          "execution_count": 15,
          "metadata": {},
          "output_type": "execute_result"
        },
        {
          "data": {
            "image/png": "[encoded data removed]",
            "text/plain": [
              "<Figure size 640x480 with 1 Axes>"
            ]
          },
          "metadata": {},
          "output_type": "display_data"
        }
      ],
      "source": [
        "sns.scatterplot(data=df_components, x='comp_0', y='comp_1')"
      ]
    },
    {
      "cell_type": "markdown",
      "metadata": {},
      "source": [
        "These are recordings of 5 different images! Let's see if they're represented differently."
      ]
    },
    {
      "cell_type": "code",
      "execution_count": 16,
      "metadata": {},
      "outputs": [],
      "source": [
        "img_index = np.load('img_index.npy')"
      ]
    },
    {
      "cell_type": "code",
      "execution_count": 17,
      "metadata": {},
      "outputs": [
        {
          "data": {
            "text/plain": [
              "array([1, 4, 3, 2, 5, 2, 1, 5, 3, 4, 4, 5, 1, 3, 2, 1, 3, 4, 5, 2, 4, 5,\n",
              "       2, 1, 3, 1, 4, 5, 2, 3, 5, 4, 3, 2, 1, 1, 2, 3, 5, 4, 1, 4, 5, 3,\n",
              "       2, 3, 4, 2, 5, 1, 3, 2, 4, 5, 1, 4, 5, 1, 3, 2, 5, 4, 1, 2, 3, 4,\n",
              "       5, 3, 2, 1, 4, 1, 3, 2, 5, 2, 3, 1, 4, 5, 2, 3, 4, 1, 5, 1, 2, 3,\n",
              "       5, 4, 2, 1, 3, 4, 5, 5, 4, 3, 1, 2, 5, 1, 2, 3, 4, 2, 3, 4, 1, 5,\n",
              "       5, 2, 3, 1, 4, 2, 4, 3, 1, 5, 4, 1, 2, 5, 3, 3, 2, 4, 5, 1, 2, 5,\n",
              "       4, 1, 3, 1, 2, 4, 5, 3, 4, 2, 5, 1, 3, 2, 5, 3, 4, 1, 5, 1, 2, 3,\n",
              "       4, 1, 3, 2, 5, 4, 1, 5, 3, 2, 4, 5, 4, 1, 2, 3, 1, 3, 2, 5, 4, 5,\n",
              "       3, 1, 4, 2, 1, 2, 4, 3, 5, 5, 3, 1, 4, 2, 4, 5, 3, 2, 1, 3, 5, 2,\n",
              "       1, 4, 1, 5, 3, 2, 4, 1, 4, 2, 5, 3, 4, 3, 1, 2, 5, 2, 1, 3, 5, 4,\n",
              "       5, 1, 2, 3, 4, 1, 2, 3, 5, 4, 4, 2, 5, 3, 1, 1, 4, 3, 5, 2, 5, 1,\n",
              "       2, 3, 4, 1, 2, 5, 4, 3, 5, 4, 1, 3, 2, 5, 1, 3, 2, 4, 5, 4, 1, 2,\n",
              "       3, 4, 2, 5, 1, 3, 2, 1, 5, 4, 3, 2, 3, 4, 1, 5, 5, 4, 2, 1, 3, 1,\n",
              "       2, 3, 5, 4, 5, 1, 2, 3, 4, 4, 2, 3, 5, 1, 2, 3, 1, 5, 4, 5, 1, 3,\n",
              "       4, 2, 1, 5, 4, 3, 2, 4, 2, 5, 3, 1, 3, 1, 5, 2, 4, 5, 4, 1, 2, 3,\n",
              "       5, 2, 3, 4, 1, 4, 2, 1, 3, 5, 4, 1, 2, 5, 3, 5, 2, 4, 3, 1, 3, 4,\n",
              "       2, 5, 1, 1, 4, 5, 3, 2, 3, 2, 4, 5, 1, 4, 2, 3, 1, 5, 4, 2, 3, 1,\n",
              "       5, 5, 4, 3, 1, 2, 5, 2, 3, 4, 1, 5, 3, 4, 1, 2, 4, 2, 1, 5, 3, 5,\n",
              "       1, 3, 4, 2, 2, 1, 3, 4, 5, 1, 3, 5, 4, 2, 3, 4, 1, 2, 5, 5, 3, 4,\n",
              "       2, 1, 1, 5, 3, 2, 4, 1, 3, 5, 2, 4, 3, 4, 5, 1, 2, 1, 5, 2, 3, 4,\n",
              "       2, 5, 1, 4, 3, 4, 1, 2, 5, 3, 1, 3, 2, 5, 4, 4, 2, 3, 1, 5, 2, 5,\n",
              "       3, 1, 4, 4, 1, 2, 3, 5, 2, 1, 5, 4, 3, 1, 5, 4, 3, 2], dtype=uint8)"
            ]
          },
          "execution_count": 17,
          "metadata": {},
          "output_type": "execute_result"
        }
      ],
      "source": [
        "img_index"
      ]
    },
    {
      "cell_type": "code",
      "execution_count": 18,
      "metadata": {},
      "outputs": [],
      "source": [
        "df_components['img_index'] = img_index.astype(str)"
      ]
    },
    {
      "cell_type": "code",
      "execution_count": 19,
      "metadata": {},
      "outputs": [
        {
          "data": {
            "text/html": [
              "<div>\n",
              "<style scoped>\n",
              "    .dataframe tbody tr th:only-of-type {\n",
              "        vertical-align: middle;\n",
              "    }\n",
              "\n",
              "    .dataframe tbody tr th {\n",
              "        vertical-align: top;\n",
              "    }\n",
              "\n",
              "    .dataframe thead th {\n",
              "        text-align: right;\n",
              "    }\n",
              "</style>\n",
              "<table border=\"1\" class=\"dataframe\">\n",
              "  <thead>\n",
              "    <tr style=\"text-align: right;\">\n",
              "      <th></th>\n",
              "      <th>comp_0</th>\n",
              "      <th>comp_1</th>\n",
              "      <th>comp_2</th>\n",
              "      <th>comp_3</th>\n",
              "      <th>comp_4</th>\n",
              "      <th>comp_5</th>\n",
              "      <th>comp_6</th>\n",
              "      <th>comp_7</th>\n",
              "      <th>comp_8</th>\n",
              "      <th>comp_9</th>\n",
              "      <th>...</th>\n",
              "      <th>comp_11</th>\n",
              "      <th>comp_12</th>\n",
              "      <th>comp_13</th>\n",
              "      <th>comp_14</th>\n",
              "      <th>comp_15</th>\n",
              "      <th>comp_16</th>\n",
              "      <th>comp_17</th>\n",
              "      <th>comp_18</th>\n",
              "      <th>comp_19</th>\n",
              "      <th>img_index</th>\n",
              "    </tr>\n",
              "  </thead>\n",
              "  <tbody>\n",
              "    <tr>\n",
              "      <th>0</th>\n",
              "      <td>0.030101</td>\n",
              "      <td>0.015840</td>\n",
              "      <td>0.048021</td>\n",
              "      <td>-0.024840</td>\n",
              "      <td>-0.080392</td>\n",
              "      <td>0.048466</td>\n",
              "      <td>0.009866</td>\n",
              "      <td>-0.039953</td>\n",
              "      <td>-0.055951</td>\n",
              "      <td>-0.052168</td>\n",
              "      <td>...</td>\n",
              "      <td>0.016208</td>\n",
              "      <td>0.069444</td>\n",
              "      <td>0.005903</td>\n",
              "      <td>0.012469</td>\n",
              "      <td>0.020675</td>\n",
              "      <td>0.004643</td>\n",
              "      <td>0.049457</td>\n",
              "      <td>0.014753</td>\n",
              "      <td>-0.013115</td>\n",
              "      <td>1</td>\n",
              "    </tr>\n",
              "    <tr>\n",
              "      <th>1</th>\n",
              "      <td>0.038480</td>\n",
              "      <td>0.006802</td>\n",
              "      <td>0.050434</td>\n",
              "      <td>0.048128</td>\n",
              "      <td>0.001429</td>\n",
              "      <td>0.096598</td>\n",
              "      <td>0.079098</td>\n",
              "      <td>0.037750</td>\n",
              "      <td>-0.071171</td>\n",
              "      <td>-0.004139</td>\n",
              "      <td>...</td>\n",
              "      <td>0.054320</td>\n",
              "      <td>-0.008001</td>\n",
              "      <td>-0.027931</td>\n",
              "      <td>0.026287</td>\n",
              "      <td>-0.036285</td>\n",
              "      <td>0.048659</td>\n",
              "      <td>0.041363</td>\n",
              "      <td>0.038375</td>\n",
              "      <td>0.046362</td>\n",
              "      <td>4</td>\n",
              "    </tr>\n",
              "    <tr>\n",
              "      <th>2</th>\n",
              "      <td>0.058451</td>\n",
              "      <td>0.001144</td>\n",
              "      <td>0.037994</td>\n",
              "      <td>-0.060235</td>\n",
              "      <td>0.068520</td>\n",
              "      <td>0.146991</td>\n",
              "      <td>0.084107</td>\n",
              "      <td>-0.010235</td>\n",
              "      <td>0.064614</td>\n",
              "      <td>-0.082928</td>\n",
              "      <td>...</td>\n",
              "      <td>-0.027706</td>\n",
              "      <td>-0.138201</td>\n",
              "      <td>-0.002330</td>\n",
              "      <td>-0.036743</td>\n",
              "      <td>0.046463</td>\n",
              "      <td>0.081217</td>\n",
              "      <td>0.114736</td>\n",
              "      <td>0.122188</td>\n",
              "      <td>-0.040932</td>\n",
              "      <td>3</td>\n",
              "    </tr>\n",
              "    <tr>\n",
              "      <th>3</th>\n",
              "      <td>0.045857</td>\n",
              "      <td>0.117573</td>\n",
              "      <td>-0.056693</td>\n",
              "      <td>0.012180</td>\n",
              "      <td>-0.017931</td>\n",
              "      <td>0.020668</td>\n",
              "      <td>0.063063</td>\n",
              "      <td>-0.073067</td>\n",
              "      <td>0.029709</td>\n",
              "      <td>-0.017804</td>\n",
              "      <td>...</td>\n",
              "      <td>0.021079</td>\n",
              "      <td>0.035363</td>\n",
              "      <td>-0.206970</td>\n",
              "      <td>-0.024618</td>\n",
              "      <td>0.036629</td>\n",
              "      <td>-0.054682</td>\n",
              "      <td>0.015225</td>\n",
              "      <td>0.095178</td>\n",
              "      <td>-0.131198</td>\n",
              "      <td>2</td>\n",
              "    </tr>\n",
              "    <tr>\n",
              "      <th>4</th>\n",
              "      <td>0.059655</td>\n",
              "      <td>-0.052693</td>\n",
              "      <td>-0.067922</td>\n",
              "      <td>-0.004119</td>\n",
              "      <td>-0.046574</td>\n",
              "      <td>0.084171</td>\n",
              "      <td>0.070593</td>\n",
              "      <td>0.082852</td>\n",
              "      <td>0.002462</td>\n",
              "      <td>-0.010068</td>\n",
              "      <td>...</td>\n",
              "      <td>0.008327</td>\n",
              "      <td>-0.036575</td>\n",
              "      <td>0.080217</td>\n",
              "      <td>-0.074723</td>\n",
              "      <td>0.169392</td>\n",
              "      <td>0.081432</td>\n",
              "      <td>0.004952</td>\n",
              "      <td>-0.092889</td>\n",
              "      <td>0.019931</td>\n",
              "      <td>5</td>\n",
              "    </tr>\n",
              "    <tr>\n",
              "      <th>...</th>\n",
              "      <td>...</td>\n",
              "      <td>...</td>\n",
              "      <td>...</td>\n",
              "      <td>...</td>\n",
              "      <td>...</td>\n",
              "      <td>...</td>\n",
              "      <td>...</td>\n",
              "      <td>...</td>\n",
              "      <td>...</td>\n",
              "      <td>...</td>\n",
              "      <td>...</td>\n",
              "      <td>...</td>\n",
              "      <td>...</td>\n",
              "      <td>...</td>\n",
              "      <td>...</td>\n",
              "      <td>...</td>\n",
              "      <td>...</td>\n",
              "      <td>...</td>\n",
              "      <td>...</td>\n",
              "      <td>...</td>\n",
              "      <td>...</td>\n",
              "    </tr>\n",
              "    <tr>\n",
              "      <th>475</th>\n",
              "      <td>0.018063</td>\n",
              "      <td>0.009878</td>\n",
              "      <td>0.014739</td>\n",
              "      <td>-0.036785</td>\n",
              "      <td>-0.018146</td>\n",
              "      <td>-0.045171</td>\n",
              "      <td>0.025055</td>\n",
              "      <td>0.020173</td>\n",
              "      <td>0.019070</td>\n",
              "      <td>0.022543</td>\n",
              "      <td>...</td>\n",
              "      <td>-0.004466</td>\n",
              "      <td>-0.013973</td>\n",
              "      <td>-0.005550</td>\n",
              "      <td>0.005661</td>\n",
              "      <td>-0.021207</td>\n",
              "      <td>0.024927</td>\n",
              "      <td>0.020972</td>\n",
              "      <td>0.015728</td>\n",
              "      <td>-0.000644</td>\n",
              "      <td>1</td>\n",
              "    </tr>\n",
              "    <tr>\n",
              "      <th>476</th>\n",
              "      <td>0.035360</td>\n",
              "      <td>-0.035641</td>\n",
              "      <td>-0.038032</td>\n",
              "      <td>0.000924</td>\n",
              "      <td>0.005202</td>\n",
              "      <td>-0.032945</td>\n",
              "      <td>0.006261</td>\n",
              "      <td>0.011243</td>\n",
              "      <td>-0.030811</td>\n",
              "      <td>-0.013131</td>\n",
              "      <td>...</td>\n",
              "      <td>-0.024376</td>\n",
              "      <td>0.019769</td>\n",
              "      <td>0.018956</td>\n",
              "      <td>-0.099609</td>\n",
              "      <td>-0.013644</td>\n",
              "      <td>0.002351</td>\n",
              "      <td>-0.037992</td>\n",
              "      <td>-0.000371</td>\n",
              "      <td>0.024434</td>\n",
              "      <td>5</td>\n",
              "    </tr>\n",
              "    <tr>\n",
              "      <th>477</th>\n",
              "      <td>0.027097</td>\n",
              "      <td>-0.005664</td>\n",
              "      <td>0.010562</td>\n",
              "      <td>0.024096</td>\n",
              "      <td>0.014612</td>\n",
              "      <td>-0.014500</td>\n",
              "      <td>0.000228</td>\n",
              "      <td>0.001646</td>\n",
              "      <td>-0.009297</td>\n",
              "      <td>-0.018277</td>\n",
              "      <td>...</td>\n",
              "      <td>-0.006911</td>\n",
              "      <td>0.009572</td>\n",
              "      <td>0.023507</td>\n",
              "      <td>-0.016543</td>\n",
              "      <td>0.022391</td>\n",
              "      <td>0.015865</td>\n",
              "      <td>-0.022967</td>\n",
              "      <td>0.008603</td>\n",
              "      <td>-0.016381</td>\n",
              "      <td>4</td>\n",
              "    </tr>\n",
              "    <tr>\n",
              "      <th>478</th>\n",
              "      <td>0.006720</td>\n",
              "      <td>0.000504</td>\n",
              "      <td>-0.000810</td>\n",
              "      <td>-0.008482</td>\n",
              "      <td>0.000406</td>\n",
              "      <td>-0.001621</td>\n",
              "      <td>-0.004694</td>\n",
              "      <td>0.016920</td>\n",
              "      <td>-0.001493</td>\n",
              "      <td>-0.006307</td>\n",
              "      <td>...</td>\n",
              "      <td>0.015826</td>\n",
              "      <td>-0.009837</td>\n",
              "      <td>-0.006163</td>\n",
              "      <td>0.008073</td>\n",
              "      <td>0.000259</td>\n",
              "      <td>0.021763</td>\n",
              "      <td>0.028215</td>\n",
              "      <td>0.006540</td>\n",
              "      <td>-0.003464</td>\n",
              "      <td>3</td>\n",
              "    </tr>\n",
              "    <tr>\n",
              "      <th>479</th>\n",
              "      <td>0.029831</td>\n",
              "      <td>0.065212</td>\n",
              "      <td>-0.023432</td>\n",
              "      <td>0.001565</td>\n",
              "      <td>-0.013241</td>\n",
              "      <td>-0.012260</td>\n",
              "      <td>-0.020552</td>\n",
              "      <td>-0.017072</td>\n",
              "      <td>-0.035642</td>\n",
              "      <td>-0.007532</td>\n",
              "      <td>...</td>\n",
              "      <td>-0.002463</td>\n",
              "      <td>-0.005495</td>\n",
              "      <td>0.074171</td>\n",
              "      <td>-0.013132</td>\n",
              "      <td>-0.002844</td>\n",
              "      <td>0.004561</td>\n",
              "      <td>-0.007175</td>\n",
              "      <td>-0.013868</td>\n",
              "      <td>0.044674</td>\n",
              "      <td>2</td>\n",
              "    </tr>\n",
              "  </tbody>\n",
              "</table>\n",
              "<p>480 rows × 21 columns</p>\n",
              "</div>"
            ],
            "text/plain": [
              "       comp_0    comp_1    comp_2    comp_3    comp_4    comp_5    comp_6  \\\n",
              "0    0.030101  0.015840  0.048021 -0.024840 -0.080392  0.048466  0.009866   \n",
              "1    0.038480  0.006802  0.050434  0.048128  0.001429  0.096598  0.079098   \n",
              "2    0.058451  0.001144  0.037994 -0.060235  0.068520  0.146991  0.084107   \n",
              "3    0.045857  0.117573 -0.056693  0.012180 -0.017931  0.020668  0.063063   \n",
              "4    0.059655 -0.052693 -0.067922 -0.004119 -0.046574  0.084171  0.070593   \n",
              "..        ...       ...       ...       ...       ...       ...       ...   \n",
              "475  0.018063  0.009878  0.014739 -0.036785 -0.018146 -0.045171  0.025055   \n",
              "476  0.035360 -0.035641 -0.038032  0.000924  0.005202 -0.032945  0.006261   \n",
              "477  0.027097 -0.005664  0.010562  0.024096  0.014612 -0.014500  0.000228   \n",
              "478  0.006720  0.000504 -0.000810 -0.008482  0.000406 -0.001621 -0.004694   \n",
              "479  0.029831  0.065212 -0.023432  0.001565 -0.013241 -0.012260 -0.020552   \n",
              "\n",
              "       comp_7    comp_8    comp_9  ...   comp_11   comp_12   comp_13  \\\n",
              "0   -0.039953 -0.055951 -0.052168  ...  0.016208  0.069444  0.005903   \n",
              "1    0.037750 -0.071171 -0.004139  ...  0.054320 -0.008001 -0.027931   \n",
              "2   -0.010235  0.064614 -0.082928  ... -0.027706 -0.138201 -0.002330   \n",
              "3   -0.073067  0.029709 -0.017804  ...  0.021079  0.035363 -0.206970   \n",
              "4    0.082852  0.002462 -0.010068  ...  0.008327 -0.036575  0.080217   \n",
              "..        ...       ...       ...  ...       ...       ...       ...   \n",
              "475  0.020173  0.019070  0.022543  ... -0.004466 -0.013973 -0.005550   \n",
              "476  0.011243 -0.030811 -0.013131  ... -0.024376  0.019769  0.018956   \n",
              "477  0.001646 -0.009297 -0.018277  ... -0.006911  0.009572  0.023507   \n",
              "478  0.016920 -0.001493 -0.006307  ...  0.015826 -0.009837 -0.006163   \n",
              "479 -0.017072 -0.035642 -0.007532  ... -0.002463 -0.005495  0.074171   \n",
              "\n",
              "      comp_14   comp_15   comp_16   comp_17   comp_18   comp_19  img_index  \n",
              "0    0.012469  0.020675  0.004643  0.049457  0.014753 -0.013115          1  \n",
              "1    0.026287 -0.036285  0.048659  0.041363  0.038375  0.046362          4  \n",
              "2   -0.036743  0.046463  0.081217  0.114736  0.122188 -0.040932          3  \n",
              "3   -0.024618  0.036629 -0.054682  0.015225  0.095178 -0.131198          2  \n",
              "4   -0.074723  0.169392  0.081432  0.004952 -0.092889  0.019931          5  \n",
              "..        ...       ...       ...       ...       ...       ...        ...  \n",
              "475  0.005661 -0.021207  0.024927  0.020972  0.015728 -0.000644          1  \n",
              "476 -0.099609 -0.013644  0.002351 -0.037992 -0.000371  0.024434          5  \n",
              "477 -0.016543  0.022391  0.015865 -0.022967  0.008603 -0.016381          4  \n",
              "478  0.008073  0.000259  0.021763  0.028215  0.006540 -0.003464          3  \n",
              "479 -0.013132 -0.002844  0.004561 -0.007175 -0.013868  0.044674          2  \n",
              "\n",
              "[480 rows x 21 columns]"
            ]
          },
          "execution_count": 19,
          "metadata": {},
          "output_type": "execute_result"
        }
      ],
      "source": [
        "df_components"
      ]
    },
    {
      "cell_type": "code",
      "execution_count": 20,
      "metadata": {},
      "outputs": [
        {
          "data": {
            "text/plain": [
              "<AxesSubplot:xlabel='comp_0', ylabel='comp_1'>"
            ]
          },
          "execution_count": 20,
          "metadata": {},
          "output_type": "execute_result"
        },
        {
          "data": {
            "image/png": "[encoded data removed]",
            "text/plain": [
              "<Figure size 640x480 with 1 Axes>"
            ]
          },
          "metadata": {},
          "output_type": "display_data"
        }
      ],
      "source": [
        "sns.scatterplot(data=df_components, x='comp_0', y='comp_1', hue='img_index')"
      ]
    },
    {
      "cell_type": "markdown",
      "metadata": {},
      "source": [
        "## Support vector machines\n",
        "\n",
        "How differently do the recordings represent repeated presentations of different images? One way of answering this question is by trying to predict which image each data point is representing."
      ]
    },
    {
      "cell_type": "code",
      "execution_count": 21,
      "metadata": {},
      "outputs": [
        {
          "data": {
            "text/plain": [
              "<AxesSubplot:xlabel='comp_0', ylabel='comp_1'>"
            ]
          },
          "execution_count": 21,
          "metadata": {},
          "output_type": "execute_result"
        },
        {
          "data": {
            "image/png": "[encoded data removed]",
            "text/plain": [
              "<Figure size 640x480 with 1 Axes>"
            ]
          },
          "metadata": {},
          "output_type": "display_data"
        }
      ],
      "source": [
        "sns.scatterplot(data=df_components[np.isin(df_components['img_index'], ['3', '4'])], x='comp_0', y='comp_1', hue='img_index')"
      ]
    },
    {
      "cell_type": "markdown",
      "metadata": {},
      "source": [
        "One method for doing so is a support vector machine, which tries to draw a line that separates the two classes."
      ]
    },
    {
      "cell_type": "markdown",
      "metadata": {},
      "source": [
        "## Problem 4: Support vector machine\n",
        "\n",
        "Build a support vector machine that tries to predict whether a particular response represents image 1 or 2. Below we're extracting the responses to those two images:"
      ]
    },
    {
      "cell_type": "code",
      "execution_count": 22,
      "metadata": {},
      "outputs": [],
      "source": [
        "components_subset = components[:,np.isin(df_components['img_index'], ['3', '4'])]\n",
        "img_index_subset = df_components['img_index'][np.isin(df_components['img_index'], ['3', '4'])]"
      ]
    },
    {
      "cell_type": "code",
      "execution_count": 23,
      "metadata": {},
      "outputs": [],
      "source": [
        "train_x = components_subset[:,:150]\n",
        "train_y = img_index_subset[:150]\n",
        "test_x = components_subset[:,150:]\n",
        "test_y = img_index_subset[150:]"
      ]
    },
    {
      "cell_type": "markdown",
      "metadata": {},
      "source": [
        "As before, try to find the help page for support vector machines. You should use the class `SVC` and use a linear kernel. Copy the relevant code and try to change the important parts to it. Again, make sure that your data is in the right shape and transpose the arrays if necessary. After fitting, try to compute the accuracy of your model on the test data.\n",
        "\n",
        "**Hint:** The help page uses a pipeline (a concept we haven't gotten to in class). You can copy the entire pipeline."
      ]
    },
    {
      "cell_type": "code",
      "execution_count": 25,
      "metadata": {},
      "outputs": [],
      "source": [
        "# Fit the SVM"
      ]
    },
    {
      "cell_type": "code",
      "execution_count": 26,
      "metadata": {},
      "outputs": [],
      "source": [
        "# Compute its accuracy on the test set"
      ]
    },
    {
      "cell_type": "markdown",
      "metadata": {},
      "source": [
        "## Model assumptions\n",
        "\n",
        "Just like with any other scientific method, the assumptions underlying a particular machine learning method may not always be inappropriate (and indeed always have their drawbacks). It is therefore important to be aware of those drawbacks and even try out a few different methods to make sure whether your findings are vulnerable to a particular methodology."
      ]
    }
  ],
  "metadata": {
    "colab": {
      "provenance": []
    },
    "kernelspec": {
      "display_name": "intropython",
      "language": "python",
      "name": "python3"
    },
    "language_info": {
      "codemirror_mode": {
        "name": "ipython",
        "version": 3
      },
      "file_extension": ".py",
      "mimetype": "text/x-python",
      "name": "python",
      "nbconvert_exporter": "python",
      "pygments_lexer": "ipython3",
      "version": "3.10.6"
    }
  },
  "nbformat": 4,
  "nbformat_minor": 0
}
